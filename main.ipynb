{
 "cells": [
  {
   "cell_type": "code",
   "execution_count": null,
   "metadata": {},
   "outputs": [],
   "source": [
    "import requests\n",
    "import pandas as pd\n",
    "import seaborn as sns\n",
    "import matplotlib.pyplot as plt\n",
    "import numpy as np\n",
    "import plotly.express as px\n",
    "from dotenv import load_dotenv\n",
    "import os\n",
    "\n",
    "load_dotenv()"
   ]
  },
  {
   "cell_type": "code",
   "execution_count": null,
   "metadata": {},
   "outputs": [],
   "source": [
    "#pulling in breweries, first pull showed they paginate, so had to adjust the api request to pull in all of the pages\n",
    "brewery_api_url = \"https://api.openbrewerydb.org/v1/breweries\"\n",
    "\n",
    "all_breweries = []\n",
    "\n",
    "page = 1\n",
    "while True:\n",
    "    response = requests.get(brewery_api_url, params={\"page\": page, \"per_page\": 50})\n",
    "    brewery_data = response.json()\n",
    "    \n",
    "    if not brewery_data:\n",
    "        break\n",
    "        \n",
    "    all_breweries.extend(brewery_data)\n",
    "    \n",
    "    page += 1\n",
    "    \n",
    "brewery_df = pd.DataFrame(all_breweries)\n",
    "print(f\"Total breweries fetched: {len(brewery_df)}\")"
   ]
  },
  {
   "cell_type": "code",
   "execution_count": null,
   "metadata": {},
   "outputs": [],
   "source": [
    "#api key\n",
    "api_key = os.getenv(\"MY-API-KEY\")\n",
    "\n",
    "#api url and headers\n",
    "url = \"https://obesity-by-state.p.rapidapi.com/records\"\n",
    "headers = {\n",
    "    \"X-RapidAPI-Key\": api_key,\n",
    "    \"X-RapidAPI-Host\": \"obesity-by-state.p.rapidapi.com\"\n",
    "}\n",
    "\n",
    "# Make a request to the API\n",
    "response = requests.get(url, headers=headers)\n",
    "data = response.json()\n",
    "\n",
    "#convert api data to dataframe\n",
    "obesity_df = pd.DataFrame(data)"
   ]
  }
 ],
 "metadata": {
  "language_info": {
   "name": "python"
  }
 },
 "nbformat": 4,
 "nbformat_minor": 2
}
