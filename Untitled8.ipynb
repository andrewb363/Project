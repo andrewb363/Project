{
 "cells": [
  {
   "cell_type": "code",
   "execution_count": 1,
   "id": "7e68de50",
   "metadata": {},
   "outputs": [],
   "source": [
    "import requests\n",
    "import pandas as pd\n",
    "import seaborn as sns\n",
    "import matplotlib.pyplot as plt\n",
    "import numpy as np\n",
    "import plotly.express as px"
   ]
  },
  {
   "cell_type": "markdown",
   "id": "334ebf76",
   "metadata": {},
   "source": [
    "#Brewery API Data"
   ]
  },
  {
   "cell_type": "code",
   "execution_count": 2,
   "id": "5801f56e",
   "metadata": {},
   "outputs": [
    {
     "name": "stdout",
     "output_type": "stream",
     "text": [
      "Total breweries fetched: 8355\n"
     ]
    }
   ],
   "source": [
    "#pulling in breweries, first pull showed they paginate, so had to adjust the api request to pull in all of the pages\n",
    "brewery_api_url = \"https://api.openbrewerydb.org/v1/breweries\"\n",
    "\n",
    "all_breweries = []\n",
    "\n",
    "page = 1\n",
    "while True:\n",
    "    response = requests.get(brewery_api_url, params={\"page\": page, \"per_page\": 50})\n",
    "    brewery_data = response.json()\n",
    "    \n",
    "    if not brewery_data:\n",
    "        break\n",
    "        \n",
    "    all_breweries.extend(brewery_data)\n",
    "    \n",
    "    page += 1\n",
    "    \n",
    "brewery_df = pd.DataFrame(all_breweries)\n",
    "print(f\"Total breweries fetched: {len(brewery_df)}\")"
   ]
  },
  {
   "cell_type": "markdown",
   "id": "6b362ffa",
   "metadata": {},
   "source": [
    "#Obesity API Data"
   ]
  },
  {
   "cell_type": "code",
   "execution_count": 3,
   "id": "da3f1110",
   "metadata": {},
   "outputs": [],
   "source": [
    "#api key\n",
    "api_key = \"d32b691ec1msh862f46ebc3a6bf5p13714djsn7e14ecc3dba5\"\n",
    "\n",
    "#api url and headers\n",
    "url = \"https://obesity-by-state.p.rapidapi.com/records\"\n",
    "headers = {\n",
    "    \"X-RapidAPI-Key\": api_key,\n",
    "    \"X-RapidAPI-Host\": \"obesity-by-state.p.rapidapi.com\"\n",
    "}\n",
    "\n",
    "# Make a request to the API\n",
    "response = requests.get(url, headers=headers)\n",
    "data = response.json()\n",
    "\n",
    "#convert api data to dataframe\n",
    "obesity_df = pd.DataFrame(data)"
   ]
  },
  {
   "cell_type": "markdown",
   "id": "19c0c6de",
   "metadata": {},
   "source": [
    "#Brewery Data"
   ]
  },
  {
   "cell_type": "code",
   "execution_count": 4,
   "id": "be642a9d",
   "metadata": {},
   "outputs": [
    {
     "data": {
      "text/html": [
       "<div>\n",
       "<style scoped>\n",
       "    .dataframe tbody tr th:only-of-type {\n",
       "        vertical-align: middle;\n",
       "    }\n",
       "\n",
       "    .dataframe tbody tr th {\n",
       "        vertical-align: top;\n",
       "    }\n",
       "\n",
       "    .dataframe thead th {\n",
       "        text-align: right;\n",
       "    }\n",
       "</style>\n",
       "<table border=\"1\" class=\"dataframe\">\n",
       "  <thead>\n",
       "    <tr style=\"text-align: right;\">\n",
       "      <th></th>\n",
       "      <th>id</th>\n",
       "      <th>name</th>\n",
       "      <th>brewery_type</th>\n",
       "      <th>address_1</th>\n",
       "      <th>address_2</th>\n",
       "      <th>address_3</th>\n",
       "      <th>city</th>\n",
       "      <th>state_province</th>\n",
       "      <th>postal_code</th>\n",
       "      <th>country</th>\n",
       "      <th>longitude</th>\n",
       "      <th>latitude</th>\n",
       "      <th>phone</th>\n",
       "      <th>website_url</th>\n",
       "      <th>state</th>\n",
       "      <th>street</th>\n",
       "    </tr>\n",
       "  </thead>\n",
       "  <tbody>\n",
       "    <tr>\n",
       "      <th>0</th>\n",
       "      <td>5128df48-79fc-4f0f-8b52-d06be54d0cec</td>\n",
       "      <td>(405) Brewing Co</td>\n",
       "      <td>micro</td>\n",
       "      <td>1716 Topeka St</td>\n",
       "      <td>None</td>\n",
       "      <td>None</td>\n",
       "      <td>Norman</td>\n",
       "      <td>Oklahoma</td>\n",
       "      <td>73069-8224</td>\n",
       "      <td>United States</td>\n",
       "      <td>-97.46818222</td>\n",
       "      <td>35.25738891</td>\n",
       "      <td>4058160490</td>\n",
       "      <td>http://www.405brewing.com</td>\n",
       "      <td>Oklahoma</td>\n",
       "      <td>1716 Topeka St</td>\n",
       "    </tr>\n",
       "    <tr>\n",
       "      <th>1</th>\n",
       "      <td>9c5a66c8-cc13-416f-a5d9-0a769c87d318</td>\n",
       "      <td>(512) Brewing Co</td>\n",
       "      <td>micro</td>\n",
       "      <td>407 Radam Ln Ste F200</td>\n",
       "      <td>None</td>\n",
       "      <td>None</td>\n",
       "      <td>Austin</td>\n",
       "      <td>Texas</td>\n",
       "      <td>78745-1197</td>\n",
       "      <td>United States</td>\n",
       "      <td>None</td>\n",
       "      <td>None</td>\n",
       "      <td>5129211545</td>\n",
       "      <td>http://www.512brewing.com</td>\n",
       "      <td>Texas</td>\n",
       "      <td>407 Radam Ln Ste F200</td>\n",
       "    </tr>\n",
       "    <tr>\n",
       "      <th>2</th>\n",
       "      <td>34e8c68b-6146-453f-a4b9-1f6cd99a5ada</td>\n",
       "      <td>1 of Us Brewing Company</td>\n",
       "      <td>micro</td>\n",
       "      <td>8100 Washington Ave</td>\n",
       "      <td>None</td>\n",
       "      <td>None</td>\n",
       "      <td>Mount Pleasant</td>\n",
       "      <td>Wisconsin</td>\n",
       "      <td>53406-3920</td>\n",
       "      <td>United States</td>\n",
       "      <td>-87.88336350209435</td>\n",
       "      <td>42.72010826899558</td>\n",
       "      <td>2624847553</td>\n",
       "      <td>https://www.1ofusbrewing.com</td>\n",
       "      <td>Wisconsin</td>\n",
       "      <td>8100 Washington Ave</td>\n",
       "    </tr>\n",
       "    <tr>\n",
       "      <th>3</th>\n",
       "      <td>ef970757-fe42-416f-931d-722451f1f59c</td>\n",
       "      <td>10 Barrel Brewing Co</td>\n",
       "      <td>large</td>\n",
       "      <td>1501 E St</td>\n",
       "      <td>None</td>\n",
       "      <td>None</td>\n",
       "      <td>San Diego</td>\n",
       "      <td>California</td>\n",
       "      <td>92101-6618</td>\n",
       "      <td>United States</td>\n",
       "      <td>-117.129593</td>\n",
       "      <td>32.714813</td>\n",
       "      <td>6195782311</td>\n",
       "      <td>http://10barrel.com</td>\n",
       "      <td>California</td>\n",
       "      <td>1501 E St</td>\n",
       "    </tr>\n",
       "    <tr>\n",
       "      <th>4</th>\n",
       "      <td>6d14b220-8926-4521-8d19-b98a2d6ec3db</td>\n",
       "      <td>10 Barrel Brewing Co</td>\n",
       "      <td>large</td>\n",
       "      <td>62970 18th St</td>\n",
       "      <td>None</td>\n",
       "      <td>None</td>\n",
       "      <td>Bend</td>\n",
       "      <td>Oregon</td>\n",
       "      <td>97701-9847</td>\n",
       "      <td>United States</td>\n",
       "      <td>-121.281706</td>\n",
       "      <td>44.08683531</td>\n",
       "      <td>5415851007</td>\n",
       "      <td>http://www.10barrel.com</td>\n",
       "      <td>Oregon</td>\n",
       "      <td>62970 18th St</td>\n",
       "    </tr>\n",
       "  </tbody>\n",
       "</table>\n",
       "</div>"
      ],
      "text/plain": [
       "                                     id                     name brewery_type  \\\n",
       "0  5128df48-79fc-4f0f-8b52-d06be54d0cec         (405) Brewing Co        micro   \n",
       "1  9c5a66c8-cc13-416f-a5d9-0a769c87d318         (512) Brewing Co        micro   \n",
       "2  34e8c68b-6146-453f-a4b9-1f6cd99a5ada  1 of Us Brewing Company        micro   \n",
       "3  ef970757-fe42-416f-931d-722451f1f59c     10 Barrel Brewing Co        large   \n",
       "4  6d14b220-8926-4521-8d19-b98a2d6ec3db     10 Barrel Brewing Co        large   \n",
       "\n",
       "               address_1 address_2 address_3            city state_province  \\\n",
       "0         1716 Topeka St      None      None          Norman       Oklahoma   \n",
       "1  407 Radam Ln Ste F200      None      None          Austin          Texas   \n",
       "2    8100 Washington Ave      None      None  Mount Pleasant      Wisconsin   \n",
       "3              1501 E St      None      None       San Diego     California   \n",
       "4          62970 18th St      None      None            Bend         Oregon   \n",
       "\n",
       "  postal_code        country           longitude           latitude  \\\n",
       "0  73069-8224  United States        -97.46818222        35.25738891   \n",
       "1  78745-1197  United States                None               None   \n",
       "2  53406-3920  United States  -87.88336350209435  42.72010826899558   \n",
       "3  92101-6618  United States         -117.129593          32.714813   \n",
       "4  97701-9847  United States         -121.281706        44.08683531   \n",
       "\n",
       "        phone                   website_url       state                 street  \n",
       "0  4058160490     http://www.405brewing.com    Oklahoma         1716 Topeka St  \n",
       "1  5129211545     http://www.512brewing.com       Texas  407 Radam Ln Ste F200  \n",
       "2  2624847553  https://www.1ofusbrewing.com   Wisconsin    8100 Washington Ave  \n",
       "3  6195782311           http://10barrel.com  California              1501 E St  \n",
       "4  5415851007       http://www.10barrel.com      Oregon          62970 18th St  "
      ]
     },
     "execution_count": 4,
     "metadata": {},
     "output_type": "execute_result"
    }
   ],
   "source": [
    "#taking a quick look at the data\n",
    "brewery_df.head()"
   ]
  },
  {
   "cell_type": "code",
   "execution_count": 5,
   "id": "6fa78a53",
   "metadata": {},
   "outputs": [
    {
     "name": "stdout",
     "output_type": "stream",
     "text": [
      "<class 'pandas.core.frame.DataFrame'>\n",
      "RangeIndex: 8355 entries, 0 to 8354\n",
      "Data columns (total 16 columns):\n",
      " #   Column          Non-Null Count  Dtype \n",
      "---  ------          --------------  ----- \n",
      " 0   id              8355 non-null   object\n",
      " 1   name            8355 non-null   object\n",
      " 2   brewery_type    8355 non-null   object\n",
      " 3   address_1       7591 non-null   object\n",
      " 4   address_2       108 non-null    object\n",
      " 5   address_3       35 non-null     object\n",
      " 6   city            8355 non-null   object\n",
      " 7   state_province  8355 non-null   object\n",
      " 8   postal_code     8355 non-null   object\n",
      " 9   country         8355 non-null   object\n",
      " 10  longitude       6027 non-null   object\n",
      " 11  latitude        6027 non-null   object\n",
      " 12  phone           7504 non-null   object\n",
      " 13  website_url     7166 non-null   object\n",
      " 14  state           8355 non-null   object\n",
      " 15  street          7591 non-null   object\n",
      "dtypes: object(16)\n",
      "memory usage: 1.0+ MB\n"
     ]
    },
    {
     "data": {
      "text/plain": [
       "Index(['id', 'name', 'brewery_type', 'address_1', 'address_2', 'address_3',\n",
       "       'city', 'state_province', 'postal_code', 'country', 'longitude',\n",
       "       'latitude', 'phone', 'website_url', 'state', 'street'],\n",
       "      dtype='object')"
      ]
     },
     "execution_count": 5,
     "metadata": {},
     "output_type": "execute_result"
    }
   ],
   "source": [
    "#checking for nulls and all of the columns for the dataframe\n",
    "brewery_df.info()\n",
    "brewery_df.columns"
   ]
  },
  {
   "cell_type": "code",
   "execution_count": 6,
   "id": "3cf9518c",
   "metadata": {},
   "outputs": [
    {
     "name": "stdout",
     "output_type": "stream",
     "text": [
      "<class 'pandas.core.frame.DataFrame'>\n",
      "Index: 8031 entries, 0 to 8296\n",
      "Data columns (total 16 columns):\n",
      " #   Column          Non-Null Count  Dtype \n",
      "---  ------          --------------  ----- \n",
      " 0   id              8031 non-null   object\n",
      " 1   name            8031 non-null   object\n",
      " 2   brewery_type    8031 non-null   object\n",
      " 3   address_1       7267 non-null   object\n",
      " 4   address_2       7 non-null      object\n",
      " 5   address_3       0 non-null      object\n",
      " 6   city            8031 non-null   object\n",
      " 7   state_province  8031 non-null   object\n",
      " 8   postal_code     8031 non-null   object\n",
      " 9   country         8031 non-null   object\n",
      " 10  longitude       5709 non-null   object\n",
      " 11  latitude        5709 non-null   object\n",
      " 12  phone           7236 non-null   object\n",
      " 13  website_url     6903 non-null   object\n",
      " 14  state           8031 non-null   object\n",
      " 15  street          7267 non-null   object\n",
      "dtypes: object(16)\n",
      "memory usage: 1.0+ MB\n"
     ]
    }
   ],
   "source": [
    "#making sure we only use US breweries\n",
    "us_brewery_df = brewery_df[brewery_df['country'] == 'United States']\n",
    "\n",
    "#checking for nulls and columns\n",
    "us_brewery_df.info()"
   ]
  },
  {
   "cell_type": "code",
   "execution_count": 7,
   "id": "701d954f",
   "metadata": {},
   "outputs": [
    {
     "data": {
      "text/html": [
       "<div>\n",
       "<style scoped>\n",
       "    .dataframe tbody tr th:only-of-type {\n",
       "        vertical-align: middle;\n",
       "    }\n",
       "\n",
       "    .dataframe tbody tr th {\n",
       "        vertical-align: top;\n",
       "    }\n",
       "\n",
       "    .dataframe thead th {\n",
       "        text-align: right;\n",
       "    }\n",
       "</style>\n",
       "<table border=\"1\" class=\"dataframe\">\n",
       "  <thead>\n",
       "    <tr style=\"text-align: right;\">\n",
       "      <th></th>\n",
       "      <th>id</th>\n",
       "      <th>name</th>\n",
       "      <th>brewery_type</th>\n",
       "      <th>address_1</th>\n",
       "      <th>address_2</th>\n",
       "      <th>address_3</th>\n",
       "      <th>city</th>\n",
       "      <th>state_province</th>\n",
       "      <th>postal_code</th>\n",
       "      <th>country</th>\n",
       "      <th>longitude</th>\n",
       "      <th>latitude</th>\n",
       "      <th>phone</th>\n",
       "      <th>website_url</th>\n",
       "      <th>state</th>\n",
       "      <th>street</th>\n",
       "    </tr>\n",
       "  </thead>\n",
       "  <tbody>\n",
       "    <tr>\n",
       "      <th>0</th>\n",
       "      <td>5128df48-79fc-4f0f-8b52-d06be54d0cec</td>\n",
       "      <td>(405) Brewing Co</td>\n",
       "      <td>micro</td>\n",
       "      <td>1716 Topeka St</td>\n",
       "      <td>None</td>\n",
       "      <td>None</td>\n",
       "      <td>Norman</td>\n",
       "      <td>Oklahoma</td>\n",
       "      <td>73069-8224</td>\n",
       "      <td>United States</td>\n",
       "      <td>-97.46818222</td>\n",
       "      <td>35.25738891</td>\n",
       "      <td>4058160490</td>\n",
       "      <td>http://www.405brewing.com</td>\n",
       "      <td>Oklahoma</td>\n",
       "      <td>1716 Topeka St</td>\n",
       "    </tr>\n",
       "    <tr>\n",
       "      <th>1</th>\n",
       "      <td>9c5a66c8-cc13-416f-a5d9-0a769c87d318</td>\n",
       "      <td>(512) Brewing Co</td>\n",
       "      <td>micro</td>\n",
       "      <td>407 Radam Ln Ste F200</td>\n",
       "      <td>None</td>\n",
       "      <td>None</td>\n",
       "      <td>Austin</td>\n",
       "      <td>Texas</td>\n",
       "      <td>78745-1197</td>\n",
       "      <td>United States</td>\n",
       "      <td>None</td>\n",
       "      <td>None</td>\n",
       "      <td>5129211545</td>\n",
       "      <td>http://www.512brewing.com</td>\n",
       "      <td>Texas</td>\n",
       "      <td>407 Radam Ln Ste F200</td>\n",
       "    </tr>\n",
       "    <tr>\n",
       "      <th>2</th>\n",
       "      <td>34e8c68b-6146-453f-a4b9-1f6cd99a5ada</td>\n",
       "      <td>1 of Us Brewing Company</td>\n",
       "      <td>micro</td>\n",
       "      <td>8100 Washington Ave</td>\n",
       "      <td>None</td>\n",
       "      <td>None</td>\n",
       "      <td>Mount Pleasant</td>\n",
       "      <td>Wisconsin</td>\n",
       "      <td>53406-3920</td>\n",
       "      <td>United States</td>\n",
       "      <td>-87.88336350209435</td>\n",
       "      <td>42.72010826899558</td>\n",
       "      <td>2624847553</td>\n",
       "      <td>https://www.1ofusbrewing.com</td>\n",
       "      <td>Wisconsin</td>\n",
       "      <td>8100 Washington Ave</td>\n",
       "    </tr>\n",
       "    <tr>\n",
       "      <th>3</th>\n",
       "      <td>ef970757-fe42-416f-931d-722451f1f59c</td>\n",
       "      <td>10 Barrel Brewing Co</td>\n",
       "      <td>large</td>\n",
       "      <td>1501 E St</td>\n",
       "      <td>None</td>\n",
       "      <td>None</td>\n",
       "      <td>San Diego</td>\n",
       "      <td>California</td>\n",
       "      <td>92101-6618</td>\n",
       "      <td>United States</td>\n",
       "      <td>-117.129593</td>\n",
       "      <td>32.714813</td>\n",
       "      <td>6195782311</td>\n",
       "      <td>http://10barrel.com</td>\n",
       "      <td>California</td>\n",
       "      <td>1501 E St</td>\n",
       "    </tr>\n",
       "    <tr>\n",
       "      <th>4</th>\n",
       "      <td>6d14b220-8926-4521-8d19-b98a2d6ec3db</td>\n",
       "      <td>10 Barrel Brewing Co</td>\n",
       "      <td>large</td>\n",
       "      <td>62970 18th St</td>\n",
       "      <td>None</td>\n",
       "      <td>None</td>\n",
       "      <td>Bend</td>\n",
       "      <td>Oregon</td>\n",
       "      <td>97701-9847</td>\n",
       "      <td>United States</td>\n",
       "      <td>-121.281706</td>\n",
       "      <td>44.08683531</td>\n",
       "      <td>5415851007</td>\n",
       "      <td>http://www.10barrel.com</td>\n",
       "      <td>Oregon</td>\n",
       "      <td>62970 18th St</td>\n",
       "    </tr>\n",
       "    <tr>\n",
       "      <th>5</th>\n",
       "      <td>e2e78bd8-80ff-4a61-a65c-3bfbd9d76ce2</td>\n",
       "      <td>10 Barrel Brewing Co</td>\n",
       "      <td>large</td>\n",
       "      <td>1135 NW Galveston Ave Ste B</td>\n",
       "      <td>None</td>\n",
       "      <td>None</td>\n",
       "      <td>Bend</td>\n",
       "      <td>Oregon</td>\n",
       "      <td>97703-2465</td>\n",
       "      <td>United States</td>\n",
       "      <td>-121.3288021</td>\n",
       "      <td>44.0575649</td>\n",
       "      <td>5415851007</td>\n",
       "      <td>None</td>\n",
       "      <td>Oregon</td>\n",
       "      <td>1135 NW Galveston Ave Ste B</td>\n",
       "    </tr>\n",
       "    <tr>\n",
       "      <th>6</th>\n",
       "      <td>e432899b-7f58-455f-9c7b-9a6e2130a1e0</td>\n",
       "      <td>10 Barrel Brewing Co</td>\n",
       "      <td>large</td>\n",
       "      <td>1411 NW Flanders St</td>\n",
       "      <td>None</td>\n",
       "      <td>None</td>\n",
       "      <td>Portland</td>\n",
       "      <td>Oregon</td>\n",
       "      <td>97209-2620</td>\n",
       "      <td>United States</td>\n",
       "      <td>-122.6855056</td>\n",
       "      <td>45.5259786</td>\n",
       "      <td>5032241700</td>\n",
       "      <td>http://www.10barrel.com</td>\n",
       "      <td>Oregon</td>\n",
       "      <td>1411 NW Flanders St</td>\n",
       "    </tr>\n",
       "    <tr>\n",
       "      <th>7</th>\n",
       "      <td>9f1852da-c312-42da-9a31-097bac81c4c0</td>\n",
       "      <td>10 Barrel Brewing Co - Bend Pub</td>\n",
       "      <td>large</td>\n",
       "      <td>62950 NE 18th St</td>\n",
       "      <td>None</td>\n",
       "      <td>None</td>\n",
       "      <td>Bend</td>\n",
       "      <td>Oregon</td>\n",
       "      <td>97701</td>\n",
       "      <td>United States</td>\n",
       "      <td>-121.2809536</td>\n",
       "      <td>44.0912109</td>\n",
       "      <td>5415851007</td>\n",
       "      <td>None</td>\n",
       "      <td>Oregon</td>\n",
       "      <td>62950 NE 18th St</td>\n",
       "    </tr>\n",
       "    <tr>\n",
       "      <th>8</th>\n",
       "      <td>ea4f30c0-bce6-416b-8904-fab4055a7362</td>\n",
       "      <td>10 Barrel Brewing Co - Boise</td>\n",
       "      <td>large</td>\n",
       "      <td>826 W Bannock St</td>\n",
       "      <td>None</td>\n",
       "      <td>None</td>\n",
       "      <td>Boise</td>\n",
       "      <td>Idaho</td>\n",
       "      <td>83702-5857</td>\n",
       "      <td>United States</td>\n",
       "      <td>-116.202929</td>\n",
       "      <td>43.618516</td>\n",
       "      <td>2083445870</td>\n",
       "      <td>http://www.10barrel.com</td>\n",
       "      <td>Idaho</td>\n",
       "      <td>826 W Bannock St</td>\n",
       "    </tr>\n",
       "    <tr>\n",
       "      <th>9</th>\n",
       "      <td>1988eb86-f0a2-4674-ba04-02454efa0d31</td>\n",
       "      <td>10 Barrel Brewing Co - Denver</td>\n",
       "      <td>large</td>\n",
       "      <td>2620 Walnut St</td>\n",
       "      <td>None</td>\n",
       "      <td>None</td>\n",
       "      <td>Denver</td>\n",
       "      <td>Colorado</td>\n",
       "      <td>80205-2231</td>\n",
       "      <td>United States</td>\n",
       "      <td>-104.9853655</td>\n",
       "      <td>39.7592508</td>\n",
       "      <td>7205738992</td>\n",
       "      <td>None</td>\n",
       "      <td>Colorado</td>\n",
       "      <td>2620 Walnut St</td>\n",
       "    </tr>\n",
       "    <tr>\n",
       "      <th>10</th>\n",
       "      <td>1ecc330f-6275-42a5-b14e-00adbed62752</td>\n",
       "      <td>10 Torr Distilling and Brewing</td>\n",
       "      <td>micro</td>\n",
       "      <td>490 Mill St</td>\n",
       "      <td>None</td>\n",
       "      <td>None</td>\n",
       "      <td>Reno</td>\n",
       "      <td>Nevada</td>\n",
       "      <td>89502</td>\n",
       "      <td>United States</td>\n",
       "      <td>-119.7732015</td>\n",
       "      <td>39.5171702</td>\n",
       "      <td>7755307014</td>\n",
       "      <td>http://www.10torr.com</td>\n",
       "      <td>Nevada</td>\n",
       "      <td>490 Mill St</td>\n",
       "    </tr>\n",
       "    <tr>\n",
       "      <th>11</th>\n",
       "      <td>7531dbd8-afc9-4b5b-95bc-7ece7f2c0bf3</td>\n",
       "      <td>10-56 Brewing Company</td>\n",
       "      <td>micro</td>\n",
       "      <td>400 Brown Cir</td>\n",
       "      <td>None</td>\n",
       "      <td>None</td>\n",
       "      <td>Knox</td>\n",
       "      <td>Indiana</td>\n",
       "      <td>46534</td>\n",
       "      <td>United States</td>\n",
       "      <td>-86.627954</td>\n",
       "      <td>41.289715</td>\n",
       "      <td>6308165790</td>\n",
       "      <td>None</td>\n",
       "      <td>Indiana</td>\n",
       "      <td>400 Brown Cir</td>\n",
       "    </tr>\n",
       "    <tr>\n",
       "      <th>12</th>\n",
       "      <td>5ae467af-66dc-4d7f-8839-44228f89b596</td>\n",
       "      <td>101 North Brewing Company</td>\n",
       "      <td>closed</td>\n",
       "      <td>1304 Scott St Ste D</td>\n",
       "      <td>None</td>\n",
       "      <td>None</td>\n",
       "      <td>Petaluma</td>\n",
       "      <td>California</td>\n",
       "      <td>94954-7100</td>\n",
       "      <td>United States</td>\n",
       "      <td>-122.665055</td>\n",
       "      <td>38.27029381</td>\n",
       "      <td>7077534934</td>\n",
       "      <td>http://www.101northbeer.com</td>\n",
       "      <td>California</td>\n",
       "      <td>1304 Scott St Ste D</td>\n",
       "    </tr>\n",
       "    <tr>\n",
       "      <th>13</th>\n",
       "      <td>4ffda196-dd59-44a5-9eeb-5f7fd4b58f5a</td>\n",
       "      <td>105 West Brewing Co</td>\n",
       "      <td>micro</td>\n",
       "      <td>1043 Park St</td>\n",
       "      <td>None</td>\n",
       "      <td>None</td>\n",
       "      <td>Castle Rock</td>\n",
       "      <td>Colorado</td>\n",
       "      <td>80109-1585</td>\n",
       "      <td>United States</td>\n",
       "      <td>-104.8667206</td>\n",
       "      <td>39.38269495</td>\n",
       "      <td>3033257321</td>\n",
       "      <td>http://www.105westbrewing.com</td>\n",
       "      <td>Colorado</td>\n",
       "      <td>1043 Park St</td>\n",
       "    </tr>\n",
       "    <tr>\n",
       "      <th>14</th>\n",
       "      <td>42aa37d5-8384-4ffe-8c81-7c982eff0384</td>\n",
       "      <td>10K Brewing</td>\n",
       "      <td>micro</td>\n",
       "      <td>2005 2nd Ave</td>\n",
       "      <td>None</td>\n",
       "      <td>None</td>\n",
       "      <td>Anoka</td>\n",
       "      <td>Minnesota</td>\n",
       "      <td>55303-2243</td>\n",
       "      <td>United States</td>\n",
       "      <td>-93.38952559</td>\n",
       "      <td>45.19812039</td>\n",
       "      <td>7633924753</td>\n",
       "      <td>http://10KBrew.com</td>\n",
       "      <td>Minnesota</td>\n",
       "      <td>2005 2nd Ave</td>\n",
       "    </tr>\n",
       "    <tr>\n",
       "      <th>15</th>\n",
       "      <td>232e8f62-9afc-45f5-b4bc-582c26b5c43b</td>\n",
       "      <td>10th District Brewing Company</td>\n",
       "      <td>micro</td>\n",
       "      <td>491 Washington St</td>\n",
       "      <td>None</td>\n",
       "      <td>None</td>\n",
       "      <td>Abington</td>\n",
       "      <td>Massachusetts</td>\n",
       "      <td>02351-2419</td>\n",
       "      <td>United States</td>\n",
       "      <td>-70.94594149</td>\n",
       "      <td>42.10591754</td>\n",
       "      <td>7813071554</td>\n",
       "      <td>http://www.10thdistrictbrewing.com</td>\n",
       "      <td>Massachusetts</td>\n",
       "      <td>491 Washington St</td>\n",
       "    </tr>\n",
       "    <tr>\n",
       "      <th>16</th>\n",
       "      <td>08f78223-24f8-4b71-b381-ea19a5bd82df</td>\n",
       "      <td>11 Below Brewing Company</td>\n",
       "      <td>micro</td>\n",
       "      <td>6820 Bourgeois Rd</td>\n",
       "      <td>None</td>\n",
       "      <td>None</td>\n",
       "      <td>Houston</td>\n",
       "      <td>Texas</td>\n",
       "      <td>77066-3107</td>\n",
       "      <td>United States</td>\n",
       "      <td>-95.5186591</td>\n",
       "      <td>29.9515464</td>\n",
       "      <td>2814442337</td>\n",
       "      <td>http://www.11belowbrewing.com</td>\n",
       "      <td>Texas</td>\n",
       "      <td>6820 Bourgeois Rd</td>\n",
       "    </tr>\n",
       "    <tr>\n",
       "      <th>17</th>\n",
       "      <td>58293321-14ae-49d7-9a7b-08436c9e63a6</td>\n",
       "      <td>1188 Brewing Co</td>\n",
       "      <td>brewpub</td>\n",
       "      <td>141 E Main St</td>\n",
       "      <td>None</td>\n",
       "      <td>None</td>\n",
       "      <td>John Day</td>\n",
       "      <td>Oregon</td>\n",
       "      <td>97845-1210</td>\n",
       "      <td>United States</td>\n",
       "      <td>-118.9218754</td>\n",
       "      <td>44.4146563</td>\n",
       "      <td>5415751188</td>\n",
       "      <td>http://www.1188brewing.com</td>\n",
       "      <td>Oregon</td>\n",
       "      <td>141 E Main St</td>\n",
       "    </tr>\n",
       "    <tr>\n",
       "      <th>19</th>\n",
       "      <td>d81ff708-b5d2-478f-af6a-6d40f5beb9ac</td>\n",
       "      <td>12 Gates Brewing Company</td>\n",
       "      <td>brewpub</td>\n",
       "      <td>80 Earhart Dr Ste 20</td>\n",
       "      <td>None</td>\n",
       "      <td>None</td>\n",
       "      <td>Williamsville</td>\n",
       "      <td>New York</td>\n",
       "      <td>14221-7804</td>\n",
       "      <td>United States</td>\n",
       "      <td>None</td>\n",
       "      <td>None</td>\n",
       "      <td>7169066600</td>\n",
       "      <td>http://www.12gatesbrewing.com</td>\n",
       "      <td>New York</td>\n",
       "      <td>80 Earhart Dr Ste 20</td>\n",
       "    </tr>\n",
       "    <tr>\n",
       "      <th>20</th>\n",
       "      <td>fb94830f-6196-4f59-9189-c9060b778085</td>\n",
       "      <td>12 West Brewing Company</td>\n",
       "      <td>micro</td>\n",
       "      <td>3000 E Ray Rd Bldg 6</td>\n",
       "      <td>None</td>\n",
       "      <td>None</td>\n",
       "      <td>Gilbert</td>\n",
       "      <td>Arizona</td>\n",
       "      <td>85296-7832</td>\n",
       "      <td>United States</td>\n",
       "      <td>None</td>\n",
       "      <td>None</td>\n",
       "      <td>6023395014</td>\n",
       "      <td>http://www.12westbrewing.com</td>\n",
       "      <td>Arizona</td>\n",
       "      <td>3000 E Ray Rd Bldg 6</td>\n",
       "    </tr>\n",
       "    <tr>\n",
       "      <th>21</th>\n",
       "      <td>0faa0fb2-fffa-416d-9eab-46f67477c8ef</td>\n",
       "      <td>12 West Brewing Company - Production Facility</td>\n",
       "      <td>micro</td>\n",
       "      <td>None</td>\n",
       "      <td>None</td>\n",
       "      <td>None</td>\n",
       "      <td>Mesa</td>\n",
       "      <td>Arizona</td>\n",
       "      <td>85207</td>\n",
       "      <td>United States</td>\n",
       "      <td>-111.5860662</td>\n",
       "      <td>33.436188</td>\n",
       "      <td>None</td>\n",
       "      <td>None</td>\n",
       "      <td>Arizona</td>\n",
       "      <td>None</td>\n",
       "    </tr>\n",
       "    <tr>\n",
       "      <th>22</th>\n",
       "      <td>e54c2f02-acd6-4172-861d-fcfa54c8701a</td>\n",
       "      <td>122 West Brewing Co</td>\n",
       "      <td>closed</td>\n",
       "      <td>2416 Meridian St</td>\n",
       "      <td>None</td>\n",
       "      <td>None</td>\n",
       "      <td>Bellingham</td>\n",
       "      <td>Washington</td>\n",
       "      <td>98225-2405</td>\n",
       "      <td>United States</td>\n",
       "      <td>-122.485982</td>\n",
       "      <td>48.7621709</td>\n",
       "      <td>3603063285</td>\n",
       "      <td>https://www.122westbrew.com/</td>\n",
       "      <td>Washington</td>\n",
       "      <td>2416 Meridian St</td>\n",
       "    </tr>\n",
       "    <tr>\n",
       "      <th>23</th>\n",
       "      <td>d5cb896d-3e99-4e19-9693-5e06ce987e53</td>\n",
       "      <td>127 Brewing</td>\n",
       "      <td>micro</td>\n",
       "      <td>3090 Shirley Dr</td>\n",
       "      <td>None</td>\n",
       "      <td>None</td>\n",
       "      <td>Jackson</td>\n",
       "      <td>Michigan</td>\n",
       "      <td>49201-7010</td>\n",
       "      <td>United States</td>\n",
       "      <td>-84.43116792</td>\n",
       "      <td>42.28667212</td>\n",
       "      <td>5172581346</td>\n",
       "      <td>None</td>\n",
       "      <td>Michigan</td>\n",
       "      <td>3090 Shirley Dr</td>\n",
       "    </tr>\n",
       "    <tr>\n",
       "      <th>24</th>\n",
       "      <td>06e9fffb-e820-45c9-b107-b52b51013e8f</td>\n",
       "      <td>12Degree Brewing</td>\n",
       "      <td>brewpub</td>\n",
       "      <td>820 Main St</td>\n",
       "      <td>None</td>\n",
       "      <td>None</td>\n",
       "      <td>Louisville</td>\n",
       "      <td>Colorado</td>\n",
       "      <td>80027-1865</td>\n",
       "      <td>United States</td>\n",
       "      <td>-105.1319826</td>\n",
       "      <td>39.9782443</td>\n",
       "      <td>3035791004</td>\n",
       "      <td>http://www.12degree.com</td>\n",
       "      <td>Colorado</td>\n",
       "      <td>820 Main St</td>\n",
       "    </tr>\n",
       "    <tr>\n",
       "      <th>25</th>\n",
       "      <td>50521ef7-f543-4c5d-98b1-0d0ee1a2be01</td>\n",
       "      <td>12welve Eyes Brewing</td>\n",
       "      <td>micro</td>\n",
       "      <td>141 E 4th St Ste LL2</td>\n",
       "      <td>None</td>\n",
       "      <td>None</td>\n",
       "      <td>Saint Paul</td>\n",
       "      <td>Minnesota</td>\n",
       "      <td>55101-1639</td>\n",
       "      <td>United States</td>\n",
       "      <td>None</td>\n",
       "      <td>None</td>\n",
       "      <td>6514938106</td>\n",
       "      <td>http://www.12welveEyes.com</td>\n",
       "      <td>Minnesota</td>\n",
       "      <td>141 E 4th St Ste LL2</td>\n",
       "    </tr>\n",
       "    <tr>\n",
       "      <th>26</th>\n",
       "      <td>950180bd-29c9-46b3-ad0c-e6f09799ec7f</td>\n",
       "      <td>13 Below Brewery</td>\n",
       "      <td>micro</td>\n",
       "      <td>7391 Forbes Rd</td>\n",
       "      <td>None</td>\n",
       "      <td>None</td>\n",
       "      <td>Cincinnati</td>\n",
       "      <td>Ohio</td>\n",
       "      <td>45233-1013</td>\n",
       "      <td>United States</td>\n",
       "      <td>-84.70634815</td>\n",
       "      <td>39.12639764</td>\n",
       "      <td>5139750613</td>\n",
       "      <td>http://www.13belowbrewery.com</td>\n",
       "      <td>Ohio</td>\n",
       "      <td>7391 Forbes Rd</td>\n",
       "    </tr>\n",
       "    <tr>\n",
       "      <th>27</th>\n",
       "      <td>45119c56-345b-4adc-b481-c5cf7bfe98c4</td>\n",
       "      <td>13 Stripes Brewery</td>\n",
       "      <td>brewpub</td>\n",
       "      <td>250 Mill St, Suite PW3101</td>\n",
       "      <td>None</td>\n",
       "      <td>None</td>\n",
       "      <td>Taylors</td>\n",
       "      <td>South Carolina</td>\n",
       "      <td>29687</td>\n",
       "      <td>United States</td>\n",
       "      <td>None</td>\n",
       "      <td>None</td>\n",
       "      <td>8643491430</td>\n",
       "      <td>http://www.13StripesBrewery.com</td>\n",
       "      <td>South Carolina</td>\n",
       "      <td>250 Mill St, Suite PW3101</td>\n",
       "    </tr>\n",
       "    <tr>\n",
       "      <th>28</th>\n",
       "      <td>936c3d7e-5d54-4459-b72c-117cdda059b4</td>\n",
       "      <td>13 Virtues Brewing Co</td>\n",
       "      <td>brewpub</td>\n",
       "      <td>6410 SE Milwaukie Ave</td>\n",
       "      <td>None</td>\n",
       "      <td>None</td>\n",
       "      <td>Portland</td>\n",
       "      <td>Oregon</td>\n",
       "      <td>97202-5518</td>\n",
       "      <td>United States</td>\n",
       "      <td>-122.6487531</td>\n",
       "      <td>45.4762536</td>\n",
       "      <td>5032393831</td>\n",
       "      <td>http://www.13virtuesbrewing.com</td>\n",
       "      <td>Oregon</td>\n",
       "      <td>6410 SE Milwaukie Ave</td>\n",
       "    </tr>\n",
       "    <tr>\n",
       "      <th>29</th>\n",
       "      <td>5c53b314-ebab-4e3e-89be-e4139d9318ae</td>\n",
       "      <td>1323 R &amp; D</td>\n",
       "      <td>micro</td>\n",
       "      <td>1323 Capital Blvd 1323 R and D</td>\n",
       "      <td>None</td>\n",
       "      <td>None</td>\n",
       "      <td>Raleigh</td>\n",
       "      <td>North Carolina</td>\n",
       "      <td>27603-1117</td>\n",
       "      <td>United States</td>\n",
       "      <td>None</td>\n",
       "      <td>None</td>\n",
       "      <td>9199775654</td>\n",
       "      <td>http://www.1323rnd.com</td>\n",
       "      <td>North Carolina</td>\n",
       "      <td>1323 Capital Blvd 1323 R and D</td>\n",
       "    </tr>\n",
       "    <tr>\n",
       "      <th>30</th>\n",
       "      <td>4788221a-a03b-458c-9084-4cadd69ade6d</td>\n",
       "      <td>14 Cannons Brewing Company</td>\n",
       "      <td>micro</td>\n",
       "      <td>31125 Via Colinas Ste 907</td>\n",
       "      <td>None</td>\n",
       "      <td>None</td>\n",
       "      <td>Westlake Village</td>\n",
       "      <td>California</td>\n",
       "      <td>91362-3974</td>\n",
       "      <td>United States</td>\n",
       "      <td>-118.802397</td>\n",
       "      <td>34.15334</td>\n",
       "      <td>8186996165</td>\n",
       "      <td>http://14cannons.com</td>\n",
       "      <td>California</td>\n",
       "      <td>31125 Via Colinas Ste 907</td>\n",
       "    </tr>\n",
       "    <tr>\n",
       "      <th>31</th>\n",
       "      <td>b7b68d22-5045-4501-b9bf-ec94946eaffc</td>\n",
       "      <td>14 Lakes Brewery</td>\n",
       "      <td>micro</td>\n",
       "      <td>None</td>\n",
       "      <td>None</td>\n",
       "      <td>None</td>\n",
       "      <td>Crosslake</td>\n",
       "      <td>Minnesota</td>\n",
       "      <td>56442</td>\n",
       "      <td>United States</td>\n",
       "      <td>None</td>\n",
       "      <td>None</td>\n",
       "      <td>2186924129</td>\n",
       "      <td>None</td>\n",
       "      <td>Minnesota</td>\n",
       "      <td>None</td>\n",
       "    </tr>\n",
       "    <tr>\n",
       "      <th>32</th>\n",
       "      <td>4b677b60-fef1-42e2-90ef-dadc1bd7fb06</td>\n",
       "      <td>14er Brewing Company</td>\n",
       "      <td>proprietor</td>\n",
       "      <td>2801 Walnut St</td>\n",
       "      <td>None</td>\n",
       "      <td>None</td>\n",
       "      <td>Denver</td>\n",
       "      <td>Colorado</td>\n",
       "      <td>80205-2235</td>\n",
       "      <td>United States</td>\n",
       "      <td>-104.9839636</td>\n",
       "      <td>39.7614112</td>\n",
       "      <td>7207731437</td>\n",
       "      <td>http://www.14erBrewing.com</td>\n",
       "      <td>Colorado</td>\n",
       "      <td>2801 Walnut St</td>\n",
       "    </tr>\n",
       "    <tr>\n",
       "      <th>33</th>\n",
       "      <td>6c53984f-fac1-4ea7-9c44-44e25897c71a</td>\n",
       "      <td>14th Star Brewing</td>\n",
       "      <td>micro</td>\n",
       "      <td>133 N Main St Ste 7</td>\n",
       "      <td>None</td>\n",
       "      <td>None</td>\n",
       "      <td>Saint Albans</td>\n",
       "      <td>Vermont</td>\n",
       "      <td>05478-1735</td>\n",
       "      <td>United States</td>\n",
       "      <td>None</td>\n",
       "      <td>None</td>\n",
       "      <td>8025285988</td>\n",
       "      <td>http://www.14thstarbrewing.com</td>\n",
       "      <td>Vermont</td>\n",
       "      <td>133 N Main St Ste 7</td>\n",
       "    </tr>\n",
       "    <tr>\n",
       "      <th>34</th>\n",
       "      <td>85192a9c-58a4-48c3-bd9d-496d09d22aa3</td>\n",
       "      <td>16 Lots Brewing</td>\n",
       "      <td>brewpub</td>\n",
       "      <td>753 Reading Rd</td>\n",
       "      <td>None</td>\n",
       "      <td>None</td>\n",
       "      <td>Mason</td>\n",
       "      <td>Ohio</td>\n",
       "      <td>45040-1303</td>\n",
       "      <td>United States</td>\n",
       "      <td>-84.3183801</td>\n",
       "      <td>39.3545967</td>\n",
       "      <td>5134863672</td>\n",
       "      <td>http://www.16lots.com</td>\n",
       "      <td>Ohio</td>\n",
       "      <td>753 Reading Rd</td>\n",
       "    </tr>\n",
       "    <tr>\n",
       "      <th>35</th>\n",
       "      <td>284b44f8-6ccb-4cd6-8d06-f2ad882a47c3</td>\n",
       "      <td>16 Mile Brewing Co</td>\n",
       "      <td>micro</td>\n",
       "      <td>413 S Bedford St</td>\n",
       "      <td>None</td>\n",
       "      <td>None</td>\n",
       "      <td>Georgetown</td>\n",
       "      <td>Delaware</td>\n",
       "      <td>19947-1849</td>\n",
       "      <td>United States</td>\n",
       "      <td>-75.37816436</td>\n",
       "      <td>38.6788938</td>\n",
       "      <td>3022538816</td>\n",
       "      <td>http://www.16milebrewery.com</td>\n",
       "      <td>Delaware</td>\n",
       "      <td>413 S Bedford St</td>\n",
       "    </tr>\n",
       "    <tr>\n",
       "      <th>36</th>\n",
       "      <td>ee6d39c6-092f-4623-8099-5b8643f70dbe</td>\n",
       "      <td>16 Stone Brewpub</td>\n",
       "      <td>brewpub</td>\n",
       "      <td>9542 Main St</td>\n",
       "      <td>None</td>\n",
       "      <td>None</td>\n",
       "      <td>Holland Patent</td>\n",
       "      <td>New York</td>\n",
       "      <td>13354</td>\n",
       "      <td>United States</td>\n",
       "      <td>-75.2565195</td>\n",
       "      <td>43.24211175</td>\n",
       "      <td>3158658500</td>\n",
       "      <td>http://www.16stonebrewpub.com</td>\n",
       "      <td>New York</td>\n",
       "      <td>9542 Main St</td>\n",
       "    </tr>\n",
       "    <tr>\n",
       "      <th>37</th>\n",
       "      <td>d35b40b0-a3ff-4878-a6ee-9caa2149b521</td>\n",
       "      <td>1623 Brewing CO, llc</td>\n",
       "      <td>contract</td>\n",
       "      <td>1146 colonel Joshua Ct</td>\n",
       "      <td>None</td>\n",
       "      <td>None</td>\n",
       "      <td>Westminister</td>\n",
       "      <td>Maryland</td>\n",
       "      <td>21157</td>\n",
       "      <td>United States</td>\n",
       "      <td>None</td>\n",
       "      <td>None</td>\n",
       "      <td>None</td>\n",
       "      <td>None</td>\n",
       "      <td>Maryland</td>\n",
       "      <td>1146 colonel Joshua Ct</td>\n",
       "    </tr>\n",
       "    <tr>\n",
       "      <th>38</th>\n",
       "      <td>84bd3b3c-bd2d-4e07-bc31-b43a8c8ebf4c</td>\n",
       "      <td>1717 Brewing Co</td>\n",
       "      <td>micro</td>\n",
       "      <td>322 E Court Ave</td>\n",
       "      <td>None</td>\n",
       "      <td>None</td>\n",
       "      <td>Des Moines</td>\n",
       "      <td>Iowa</td>\n",
       "      <td>50309-2015</td>\n",
       "      <td>United States</td>\n",
       "      <td>-93.6120353</td>\n",
       "      <td>41.5872267</td>\n",
       "      <td>5152437868</td>\n",
       "      <td>http://1717brewing.com</td>\n",
       "      <td>Iowa</td>\n",
       "      <td>322 E Court Ave</td>\n",
       "    </tr>\n",
       "    <tr>\n",
       "      <th>39</th>\n",
       "      <td>f41a0c47-ba9b-4547-bfed-fcbefe0fc74b</td>\n",
       "      <td>1718 Ocracoke Brewing</td>\n",
       "      <td>brewpub</td>\n",
       "      <td>1129 Irvin Garrish Hwy</td>\n",
       "      <td>None</td>\n",
       "      <td>None</td>\n",
       "      <td>Ocracoke</td>\n",
       "      <td>North Carolina</td>\n",
       "      <td>27960</td>\n",
       "      <td>United States</td>\n",
       "      <td>-75.97176063</td>\n",
       "      <td>35.10715368</td>\n",
       "      <td>2529282337</td>\n",
       "      <td>http://www.ocracokebrewing.com</td>\n",
       "      <td>North Carolina</td>\n",
       "      <td>1129 Irvin Garrish Hwy</td>\n",
       "    </tr>\n",
       "    <tr>\n",
       "      <th>40</th>\n",
       "      <td>84d621c4-81a5-44e6-aca7-1566c2e67cc0</td>\n",
       "      <td>1781 Brewing Company</td>\n",
       "      <td>micro</td>\n",
       "      <td>11109 Plank Rd</td>\n",
       "      <td>None</td>\n",
       "      <td>None</td>\n",
       "      <td>Spotsylvania</td>\n",
       "      <td>Virginia</td>\n",
       "      <td>22553-4258</td>\n",
       "      <td>United States</td>\n",
       "      <td>None</td>\n",
       "      <td>None</td>\n",
       "      <td>5408412598</td>\n",
       "      <td>None</td>\n",
       "      <td>Virginia</td>\n",
       "      <td>11109 Plank Rd</td>\n",
       "    </tr>\n",
       "    <tr>\n",
       "      <th>41</th>\n",
       "      <td>896f26a1-d80e-4790-9287-026a86c1799d</td>\n",
       "      <td>180 and Tapped</td>\n",
       "      <td>micro</td>\n",
       "      <td>2010 A State Ave</td>\n",
       "      <td>None</td>\n",
       "      <td>None</td>\n",
       "      <td>Coraopolis</td>\n",
       "      <td>Pennsylvania</td>\n",
       "      <td>15108</td>\n",
       "      <td>United States</td>\n",
       "      <td>-80.15020356</td>\n",
       "      <td>40.50984957</td>\n",
       "      <td>4127375273</td>\n",
       "      <td>http://www.180andtapped.com</td>\n",
       "      <td>Pennsylvania</td>\n",
       "      <td>2010 A State Ave</td>\n",
       "    </tr>\n",
       "    <tr>\n",
       "      <th>42</th>\n",
       "      <td>46839a79-b7bf-4733-b91b-ce116d062a57</td>\n",
       "      <td>1817 Brewery</td>\n",
       "      <td>micro</td>\n",
       "      <td>100 B South Olive St</td>\n",
       "      <td>None</td>\n",
       "      <td>None</td>\n",
       "      <td>okolona</td>\n",
       "      <td>Mississippi</td>\n",
       "      <td>38860</td>\n",
       "      <td>United States</td>\n",
       "      <td>-88.750264</td>\n",
       "      <td>34.001703</td>\n",
       "      <td>6623055907</td>\n",
       "      <td>None</td>\n",
       "      <td>Mississippi</td>\n",
       "      <td>100 B South Olive St</td>\n",
       "    </tr>\n",
       "    <tr>\n",
       "      <th>43</th>\n",
       "      <td>1a1b2165-73ed-40aa-b89b-56794d140f22</td>\n",
       "      <td>1840 Brewing Company</td>\n",
       "      <td>micro</td>\n",
       "      <td>342 E Ward St</td>\n",
       "      <td>None</td>\n",
       "      <td>None</td>\n",
       "      <td>Milwaukee</td>\n",
       "      <td>Wisconsin</td>\n",
       "      <td>53207-1348</td>\n",
       "      <td>United States</td>\n",
       "      <td>-87.90606942</td>\n",
       "      <td>43.00436242</td>\n",
       "      <td>4142364056</td>\n",
       "      <td>http://www.1840brewing.com</td>\n",
       "      <td>Wisconsin</td>\n",
       "      <td>342 E Ward St</td>\n",
       "    </tr>\n",
       "    <tr>\n",
       "      <th>44</th>\n",
       "      <td>fe6b9893-b93e-43d5-a9f6-3e0c89a3f13c</td>\n",
       "      <td>1850 Brewing Company</td>\n",
       "      <td>micro</td>\n",
       "      <td>None</td>\n",
       "      <td>None</td>\n",
       "      <td>None</td>\n",
       "      <td>Mariposa</td>\n",
       "      <td>California</td>\n",
       "      <td>95338</td>\n",
       "      <td>United States</td>\n",
       "      <td>-119.9036592</td>\n",
       "      <td>37.570148</td>\n",
       "      <td>None</td>\n",
       "      <td>http://www.1850restaurant.com</td>\n",
       "      <td>California</td>\n",
       "      <td>None</td>\n",
       "    </tr>\n",
       "    <tr>\n",
       "      <th>45</th>\n",
       "      <td>b51f3cdf-60ff-4ae1-94a7-76906c7d62eb</td>\n",
       "      <td>18th Street Brewery</td>\n",
       "      <td>micro</td>\n",
       "      <td>5725 Miller Ave</td>\n",
       "      <td>None</td>\n",
       "      <td>None</td>\n",
       "      <td>Gary</td>\n",
       "      <td>Indiana</td>\n",
       "      <td>46403-2871</td>\n",
       "      <td>United States</td>\n",
       "      <td>-87.26887786</td>\n",
       "      <td>41.59928343</td>\n",
       "      <td>None</td>\n",
       "      <td>http://www.18thstreetbrewery.com</td>\n",
       "      <td>Indiana</td>\n",
       "      <td>5725 Miller Ave</td>\n",
       "    </tr>\n",
       "    <tr>\n",
       "      <th>46</th>\n",
       "      <td>add7f978-942e-4d56-b209-c80837a51d69</td>\n",
       "      <td>18th Street Brewery</td>\n",
       "      <td>micro</td>\n",
       "      <td>5417 Oakley Ave</td>\n",
       "      <td>None</td>\n",
       "      <td>None</td>\n",
       "      <td>Hammond</td>\n",
       "      <td>Indiana</td>\n",
       "      <td>46320-1817</td>\n",
       "      <td>United States</td>\n",
       "      <td>-87.517422</td>\n",
       "      <td>41.61556796</td>\n",
       "      <td>None</td>\n",
       "      <td>None</td>\n",
       "      <td>Indiana</td>\n",
       "      <td>5417 Oakley Ave</td>\n",
       "    </tr>\n",
       "    <tr>\n",
       "      <th>47</th>\n",
       "      <td>dbde8235-2b55-4d8b-8b1c-438155abe104</td>\n",
       "      <td>1905 Brewing Company</td>\n",
       "      <td>micro</td>\n",
       "      <td>1301 S Chestnut St</td>\n",
       "      <td>None</td>\n",
       "      <td>None</td>\n",
       "      <td>Assumption</td>\n",
       "      <td>Illinois</td>\n",
       "      <td>62510-8504</td>\n",
       "      <td>United States</td>\n",
       "      <td>-89.0503635</td>\n",
       "      <td>39.5172564</td>\n",
       "      <td>2172549374</td>\n",
       "      <td>http://1905BrewingCompany.com</td>\n",
       "      <td>Illinois</td>\n",
       "      <td>1301 S Chestnut St</td>\n",
       "    </tr>\n",
       "    <tr>\n",
       "      <th>48</th>\n",
       "      <td>4f4b5b34-d572-4dff-a18f-47e507c073e6</td>\n",
       "      <td>1912 Brewing</td>\n",
       "      <td>micro</td>\n",
       "      <td>2045 N Forbes Blvd Ste 105</td>\n",
       "      <td>None</td>\n",
       "      <td>None</td>\n",
       "      <td>Tucson</td>\n",
       "      <td>Arizona</td>\n",
       "      <td>85745-1444</td>\n",
       "      <td>United States</td>\n",
       "      <td>-110.9927505</td>\n",
       "      <td>32.24673727</td>\n",
       "      <td>5202564851</td>\n",
       "      <td>http://www.1912brewing.com</td>\n",
       "      <td>Arizona</td>\n",
       "      <td>2045 N Forbes Blvd Ste 105</td>\n",
       "    </tr>\n",
       "    <tr>\n",
       "      <th>49</th>\n",
       "      <td>4ccad9b9-f9cf-4d21-b6d5-ab005ee1532d</td>\n",
       "      <td>192 Brewing</td>\n",
       "      <td>micro</td>\n",
       "      <td>7324 NE 175th St</td>\n",
       "      <td>None</td>\n",
       "      <td>None</td>\n",
       "      <td>Kenmore</td>\n",
       "      <td>Washington</td>\n",
       "      <td>98028-2500</td>\n",
       "      <td>United States</td>\n",
       "      <td>-122.2415652</td>\n",
       "      <td>47.75670075</td>\n",
       "      <td>4254242337</td>\n",
       "      <td>http://www.192brewing.com</td>\n",
       "      <td>Washington</td>\n",
       "      <td>7324 NE 175th St</td>\n",
       "    </tr>\n",
       "    <tr>\n",
       "      <th>50</th>\n",
       "      <td>4a09f017-db8f-42e1-a8ec-a0cd81c28761</td>\n",
       "      <td>1940's Brewing Company</td>\n",
       "      <td>micro</td>\n",
       "      <td>1337 Lincoln Ave Unit 1</td>\n",
       "      <td>None</td>\n",
       "      <td>None</td>\n",
       "      <td>Holbrook</td>\n",
       "      <td>New York</td>\n",
       "      <td>11741-2275</td>\n",
       "      <td>United States</td>\n",
       "      <td>None</td>\n",
       "      <td>None</td>\n",
       "      <td>6315334838</td>\n",
       "      <td>http://www.1940sbrewingcompany.com</td>\n",
       "      <td>New York</td>\n",
       "      <td>1337 Lincoln Ave Unit 1</td>\n",
       "    </tr>\n",
       "  </tbody>\n",
       "</table>\n",
       "</div>"
      ],
      "text/plain": [
       "                                      id  \\\n",
       "0   5128df48-79fc-4f0f-8b52-d06be54d0cec   \n",
       "1   9c5a66c8-cc13-416f-a5d9-0a769c87d318   \n",
       "2   34e8c68b-6146-453f-a4b9-1f6cd99a5ada   \n",
       "3   ef970757-fe42-416f-931d-722451f1f59c   \n",
       "4   6d14b220-8926-4521-8d19-b98a2d6ec3db   \n",
       "5   e2e78bd8-80ff-4a61-a65c-3bfbd9d76ce2   \n",
       "6   e432899b-7f58-455f-9c7b-9a6e2130a1e0   \n",
       "7   9f1852da-c312-42da-9a31-097bac81c4c0   \n",
       "8   ea4f30c0-bce6-416b-8904-fab4055a7362   \n",
       "9   1988eb86-f0a2-4674-ba04-02454efa0d31   \n",
       "10  1ecc330f-6275-42a5-b14e-00adbed62752   \n",
       "11  7531dbd8-afc9-4b5b-95bc-7ece7f2c0bf3   \n",
       "12  5ae467af-66dc-4d7f-8839-44228f89b596   \n",
       "13  4ffda196-dd59-44a5-9eeb-5f7fd4b58f5a   \n",
       "14  42aa37d5-8384-4ffe-8c81-7c982eff0384   \n",
       "15  232e8f62-9afc-45f5-b4bc-582c26b5c43b   \n",
       "16  08f78223-24f8-4b71-b381-ea19a5bd82df   \n",
       "17  58293321-14ae-49d7-9a7b-08436c9e63a6   \n",
       "19  d81ff708-b5d2-478f-af6a-6d40f5beb9ac   \n",
       "20  fb94830f-6196-4f59-9189-c9060b778085   \n",
       "21  0faa0fb2-fffa-416d-9eab-46f67477c8ef   \n",
       "22  e54c2f02-acd6-4172-861d-fcfa54c8701a   \n",
       "23  d5cb896d-3e99-4e19-9693-5e06ce987e53   \n",
       "24  06e9fffb-e820-45c9-b107-b52b51013e8f   \n",
       "25  50521ef7-f543-4c5d-98b1-0d0ee1a2be01   \n",
       "26  950180bd-29c9-46b3-ad0c-e6f09799ec7f   \n",
       "27  45119c56-345b-4adc-b481-c5cf7bfe98c4   \n",
       "28  936c3d7e-5d54-4459-b72c-117cdda059b4   \n",
       "29  5c53b314-ebab-4e3e-89be-e4139d9318ae   \n",
       "30  4788221a-a03b-458c-9084-4cadd69ade6d   \n",
       "31  b7b68d22-5045-4501-b9bf-ec94946eaffc   \n",
       "32  4b677b60-fef1-42e2-90ef-dadc1bd7fb06   \n",
       "33  6c53984f-fac1-4ea7-9c44-44e25897c71a   \n",
       "34  85192a9c-58a4-48c3-bd9d-496d09d22aa3   \n",
       "35  284b44f8-6ccb-4cd6-8d06-f2ad882a47c3   \n",
       "36  ee6d39c6-092f-4623-8099-5b8643f70dbe   \n",
       "37  d35b40b0-a3ff-4878-a6ee-9caa2149b521   \n",
       "38  84bd3b3c-bd2d-4e07-bc31-b43a8c8ebf4c   \n",
       "39  f41a0c47-ba9b-4547-bfed-fcbefe0fc74b   \n",
       "40  84d621c4-81a5-44e6-aca7-1566c2e67cc0   \n",
       "41  896f26a1-d80e-4790-9287-026a86c1799d   \n",
       "42  46839a79-b7bf-4733-b91b-ce116d062a57   \n",
       "43  1a1b2165-73ed-40aa-b89b-56794d140f22   \n",
       "44  fe6b9893-b93e-43d5-a9f6-3e0c89a3f13c   \n",
       "45  b51f3cdf-60ff-4ae1-94a7-76906c7d62eb   \n",
       "46  add7f978-942e-4d56-b209-c80837a51d69   \n",
       "47  dbde8235-2b55-4d8b-8b1c-438155abe104   \n",
       "48  4f4b5b34-d572-4dff-a18f-47e507c073e6   \n",
       "49  4ccad9b9-f9cf-4d21-b6d5-ab005ee1532d   \n",
       "50  4a09f017-db8f-42e1-a8ec-a0cd81c28761   \n",
       "\n",
       "                                             name brewery_type  \\\n",
       "0                                (405) Brewing Co        micro   \n",
       "1                                (512) Brewing Co        micro   \n",
       "2                         1 of Us Brewing Company        micro   \n",
       "3                            10 Barrel Brewing Co        large   \n",
       "4                            10 Barrel Brewing Co        large   \n",
       "5                            10 Barrel Brewing Co        large   \n",
       "6                            10 Barrel Brewing Co        large   \n",
       "7                 10 Barrel Brewing Co - Bend Pub        large   \n",
       "8                    10 Barrel Brewing Co - Boise        large   \n",
       "9                   10 Barrel Brewing Co - Denver        large   \n",
       "10                 10 Torr Distilling and Brewing        micro   \n",
       "11                          10-56 Brewing Company        micro   \n",
       "12                      101 North Brewing Company       closed   \n",
       "13                            105 West Brewing Co        micro   \n",
       "14                                    10K Brewing        micro   \n",
       "15                  10th District Brewing Company        micro   \n",
       "16                       11 Below Brewing Company        micro   \n",
       "17                                1188 Brewing Co      brewpub   \n",
       "19                       12 Gates Brewing Company      brewpub   \n",
       "20                        12 West Brewing Company        micro   \n",
       "21  12 West Brewing Company - Production Facility        micro   \n",
       "22                            122 West Brewing Co       closed   \n",
       "23                                    127 Brewing        micro   \n",
       "24                               12Degree Brewing      brewpub   \n",
       "25                           12welve Eyes Brewing        micro   \n",
       "26                               13 Below Brewery        micro   \n",
       "27                             13 Stripes Brewery      brewpub   \n",
       "28                          13 Virtues Brewing Co      brewpub   \n",
       "29                                     1323 R & D        micro   \n",
       "30                     14 Cannons Brewing Company        micro   \n",
       "31                               14 Lakes Brewery        micro   \n",
       "32                           14er Brewing Company   proprietor   \n",
       "33                              14th Star Brewing        micro   \n",
       "34                                16 Lots Brewing      brewpub   \n",
       "35                             16 Mile Brewing Co        micro   \n",
       "36                               16 Stone Brewpub      brewpub   \n",
       "37                           1623 Brewing CO, llc     contract   \n",
       "38                                1717 Brewing Co        micro   \n",
       "39                          1718 Ocracoke Brewing      brewpub   \n",
       "40                           1781 Brewing Company        micro   \n",
       "41                                 180 and Tapped        micro   \n",
       "42                                   1817 Brewery        micro   \n",
       "43                           1840 Brewing Company        micro   \n",
       "44                           1850 Brewing Company        micro   \n",
       "45                            18th Street Brewery        micro   \n",
       "46                            18th Street Brewery        micro   \n",
       "47                           1905 Brewing Company        micro   \n",
       "48                                   1912 Brewing        micro   \n",
       "49                                    192 Brewing        micro   \n",
       "50                         1940's Brewing Company        micro   \n",
       "\n",
       "                         address_1 address_2 address_3              city  \\\n",
       "0                   1716 Topeka St      None      None            Norman   \n",
       "1            407 Radam Ln Ste F200      None      None            Austin   \n",
       "2              8100 Washington Ave      None      None    Mount Pleasant   \n",
       "3                        1501 E St      None      None         San Diego   \n",
       "4                    62970 18th St      None      None              Bend   \n",
       "5      1135 NW Galveston Ave Ste B      None      None              Bend   \n",
       "6              1411 NW Flanders St      None      None          Portland   \n",
       "7                 62950 NE 18th St      None      None              Bend   \n",
       "8                 826 W Bannock St      None      None             Boise   \n",
       "9                   2620 Walnut St      None      None            Denver   \n",
       "10                     490 Mill St      None      None              Reno   \n",
       "11                   400 Brown Cir      None      None              Knox   \n",
       "12             1304 Scott St Ste D      None      None          Petaluma   \n",
       "13                    1043 Park St      None      None       Castle Rock   \n",
       "14                    2005 2nd Ave      None      None             Anoka   \n",
       "15               491 Washington St      None      None          Abington   \n",
       "16               6820 Bourgeois Rd      None      None           Houston   \n",
       "17                   141 E Main St      None      None          John Day   \n",
       "19            80 Earhart Dr Ste 20      None      None     Williamsville   \n",
       "20            3000 E Ray Rd Bldg 6      None      None           Gilbert   \n",
       "21                            None      None      None              Mesa   \n",
       "22                2416 Meridian St      None      None        Bellingham   \n",
       "23                 3090 Shirley Dr      None      None           Jackson   \n",
       "24                     820 Main St      None      None        Louisville   \n",
       "25            141 E 4th St Ste LL2      None      None        Saint Paul   \n",
       "26                  7391 Forbes Rd      None      None        Cincinnati   \n",
       "27       250 Mill St, Suite PW3101      None      None           Taylors   \n",
       "28           6410 SE Milwaukie Ave      None      None          Portland   \n",
       "29  1323 Capital Blvd 1323 R and D      None      None           Raleigh   \n",
       "30       31125 Via Colinas Ste 907      None      None  Westlake Village   \n",
       "31                            None      None      None         Crosslake   \n",
       "32                  2801 Walnut St      None      None            Denver   \n",
       "33             133 N Main St Ste 7      None      None      Saint Albans   \n",
       "34                  753 Reading Rd      None      None             Mason   \n",
       "35                413 S Bedford St      None      None        Georgetown   \n",
       "36                    9542 Main St      None      None    Holland Patent   \n",
       "37          1146 colonel Joshua Ct      None      None      Westminister   \n",
       "38                 322 E Court Ave      None      None        Des Moines   \n",
       "39          1129 Irvin Garrish Hwy      None      None          Ocracoke   \n",
       "40                  11109 Plank Rd      None      None      Spotsylvania   \n",
       "41                2010 A State Ave      None      None        Coraopolis   \n",
       "42            100 B South Olive St      None      None           okolona   \n",
       "43                   342 E Ward St      None      None         Milwaukee   \n",
       "44                            None      None      None          Mariposa   \n",
       "45                 5725 Miller Ave      None      None              Gary   \n",
       "46                 5417 Oakley Ave      None      None           Hammond   \n",
       "47              1301 S Chestnut St      None      None        Assumption   \n",
       "48      2045 N Forbes Blvd Ste 105      None      None            Tucson   \n",
       "49                7324 NE 175th St      None      None           Kenmore   \n",
       "50         1337 Lincoln Ave Unit 1      None      None          Holbrook   \n",
       "\n",
       "    state_province postal_code        country           longitude  \\\n",
       "0         Oklahoma  73069-8224  United States        -97.46818222   \n",
       "1            Texas  78745-1197  United States                None   \n",
       "2        Wisconsin  53406-3920  United States  -87.88336350209435   \n",
       "3       California  92101-6618  United States         -117.129593   \n",
       "4           Oregon  97701-9847  United States         -121.281706   \n",
       "5           Oregon  97703-2465  United States        -121.3288021   \n",
       "6           Oregon  97209-2620  United States        -122.6855056   \n",
       "7           Oregon       97701  United States        -121.2809536   \n",
       "8            Idaho  83702-5857  United States         -116.202929   \n",
       "9         Colorado  80205-2231  United States        -104.9853655   \n",
       "10          Nevada       89502  United States        -119.7732015   \n",
       "11         Indiana       46534  United States          -86.627954   \n",
       "12      California  94954-7100  United States         -122.665055   \n",
       "13        Colorado  80109-1585  United States        -104.8667206   \n",
       "14       Minnesota  55303-2243  United States        -93.38952559   \n",
       "15   Massachusetts  02351-2419  United States        -70.94594149   \n",
       "16           Texas  77066-3107  United States         -95.5186591   \n",
       "17          Oregon  97845-1210  United States        -118.9218754   \n",
       "19        New York  14221-7804  United States                None   \n",
       "20         Arizona  85296-7832  United States                None   \n",
       "21         Arizona       85207  United States        -111.5860662   \n",
       "22      Washington  98225-2405  United States         -122.485982   \n",
       "23        Michigan  49201-7010  United States        -84.43116792   \n",
       "24        Colorado  80027-1865  United States        -105.1319826   \n",
       "25       Minnesota  55101-1639  United States                None   \n",
       "26            Ohio  45233-1013  United States        -84.70634815   \n",
       "27  South Carolina       29687  United States                None   \n",
       "28          Oregon  97202-5518  United States        -122.6487531   \n",
       "29  North Carolina  27603-1117  United States                None   \n",
       "30      California  91362-3974  United States         -118.802397   \n",
       "31       Minnesota       56442  United States                None   \n",
       "32        Colorado  80205-2235  United States        -104.9839636   \n",
       "33         Vermont  05478-1735  United States                None   \n",
       "34            Ohio  45040-1303  United States         -84.3183801   \n",
       "35        Delaware  19947-1849  United States        -75.37816436   \n",
       "36        New York       13354  United States         -75.2565195   \n",
       "37        Maryland       21157  United States                None   \n",
       "38            Iowa  50309-2015  United States         -93.6120353   \n",
       "39  North Carolina       27960  United States        -75.97176063   \n",
       "40        Virginia  22553-4258  United States                None   \n",
       "41    Pennsylvania       15108  United States        -80.15020356   \n",
       "42     Mississippi       38860  United States          -88.750264   \n",
       "43       Wisconsin  53207-1348  United States        -87.90606942   \n",
       "44      California       95338  United States        -119.9036592   \n",
       "45         Indiana  46403-2871  United States        -87.26887786   \n",
       "46         Indiana  46320-1817  United States          -87.517422   \n",
       "47        Illinois  62510-8504  United States         -89.0503635   \n",
       "48         Arizona  85745-1444  United States        -110.9927505   \n",
       "49      Washington  98028-2500  United States        -122.2415652   \n",
       "50        New York  11741-2275  United States                None   \n",
       "\n",
       "             latitude       phone                         website_url  \\\n",
       "0         35.25738891  4058160490           http://www.405brewing.com   \n",
       "1                None  5129211545           http://www.512brewing.com   \n",
       "2   42.72010826899558  2624847553        https://www.1ofusbrewing.com   \n",
       "3           32.714813  6195782311                 http://10barrel.com   \n",
       "4         44.08683531  5415851007             http://www.10barrel.com   \n",
       "5          44.0575649  5415851007                                None   \n",
       "6          45.5259786  5032241700             http://www.10barrel.com   \n",
       "7          44.0912109  5415851007                                None   \n",
       "8           43.618516  2083445870             http://www.10barrel.com   \n",
       "9          39.7592508  7205738992                                None   \n",
       "10         39.5171702  7755307014               http://www.10torr.com   \n",
       "11          41.289715  6308165790                                None   \n",
       "12        38.27029381  7077534934         http://www.101northbeer.com   \n",
       "13        39.38269495  3033257321       http://www.105westbrewing.com   \n",
       "14        45.19812039  7633924753                  http://10KBrew.com   \n",
       "15        42.10591754  7813071554  http://www.10thdistrictbrewing.com   \n",
       "16         29.9515464  2814442337       http://www.11belowbrewing.com   \n",
       "17         44.4146563  5415751188          http://www.1188brewing.com   \n",
       "19               None  7169066600       http://www.12gatesbrewing.com   \n",
       "20               None  6023395014        http://www.12westbrewing.com   \n",
       "21          33.436188        None                                None   \n",
       "22         48.7621709  3603063285        https://www.122westbrew.com/   \n",
       "23        42.28667212  5172581346                                None   \n",
       "24         39.9782443  3035791004             http://www.12degree.com   \n",
       "25               None  6514938106          http://www.12welveEyes.com   \n",
       "26        39.12639764  5139750613       http://www.13belowbrewery.com   \n",
       "27               None  8643491430     http://www.13StripesBrewery.com   \n",
       "28         45.4762536  5032393831     http://www.13virtuesbrewing.com   \n",
       "29               None  9199775654              http://www.1323rnd.com   \n",
       "30           34.15334  8186996165                http://14cannons.com   \n",
       "31               None  2186924129                                None   \n",
       "32         39.7614112  7207731437          http://www.14erBrewing.com   \n",
       "33               None  8025285988      http://www.14thstarbrewing.com   \n",
       "34         39.3545967  5134863672               http://www.16lots.com   \n",
       "35         38.6788938  3022538816        http://www.16milebrewery.com   \n",
       "36        43.24211175  3158658500       http://www.16stonebrewpub.com   \n",
       "37               None        None                                None   \n",
       "38         41.5872267  5152437868              http://1717brewing.com   \n",
       "39        35.10715368  2529282337      http://www.ocracokebrewing.com   \n",
       "40               None  5408412598                                None   \n",
       "41        40.50984957  4127375273         http://www.180andtapped.com   \n",
       "42          34.001703  6623055907                                None   \n",
       "43        43.00436242  4142364056          http://www.1840brewing.com   \n",
       "44          37.570148        None       http://www.1850restaurant.com   \n",
       "45        41.59928343        None    http://www.18thstreetbrewery.com   \n",
       "46        41.61556796        None                                None   \n",
       "47         39.5172564  2172549374       http://1905BrewingCompany.com   \n",
       "48        32.24673727  5202564851          http://www.1912brewing.com   \n",
       "49        47.75670075  4254242337           http://www.192brewing.com   \n",
       "50               None  6315334838  http://www.1940sbrewingcompany.com   \n",
       "\n",
       "             state                          street  \n",
       "0         Oklahoma                  1716 Topeka St  \n",
       "1            Texas           407 Radam Ln Ste F200  \n",
       "2        Wisconsin             8100 Washington Ave  \n",
       "3       California                       1501 E St  \n",
       "4           Oregon                   62970 18th St  \n",
       "5           Oregon     1135 NW Galveston Ave Ste B  \n",
       "6           Oregon             1411 NW Flanders St  \n",
       "7           Oregon                62950 NE 18th St  \n",
       "8            Idaho                826 W Bannock St  \n",
       "9         Colorado                  2620 Walnut St  \n",
       "10          Nevada                     490 Mill St  \n",
       "11         Indiana                   400 Brown Cir  \n",
       "12      California             1304 Scott St Ste D  \n",
       "13        Colorado                    1043 Park St  \n",
       "14       Minnesota                    2005 2nd Ave  \n",
       "15   Massachusetts               491 Washington St  \n",
       "16           Texas               6820 Bourgeois Rd  \n",
       "17          Oregon                   141 E Main St  \n",
       "19        New York            80 Earhart Dr Ste 20  \n",
       "20         Arizona            3000 E Ray Rd Bldg 6  \n",
       "21         Arizona                            None  \n",
       "22      Washington                2416 Meridian St  \n",
       "23        Michigan                 3090 Shirley Dr  \n",
       "24        Colorado                     820 Main St  \n",
       "25       Minnesota            141 E 4th St Ste LL2  \n",
       "26            Ohio                  7391 Forbes Rd  \n",
       "27  South Carolina       250 Mill St, Suite PW3101  \n",
       "28          Oregon           6410 SE Milwaukie Ave  \n",
       "29  North Carolina  1323 Capital Blvd 1323 R and D  \n",
       "30      California       31125 Via Colinas Ste 907  \n",
       "31       Minnesota                            None  \n",
       "32        Colorado                  2801 Walnut St  \n",
       "33         Vermont             133 N Main St Ste 7  \n",
       "34            Ohio                  753 Reading Rd  \n",
       "35        Delaware                413 S Bedford St  \n",
       "36        New York                    9542 Main St  \n",
       "37        Maryland          1146 colonel Joshua Ct  \n",
       "38            Iowa                 322 E Court Ave  \n",
       "39  North Carolina          1129 Irvin Garrish Hwy  \n",
       "40        Virginia                  11109 Plank Rd  \n",
       "41    Pennsylvania                2010 A State Ave  \n",
       "42     Mississippi            100 B South Olive St  \n",
       "43       Wisconsin                   342 E Ward St  \n",
       "44      California                            None  \n",
       "45         Indiana                 5725 Miller Ave  \n",
       "46         Indiana                 5417 Oakley Ave  \n",
       "47        Illinois              1301 S Chestnut St  \n",
       "48         Arizona      2045 N Forbes Blvd Ste 105  \n",
       "49      Washington                7324 NE 175th St  \n",
       "50        New York         1337 Lincoln Ave Unit 1  "
      ]
     },
     "execution_count": 7,
     "metadata": {},
     "output_type": "execute_result"
    }
   ],
   "source": [
    "#checking the head to see the data\n",
    "us_brewery_df.head(50)"
   ]
  },
  {
   "cell_type": "code",
   "execution_count": 8,
   "id": "78241182",
   "metadata": {},
   "outputs": [
    {
     "data": {
      "text/html": [
       "<div>\n",
       "<style scoped>\n",
       "    .dataframe tbody tr th:only-of-type {\n",
       "        vertical-align: middle;\n",
       "    }\n",
       "\n",
       "    .dataframe tbody tr th {\n",
       "        vertical-align: top;\n",
       "    }\n",
       "\n",
       "    .dataframe thead th {\n",
       "        text-align: right;\n",
       "    }\n",
       "</style>\n",
       "<table border=\"1\" class=\"dataframe\">\n",
       "  <thead>\n",
       "    <tr style=\"text-align: right;\">\n",
       "      <th></th>\n",
       "      <th>id</th>\n",
       "      <th>name</th>\n",
       "      <th>brewery_type</th>\n",
       "      <th>address_1</th>\n",
       "      <th>address_2</th>\n",
       "      <th>address_3</th>\n",
       "      <th>city</th>\n",
       "      <th>state_province</th>\n",
       "      <th>postal_code</th>\n",
       "      <th>country</th>\n",
       "      <th>longitude</th>\n",
       "      <th>latitude</th>\n",
       "      <th>phone</th>\n",
       "      <th>website_url</th>\n",
       "      <th>state</th>\n",
       "      <th>street</th>\n",
       "    </tr>\n",
       "  </thead>\n",
       "  <tbody>\n",
       "    <tr>\n",
       "      <th>8244</th>\n",
       "      <td>b39f4d9c-8aa9-48d9-9c07-e26da7557ea3</td>\n",
       "      <td>Yaxx Brewing Company</td>\n",
       "      <td>planning</td>\n",
       "      <td>None</td>\n",
       "      <td>None</td>\n",
       "      <td>None</td>\n",
       "      <td>Waco</td>\n",
       "      <td>Texas</td>\n",
       "      <td>76712-3284</td>\n",
       "      <td>United States</td>\n",
       "      <td>None</td>\n",
       "      <td>None</td>\n",
       "      <td>8014730669</td>\n",
       "      <td>None</td>\n",
       "      <td>Texas</td>\n",
       "      <td>None</td>\n",
       "    </tr>\n",
       "    <tr>\n",
       "      <th>8245</th>\n",
       "      <td>dfad1416-6baf-4bdd-9001-99a54fee5870</td>\n",
       "      <td>Yazoo Brewing Co</td>\n",
       "      <td>regional</td>\n",
       "      <td>910 Division St</td>\n",
       "      <td>None</td>\n",
       "      <td>None</td>\n",
       "      <td>Nashville</td>\n",
       "      <td>Tennessee</td>\n",
       "      <td>37203-4111</td>\n",
       "      <td>United States</td>\n",
       "      <td>-86.78355595</td>\n",
       "      <td>36.15090195</td>\n",
       "      <td>6158914649</td>\n",
       "      <td>http://www.yazoobrew.com</td>\n",
       "      <td>Tennessee</td>\n",
       "      <td>910 Division St</td>\n",
       "    </tr>\n",
       "    <tr>\n",
       "      <th>8246</th>\n",
       "      <td>0c27013d-74f0-4bc5-93e6-c95fa605ea81</td>\n",
       "      <td>Ye Olde Brothers Brewery</td>\n",
       "      <td>brewpub</td>\n",
       "      <td>4458 Highway 87</td>\n",
       "      <td>None</td>\n",
       "      <td>None</td>\n",
       "      <td>Navarre</td>\n",
       "      <td>Florida</td>\n",
       "      <td>32566-9658</td>\n",
       "      <td>United States</td>\n",
       "      <td>None</td>\n",
       "      <td>None</td>\n",
       "      <td>8506841495</td>\n",
       "      <td>http://www.yeoldbrothersbrewery.com</td>\n",
       "      <td>Florida</td>\n",
       "      <td>4458 Highway 87</td>\n",
       "    </tr>\n",
       "    <tr>\n",
       "      <th>8247</th>\n",
       "      <td>77cda0f6-f4c6-499c-a231-2102c21438aa</td>\n",
       "      <td>Yee-Haw Brewing, LLC.</td>\n",
       "      <td>micro</td>\n",
       "      <td>126 Buffalo St Ste 30</td>\n",
       "      <td>None</td>\n",
       "      <td>None</td>\n",
       "      <td>Johnson City</td>\n",
       "      <td>Tennessee</td>\n",
       "      <td>37604-5788</td>\n",
       "      <td>United States</td>\n",
       "      <td>None</td>\n",
       "      <td>None</td>\n",
       "      <td>4233289192</td>\n",
       "      <td>None</td>\n",
       "      <td>Tennessee</td>\n",
       "      <td>126 Buffalo St Ste 30</td>\n",
       "    </tr>\n",
       "    <tr>\n",
       "      <th>8248</th>\n",
       "      <td>0480da50-7ce0-40c3-a95f-66411e083c65</td>\n",
       "      <td>Yellow Bridge Brewing Co.</td>\n",
       "      <td>micro</td>\n",
       "      <td>2266 Route 66</td>\n",
       "      <td>None</td>\n",
       "      <td>None</td>\n",
       "      <td>Delmont</td>\n",
       "      <td>Pennsylvania</td>\n",
       "      <td>15626-1461</td>\n",
       "      <td>United States</td>\n",
       "      <td>None</td>\n",
       "      <td>None</td>\n",
       "      <td>7243003922</td>\n",
       "      <td>http://www.yellowbridgebrewing.com</td>\n",
       "      <td>Pennsylvania</td>\n",
       "      <td>2266 Route 66</td>\n",
       "    </tr>\n",
       "    <tr>\n",
       "      <th>8249</th>\n",
       "      <td>5be46e78-dd4c-44c7-9164-6aa1f502af37</td>\n",
       "      <td>Yellow Springs Brewery</td>\n",
       "      <td>micro</td>\n",
       "      <td>305 N Walnut St Ste B</td>\n",
       "      <td>None</td>\n",
       "      <td>None</td>\n",
       "      <td>Yellow Springs</td>\n",
       "      <td>Ohio</td>\n",
       "      <td>45387-2059</td>\n",
       "      <td>United States</td>\n",
       "      <td>None</td>\n",
       "      <td>None</td>\n",
       "      <td>9377670222</td>\n",
       "      <td>http://www.yellowspringsbrewery.com</td>\n",
       "      <td>Ohio</td>\n",
       "      <td>305 N Walnut St Ste B</td>\n",
       "    </tr>\n",
       "    <tr>\n",
       "      <th>8250</th>\n",
       "      <td>2a1157b5-b257-4b23-95df-a565b26da285</td>\n",
       "      <td>Yellow Sun Brewing Company</td>\n",
       "      <td>micro</td>\n",
       "      <td>127 Trade St</td>\n",
       "      <td>None</td>\n",
       "      <td>None</td>\n",
       "      <td>Rutherfordton</td>\n",
       "      <td>North Carolina</td>\n",
       "      <td>28139-2849</td>\n",
       "      <td>United States</td>\n",
       "      <td>-81.9581017</td>\n",
       "      <td>35.3666796</td>\n",
       "      <td>8283750089</td>\n",
       "      <td>http://www.yellowsunbrewing.com</td>\n",
       "      <td>North Carolina</td>\n",
       "      <td>127 Trade St</td>\n",
       "    </tr>\n",
       "    <tr>\n",
       "      <th>8252</th>\n",
       "      <td>17bb95d7-d3d7-4b8c-bbdd-f18104f8a815</td>\n",
       "      <td>Yellowhammer Brewery</td>\n",
       "      <td>micro</td>\n",
       "      <td>2600 Clinton Ave W</td>\n",
       "      <td>None</td>\n",
       "      <td>None</td>\n",
       "      <td>Huntsville</td>\n",
       "      <td>Alabama</td>\n",
       "      <td>35805-3046</td>\n",
       "      <td>United States</td>\n",
       "      <td>-86.5932014</td>\n",
       "      <td>34.7277523</td>\n",
       "      <td>2569755950</td>\n",
       "      <td>http://www.yellowhammerbrewery.com</td>\n",
       "      <td>Alabama</td>\n",
       "      <td>2600 Clinton Ave W</td>\n",
       "    </tr>\n",
       "    <tr>\n",
       "      <th>8253</th>\n",
       "      <td>7b0072f2-5fe0-463b-b4db-a8876e7723cd</td>\n",
       "      <td>Yellowstone Valley Brewing Co.</td>\n",
       "      <td>micro</td>\n",
       "      <td>2123B 1st Ave N</td>\n",
       "      <td>None</td>\n",
       "      <td>None</td>\n",
       "      <td>Billings</td>\n",
       "      <td>Montana</td>\n",
       "      <td>59101-2404</td>\n",
       "      <td>United States</td>\n",
       "      <td>None</td>\n",
       "      <td>None</td>\n",
       "      <td>4062450918</td>\n",
       "      <td>http://www.yellowstonevalleybrew.com</td>\n",
       "      <td>Montana</td>\n",
       "      <td>2123B 1st Ave N</td>\n",
       "    </tr>\n",
       "    <tr>\n",
       "      <th>8254</th>\n",
       "      <td>f0098c6f-401d-4be1-9bb9-5e1de4d84673</td>\n",
       "      <td>Yergey Brewing</td>\n",
       "      <td>micro</td>\n",
       "      <td>518B Bank St</td>\n",
       "      <td>None</td>\n",
       "      <td>None</td>\n",
       "      <td>Emmaus</td>\n",
       "      <td>Pennsylvania</td>\n",
       "      <td>18049-2008</td>\n",
       "      <td>United States</td>\n",
       "      <td>-75.49366592</td>\n",
       "      <td>40.53379322</td>\n",
       "      <td>6104172804</td>\n",
       "      <td>http://yergeybrewing.com</td>\n",
       "      <td>Pennsylvania</td>\n",
       "      <td>518B Bank St</td>\n",
       "    </tr>\n",
       "    <tr>\n",
       "      <th>8255</th>\n",
       "      <td>df9c7974-6add-4917-8536-6a6f6de0a79a</td>\n",
       "      <td>Yes Brewing</td>\n",
       "      <td>micro</td>\n",
       "      <td>609 Main St</td>\n",
       "      <td>None</td>\n",
       "      <td>None</td>\n",
       "      <td>Westbrook</td>\n",
       "      <td>Maine</td>\n",
       "      <td>04092-4143</td>\n",
       "      <td>United States</td>\n",
       "      <td>-70.35776285</td>\n",
       "      <td>43.67838435</td>\n",
       "      <td>2075910633</td>\n",
       "      <td>http://www.yesbrewing.com</td>\n",
       "      <td>Maine</td>\n",
       "      <td>609 Main St</td>\n",
       "    </tr>\n",
       "    <tr>\n",
       "      <th>8256</th>\n",
       "      <td>d6920448-7345-491b-a30b-7b1f42006ada</td>\n",
       "      <td>Yeti Restaurant</td>\n",
       "      <td>brewpub</td>\n",
       "      <td>190 Farmers Ln</td>\n",
       "      <td>None</td>\n",
       "      <td>None</td>\n",
       "      <td>Santa Rosa</td>\n",
       "      <td>California</td>\n",
       "      <td>95405-4703</td>\n",
       "      <td>United States</td>\n",
       "      <td>-122.688361</td>\n",
       "      <td>38.44971636</td>\n",
       "      <td>7075219608</td>\n",
       "      <td>http://www.yetirestaurant.com</td>\n",
       "      <td>California</td>\n",
       "      <td>190 Farmers Ln</td>\n",
       "    </tr>\n",
       "    <tr>\n",
       "      <th>8257</th>\n",
       "      <td>430a9947-db3e-441d-b4bd-58fca448bd20</td>\n",
       "      <td>Yetters Brewing Company</td>\n",
       "      <td>brewpub</td>\n",
       "      <td>1011 9th Ave</td>\n",
       "      <td>None</td>\n",
       "      <td>None</td>\n",
       "      <td>Greeley</td>\n",
       "      <td>Colorado</td>\n",
       "      <td>80631</td>\n",
       "      <td>United States</td>\n",
       "      <td>-104.6929308</td>\n",
       "      <td>40.4221023</td>\n",
       "      <td>9703961606</td>\n",
       "      <td>https://yettersbrewingcompany.com/</td>\n",
       "      <td>Colorado</td>\n",
       "      <td>1011 9th Ave</td>\n",
       "    </tr>\n",
       "    <tr>\n",
       "      <th>8258</th>\n",
       "      <td>bb0fca35-1169-4881-b032-27ca29deaced</td>\n",
       "      <td>Yolo Brewing Co</td>\n",
       "      <td>micro</td>\n",
       "      <td>1520 Terminal St</td>\n",
       "      <td>None</td>\n",
       "      <td>None</td>\n",
       "      <td>West Sacramento</td>\n",
       "      <td>California</td>\n",
       "      <td>95691-3814</td>\n",
       "      <td>United States</td>\n",
       "      <td>-121.5419585</td>\n",
       "      <td>38.56942885</td>\n",
       "      <td>9163797585</td>\n",
       "      <td>http://www.yolobrew.com</td>\n",
       "      <td>California</td>\n",
       "      <td>1520 Terminal St</td>\n",
       "    </tr>\n",
       "    <tr>\n",
       "      <th>8259</th>\n",
       "      <td>7470dd0b-f925-4fb2-87a7-3007fba745ad</td>\n",
       "      <td>Yonkers Brewing Co</td>\n",
       "      <td>micro</td>\n",
       "      <td>92 Main St</td>\n",
       "      <td>None</td>\n",
       "      <td>None</td>\n",
       "      <td>Yonkers</td>\n",
       "      <td>New York</td>\n",
       "      <td>10701-7065</td>\n",
       "      <td>United States</td>\n",
       "      <td>-73.9029331</td>\n",
       "      <td>40.9345744</td>\n",
       "      <td>9143915805</td>\n",
       "      <td>http://www.yonkersbrewing.com</td>\n",
       "      <td>New York</td>\n",
       "      <td>92 Main St</td>\n",
       "    </tr>\n",
       "    <tr>\n",
       "      <th>8260</th>\n",
       "      <td>aa43f7b4-5ece-4fd5-9dac-9eb81124ddf0</td>\n",
       "      <td>York Beach Beer Company</td>\n",
       "      <td>planning</td>\n",
       "      <td>None</td>\n",
       "      <td>None</td>\n",
       "      <td>None</td>\n",
       "      <td>York</td>\n",
       "      <td>Maine</td>\n",
       "      <td>03902</td>\n",
       "      <td>United States</td>\n",
       "      <td>None</td>\n",
       "      <td>None</td>\n",
       "      <td>None</td>\n",
       "      <td>None</td>\n",
       "      <td>Maine</td>\n",
       "      <td>None</td>\n",
       "    </tr>\n",
       "    <tr>\n",
       "      <th>8261</th>\n",
       "      <td>f39e0ae5-07cc-45b7-bece-11e390807652</td>\n",
       "      <td>York Chester Brewing Company</td>\n",
       "      <td>micro</td>\n",
       "      <td>1500 River Dr Ste 250</td>\n",
       "      <td>None</td>\n",
       "      <td>None</td>\n",
       "      <td>Belmont</td>\n",
       "      <td>North Carolina</td>\n",
       "      <td>28012-3587</td>\n",
       "      <td>United States</td>\n",
       "      <td>None</td>\n",
       "      <td>None</td>\n",
       "      <td>7047555104</td>\n",
       "      <td>http://www.yorkchesterbrew.com</td>\n",
       "      <td>North Carolina</td>\n",
       "      <td>1500 River Dr Ste 250</td>\n",
       "    </tr>\n",
       "    <tr>\n",
       "      <th>8262</th>\n",
       "      <td>cfbd4b1b-f848-4f39-9525-9c2c607e7562</td>\n",
       "      <td>Yorkholo Brewing Co</td>\n",
       "      <td>brewpub</td>\n",
       "      <td>19 N Main St</td>\n",
       "      <td>None</td>\n",
       "      <td>None</td>\n",
       "      <td>Mansfield</td>\n",
       "      <td>Pennsylvania</td>\n",
       "      <td>16933-1403</td>\n",
       "      <td>United States</td>\n",
       "      <td>-77.07838707</td>\n",
       "      <td>41.80758509</td>\n",
       "      <td>5704045805</td>\n",
       "      <td>http://www.yorkholobrewing.com</td>\n",
       "      <td>Pennsylvania</td>\n",
       "      <td>19 N Main St</td>\n",
       "    </tr>\n",
       "    <tr>\n",
       "      <th>8263</th>\n",
       "      <td>76b3e4f1-7075-4881-ac9a-f5462fb44dca</td>\n",
       "      <td>Yorkshire Square Brewing Co.</td>\n",
       "      <td>micro</td>\n",
       "      <td>1109 Van Ness Ave</td>\n",
       "      <td>None</td>\n",
       "      <td>None</td>\n",
       "      <td>Torrance</td>\n",
       "      <td>California</td>\n",
       "      <td>90501-2236</td>\n",
       "      <td>United States</td>\n",
       "      <td>-118.3163507</td>\n",
       "      <td>33.83720085</td>\n",
       "      <td>4243765115</td>\n",
       "      <td>http://www.yorkshiresquarebrewery.com</td>\n",
       "      <td>California</td>\n",
       "      <td>1109 Van Ness Ave</td>\n",
       "    </tr>\n",
       "    <tr>\n",
       "      <th>8264</th>\n",
       "      <td>39070e4c-ae87-4d72-af3e-62ec19c35039</td>\n",
       "      <td>Young Buck Brewing</td>\n",
       "      <td>closed</td>\n",
       "      <td>154 S Madison St</td>\n",
       "      <td>None</td>\n",
       "      <td>None</td>\n",
       "      <td>Spokane</td>\n",
       "      <td>Washington</td>\n",
       "      <td>99201-4542</td>\n",
       "      <td>United States</td>\n",
       "      <td>-117.4281651</td>\n",
       "      <td>47.655248</td>\n",
       "      <td>5092703306</td>\n",
       "      <td>http://www.youngbuckbrewing.com</td>\n",
       "      <td>Washington</td>\n",
       "      <td>154 S Madison St</td>\n",
       "    </tr>\n",
       "    <tr>\n",
       "      <th>8265</th>\n",
       "      <td>202233a3-1731-405f-b344-8d7bb8975a1c</td>\n",
       "      <td>Young Lion Brewing Co</td>\n",
       "      <td>micro</td>\n",
       "      <td>24 Lakeshore Dr</td>\n",
       "      <td>None</td>\n",
       "      <td>None</td>\n",
       "      <td>Canandaigua</td>\n",
       "      <td>New York</td>\n",
       "      <td>14424-2333</td>\n",
       "      <td>United States</td>\n",
       "      <td>-77.26938995</td>\n",
       "      <td>42.87560967</td>\n",
       "      <td>5852034337</td>\n",
       "      <td>http://www.younglionbrewing.com</td>\n",
       "      <td>New York</td>\n",
       "      <td>24 Lakeshore Dr</td>\n",
       "    </tr>\n",
       "    <tr>\n",
       "      <th>8266</th>\n",
       "      <td>8db23191-1806-4132-b601-6699e382b565</td>\n",
       "      <td>Young Veterans Brewing Company</td>\n",
       "      <td>micro</td>\n",
       "      <td>2505 Horse Pasture Rd Ste 104</td>\n",
       "      <td>None</td>\n",
       "      <td>None</td>\n",
       "      <td>Virginia Beach</td>\n",
       "      <td>Virginia</td>\n",
       "      <td>23453-2988</td>\n",
       "      <td>United States</td>\n",
       "      <td>None</td>\n",
       "      <td>None</td>\n",
       "      <td>7576894021</td>\n",
       "      <td>http://www.yvbc.com</td>\n",
       "      <td>Virginia</td>\n",
       "      <td>2505 Horse Pasture Rd Ste 104</td>\n",
       "    </tr>\n",
       "    <tr>\n",
       "      <th>8267</th>\n",
       "      <td>6b4ce9ea-b66c-455a-b284-8a629b7f8fc8</td>\n",
       "      <td>Young's Brewing</td>\n",
       "      <td>planning</td>\n",
       "      <td>None</td>\n",
       "      <td>None</td>\n",
       "      <td>None</td>\n",
       "      <td>Wexford</td>\n",
       "      <td>Pennsylvania</td>\n",
       "      <td>15090</td>\n",
       "      <td>United States</td>\n",
       "      <td>None</td>\n",
       "      <td>None</td>\n",
       "      <td>None</td>\n",
       "      <td>None</td>\n",
       "      <td>Pennsylvania</td>\n",
       "      <td>None</td>\n",
       "    </tr>\n",
       "    <tr>\n",
       "      <th>8268</th>\n",
       "      <td>ea88eaf9-2b9c-4073-8d37-5af9e4b8c166</td>\n",
       "      <td>Zaftig Brewing Co.</td>\n",
       "      <td>micro</td>\n",
       "      <td>7020 Huntley Rd Ste A</td>\n",
       "      <td>None</td>\n",
       "      <td>None</td>\n",
       "      <td>Columbus</td>\n",
       "      <td>Ohio</td>\n",
       "      <td>43229-1050</td>\n",
       "      <td>United States</td>\n",
       "      <td>-83.0003532</td>\n",
       "      <td>40.1063329</td>\n",
       "      <td>6146362537</td>\n",
       "      <td>http://www.drinkzaftig.com</td>\n",
       "      <td>Ohio</td>\n",
       "      <td>7020 Huntley Rd Ste A</td>\n",
       "    </tr>\n",
       "    <tr>\n",
       "      <th>8269</th>\n",
       "      <td>74576e44-ee28-43ea-870a-1f2801bb2d9c</td>\n",
       "      <td>Zambaldi Beer</td>\n",
       "      <td>contract</td>\n",
       "      <td>None</td>\n",
       "      <td>None</td>\n",
       "      <td>None</td>\n",
       "      <td>Green Bay</td>\n",
       "      <td>Wisconsin</td>\n",
       "      <td>54305-0246</td>\n",
       "      <td>United States</td>\n",
       "      <td>None</td>\n",
       "      <td>None</td>\n",
       "      <td>6124707926</td>\n",
       "      <td>http://www.zambaldi.com</td>\n",
       "      <td>Wisconsin</td>\n",
       "      <td>None</td>\n",
       "    </tr>\n",
       "    <tr>\n",
       "      <th>8270</th>\n",
       "      <td>e1278d06-ae74-4c23-9103-8ef505d24f5b</td>\n",
       "      <td>Zebulon Artisan Ales</td>\n",
       "      <td>micro</td>\n",
       "      <td>8 Merchents Alley</td>\n",
       "      <td>None</td>\n",
       "      <td>None</td>\n",
       "      <td>Weaverville</td>\n",
       "      <td>North Carolina</td>\n",
       "      <td>28787-8860</td>\n",
       "      <td>United States</td>\n",
       "      <td>None</td>\n",
       "      <td>None</td>\n",
       "      <td>None</td>\n",
       "      <td>http://www.zebulonbrewing.com</td>\n",
       "      <td>North Carolina</td>\n",
       "      <td>8 Merchents Alley</td>\n",
       "    </tr>\n",
       "    <tr>\n",
       "      <th>8271</th>\n",
       "      <td>800c3ec9-66e0-4bff-a3d9-13a7d1a1755e</td>\n",
       "      <td>Zed's Beer/Bado Brewing</td>\n",
       "      <td>micro</td>\n",
       "      <td>19 N Maple Ave Unit B</td>\n",
       "      <td>None</td>\n",
       "      <td>None</td>\n",
       "      <td>Marlton</td>\n",
       "      <td>New Jersey</td>\n",
       "      <td>08053-3007</td>\n",
       "      <td>United States</td>\n",
       "      <td>None</td>\n",
       "      <td>None</td>\n",
       "      <td>8568727632</td>\n",
       "      <td>http://drinkzeds.com</td>\n",
       "      <td>New Jersey</td>\n",
       "      <td>19 N Maple Ave Unit B</td>\n",
       "    </tr>\n",
       "    <tr>\n",
       "      <th>8272</th>\n",
       "      <td>3b703b36-86bb-4d24-846d-80c88bf7df07</td>\n",
       "      <td>ZeLUS Beer Company</td>\n",
       "      <td>contract</td>\n",
       "      <td>120 N Meadows Rd</td>\n",
       "      <td>None</td>\n",
       "      <td>None</td>\n",
       "      <td>Medfield</td>\n",
       "      <td>Massachusetts</td>\n",
       "      <td>02052-1594</td>\n",
       "      <td>United States</td>\n",
       "      <td>-71.335472</td>\n",
       "      <td>42.200799</td>\n",
       "      <td>6275100270</td>\n",
       "      <td>http://www.zelusbeer.com</td>\n",
       "      <td>Massachusetts</td>\n",
       "      <td>120 N Meadows Rd</td>\n",
       "    </tr>\n",
       "    <tr>\n",
       "      <th>8273</th>\n",
       "      <td>1cbf4f83-1e05-4025-8517-89353a77f1ad</td>\n",
       "      <td>Zephyr Brewing Co</td>\n",
       "      <td>micro</td>\n",
       "      <td>1609 E 58th Ave Ste G</td>\n",
       "      <td>None</td>\n",
       "      <td>None</td>\n",
       "      <td>Denver</td>\n",
       "      <td>Colorado</td>\n",
       "      <td>80216-1528</td>\n",
       "      <td>United States</td>\n",
       "      <td>None</td>\n",
       "      <td>None</td>\n",
       "      <td>7202959374</td>\n",
       "      <td>http://www.zephyrbrewingco.com</td>\n",
       "      <td>Colorado</td>\n",
       "      <td>1609 E 58th Ave Ste G</td>\n",
       "    </tr>\n",
       "    <tr>\n",
       "      <th>8274</th>\n",
       "      <td>698fe7e8-85e4-4482-b608-43534a67862a</td>\n",
       "      <td>Zephyrhills Brewing Company</td>\n",
       "      <td>proprietor</td>\n",
       "      <td>38530 5th Ave</td>\n",
       "      <td>None</td>\n",
       "      <td>None</td>\n",
       "      <td>Zephyrhills</td>\n",
       "      <td>Florida</td>\n",
       "      <td>33542-4318</td>\n",
       "      <td>United States</td>\n",
       "      <td>-82.17921783</td>\n",
       "      <td>28.23444039</td>\n",
       "      <td>8137152683</td>\n",
       "      <td>http://www.zbcbeer.com</td>\n",
       "      <td>Florida</td>\n",
       "      <td>38530 5th Ave</td>\n",
       "    </tr>\n",
       "    <tr>\n",
       "      <th>8275</th>\n",
       "      <td>c9de9083-60d9-46d4-9544-b20b5f5d1556</td>\n",
       "      <td>Zero Gravity Craft Brewery</td>\n",
       "      <td>micro</td>\n",
       "      <td>716 Pinte Street</td>\n",
       "      <td>None</td>\n",
       "      <td>None</td>\n",
       "      <td>Burlington</td>\n",
       "      <td>Vermont</td>\n",
       "      <td>05401</td>\n",
       "      <td>United States</td>\n",
       "      <td>None</td>\n",
       "      <td>None</td>\n",
       "      <td>8024970054</td>\n",
       "      <td>None</td>\n",
       "      <td>Vermont</td>\n",
       "      <td>716 Pinte Street</td>\n",
       "    </tr>\n",
       "    <tr>\n",
       "      <th>8276</th>\n",
       "      <td>f192e49e-e2c9-485a-bdee-35ce3189ef93</td>\n",
       "      <td>Zero Gravity Craft Brewery</td>\n",
       "      <td>brewpub</td>\n",
       "      <td>716 Pine St</td>\n",
       "      <td>None</td>\n",
       "      <td>None</td>\n",
       "      <td>Burlington</td>\n",
       "      <td>Vermont</td>\n",
       "      <td>05401-4922</td>\n",
       "      <td>United States</td>\n",
       "      <td>-73.2140363</td>\n",
       "      <td>44.4595462</td>\n",
       "      <td>8024970054</td>\n",
       "      <td>http://www.zerogravitybeer.com</td>\n",
       "      <td>Vermont</td>\n",
       "      <td>716 Pine St</td>\n",
       "    </tr>\n",
       "    <tr>\n",
       "      <th>8277</th>\n",
       "      <td>1d15aa31-6d4c-42c7-b5c7-e0d3fe314e1b</td>\n",
       "      <td>Zero One Ale House</td>\n",
       "      <td>brewpub</td>\n",
       "      <td>20 W Beauregard Ave</td>\n",
       "      <td>None</td>\n",
       "      <td>None</td>\n",
       "      <td>San Angelo</td>\n",
       "      <td>Texas</td>\n",
       "      <td>76903-5833</td>\n",
       "      <td>United States</td>\n",
       "      <td>-100.4372363</td>\n",
       "      <td>31.46245419</td>\n",
       "      <td>3256535123</td>\n",
       "      <td>None</td>\n",
       "      <td>Texas</td>\n",
       "      <td>20 W Beauregard Ave</td>\n",
       "    </tr>\n",
       "    <tr>\n",
       "      <th>8278</th>\n",
       "      <td>1e64c937-e250-448e-962a-f2a40d6ca9db</td>\n",
       "      <td>Zeroday Brewing Company</td>\n",
       "      <td>brewpub</td>\n",
       "      <td>250 Reily St Ste 103</td>\n",
       "      <td>None</td>\n",
       "      <td>None</td>\n",
       "      <td>Harrisburg</td>\n",
       "      <td>Pennsylvania</td>\n",
       "      <td>17102-2550</td>\n",
       "      <td>United States</td>\n",
       "      <td>-76.8915931</td>\n",
       "      <td>40.2717061</td>\n",
       "      <td>7177456218</td>\n",
       "      <td>http://www.zerodaybrewing.com</td>\n",
       "      <td>Pennsylvania</td>\n",
       "      <td>250 Reily St Ste 103</td>\n",
       "    </tr>\n",
       "    <tr>\n",
       "      <th>8279</th>\n",
       "      <td>06244489-87fd-44ea-8a83-f0b3f1210314</td>\n",
       "      <td>Zeta Brewing Company</td>\n",
       "      <td>brewpub</td>\n",
       "      <td>131 1st Ave N</td>\n",
       "      <td>None</td>\n",
       "      <td>None</td>\n",
       "      <td>Jacksonville Beach</td>\n",
       "      <td>Florida</td>\n",
       "      <td>32250-6912</td>\n",
       "      <td>United States</td>\n",
       "      <td>-81.39029104</td>\n",
       "      <td>30.29038796</td>\n",
       "      <td>9043720727</td>\n",
       "      <td>http://www.zetabrewing.com</td>\n",
       "      <td>Florida</td>\n",
       "      <td>131 1st Ave N</td>\n",
       "    </tr>\n",
       "    <tr>\n",
       "      <th>8280</th>\n",
       "      <td>8a0343e4-8195-47f0-927d-c6cc751fe88e</td>\n",
       "      <td>Zilker Brewing Co</td>\n",
       "      <td>micro</td>\n",
       "      <td>1701 E 6th St</td>\n",
       "      <td>None</td>\n",
       "      <td>None</td>\n",
       "      <td>Austin</td>\n",
       "      <td>Texas</td>\n",
       "      <td>78702-2701</td>\n",
       "      <td>United States</td>\n",
       "      <td>-97.7245745</td>\n",
       "      <td>30.2621507</td>\n",
       "      <td>5127654946</td>\n",
       "      <td>http://www.zilkerbeer.com</td>\n",
       "      <td>Texas</td>\n",
       "      <td>1701 E 6th St</td>\n",
       "    </tr>\n",
       "    <tr>\n",
       "      <th>8281</th>\n",
       "      <td>169cd01b-b11c-449e-87df-9d1dd056ebf2</td>\n",
       "      <td>Zillicoah Beer Company</td>\n",
       "      <td>proprietor</td>\n",
       "      <td>870 Riverside Dr</td>\n",
       "      <td>None</td>\n",
       "      <td>None</td>\n",
       "      <td>Woodfin</td>\n",
       "      <td>North Carolina</td>\n",
       "      <td>28804-3222</td>\n",
       "      <td>United States</td>\n",
       "      <td>-82.57561089</td>\n",
       "      <td>35.61776547</td>\n",
       "      <td>8284846502</td>\n",
       "      <td>None</td>\n",
       "      <td>North Carolina</td>\n",
       "      <td>870 Riverside Dr</td>\n",
       "    </tr>\n",
       "    <tr>\n",
       "      <th>8282</th>\n",
       "      <td>f4585ffb-ad5d-4fb4-a32e-ada28298796c</td>\n",
       "      <td>Zion Canyon Brewing Co</td>\n",
       "      <td>brewpub</td>\n",
       "      <td>95 Zion Park Blvd</td>\n",
       "      <td>None</td>\n",
       "      <td>None</td>\n",
       "      <td>Springdale</td>\n",
       "      <td>Utah</td>\n",
       "      <td>84767-0420</td>\n",
       "      <td>United States</td>\n",
       "      <td>-113.0358484</td>\n",
       "      <td>37.16063318</td>\n",
       "      <td>4357720404</td>\n",
       "      <td>http://www.zioncanyonbrewingco.com</td>\n",
       "      <td>Utah</td>\n",
       "      <td>95 Zion Park Blvd</td>\n",
       "    </tr>\n",
       "    <tr>\n",
       "      <th>8284</th>\n",
       "      <td>538095f5-33b7-4578-8012-429e046fee80</td>\n",
       "      <td>Zipline Brewing Co</td>\n",
       "      <td>micro</td>\n",
       "      <td>2100 Magnum Cir Ste 1</td>\n",
       "      <td>None</td>\n",
       "      <td>None</td>\n",
       "      <td>Lincoln</td>\n",
       "      <td>Nebraska</td>\n",
       "      <td>68522-1027</td>\n",
       "      <td>United States</td>\n",
       "      <td>-96.7512302</td>\n",
       "      <td>40.8117948</td>\n",
       "      <td>4024751001</td>\n",
       "      <td>http://www.ziplinebrewing.com</td>\n",
       "      <td>Nebraska</td>\n",
       "      <td>2100 Magnum Cir Ste 1</td>\n",
       "    </tr>\n",
       "    <tr>\n",
       "      <th>8285</th>\n",
       "      <td>68529922-1b8d-4629-b7d2-739f93c32d77</td>\n",
       "      <td>Zoiglhaus Brewing Company</td>\n",
       "      <td>brewpub</td>\n",
       "      <td>5716 SE 92nd Ave</td>\n",
       "      <td>None</td>\n",
       "      <td>None</td>\n",
       "      <td>Portland</td>\n",
       "      <td>Oregon</td>\n",
       "      <td>97266-4659</td>\n",
       "      <td>United States</td>\n",
       "      <td>-122.5679347</td>\n",
       "      <td>45.4808905</td>\n",
       "      <td>9713392374</td>\n",
       "      <td>http://www.zoiglhaus.com</td>\n",
       "      <td>Oregon</td>\n",
       "      <td>5716 SE 92nd Ave</td>\n",
       "    </tr>\n",
       "    <tr>\n",
       "      <th>8286</th>\n",
       "      <td>0b194fbf-8dd6-4a88-848f-4a784af05c1c</td>\n",
       "      <td>Zone 9 Brewing Company</td>\n",
       "      <td>micro</td>\n",
       "      <td>1450 Tollhouse Rd Ste 105</td>\n",
       "      <td>None</td>\n",
       "      <td>None</td>\n",
       "      <td>Clovis</td>\n",
       "      <td>California</td>\n",
       "      <td>93611-0503</td>\n",
       "      <td>United States</td>\n",
       "      <td>-119.6906567</td>\n",
       "      <td>36.82610331</td>\n",
       "      <td>5592600539</td>\n",
       "      <td>None</td>\n",
       "      <td>California</td>\n",
       "      <td>1450 Tollhouse Rd Ste 105</td>\n",
       "    </tr>\n",
       "    <tr>\n",
       "      <th>8287</th>\n",
       "      <td>ec83629b-2f5d-4fae-a9fc-00ff3979c0f7</td>\n",
       "      <td>Zorn Brew Works</td>\n",
       "      <td>micro</td>\n",
       "      <td>605 E 9th St</td>\n",
       "      <td>None</td>\n",
       "      <td>None</td>\n",
       "      <td>Michigan City</td>\n",
       "      <td>Indiana</td>\n",
       "      <td>46360-3651</td>\n",
       "      <td>United States</td>\n",
       "      <td>-86.89216786</td>\n",
       "      <td>41.714577</td>\n",
       "      <td>2193316322</td>\n",
       "      <td>http://www.zornbrewworks.com</td>\n",
       "      <td>Indiana</td>\n",
       "      <td>605 E 9th St</td>\n",
       "    </tr>\n",
       "    <tr>\n",
       "      <th>8289</th>\n",
       "      <td>81c373d3-cacc-4f69-a716-3dfe919a3b42</td>\n",
       "      <td>Zum Bier</td>\n",
       "      <td>micro</td>\n",
       "      <td>3232 E Monroe St</td>\n",
       "      <td>None</td>\n",
       "      <td>None</td>\n",
       "      <td>Waukegan</td>\n",
       "      <td>Illinois</td>\n",
       "      <td>60085</td>\n",
       "      <td>United States</td>\n",
       "      <td>None</td>\n",
       "      <td>None</td>\n",
       "      <td>8474207313</td>\n",
       "      <td>http://www.zumbier.com</td>\n",
       "      <td>Illinois</td>\n",
       "      <td>3232 E Monroe St</td>\n",
       "    </tr>\n",
       "    <tr>\n",
       "      <th>8290</th>\n",
       "      <td>95f923e4-e98a-498c-a652-41313f838358</td>\n",
       "      <td>Zuni Street Brewing Company</td>\n",
       "      <td>micro</td>\n",
       "      <td>2355 W 29th Ave</td>\n",
       "      <td>None</td>\n",
       "      <td>None</td>\n",
       "      <td>Denver</td>\n",
       "      <td>Colorado</td>\n",
       "      <td>80211-3753</td>\n",
       "      <td>United States</td>\n",
       "      <td>-105.015409</td>\n",
       "      <td>39.7585929</td>\n",
       "      <td>3038626525</td>\n",
       "      <td>http://www.zunistreetbrewing.com</td>\n",
       "      <td>Colorado</td>\n",
       "      <td>2355 W 29th Ave</td>\n",
       "    </tr>\n",
       "    <tr>\n",
       "      <th>8291</th>\n",
       "      <td>720a84ad-c18f-4181-8d21-35eb6b80bec0</td>\n",
       "      <td>ZwanzigZ Brewing</td>\n",
       "      <td>brewpub</td>\n",
       "      <td>1038 Lafayette Ave</td>\n",
       "      <td>None</td>\n",
       "      <td>None</td>\n",
       "      <td>Columbus</td>\n",
       "      <td>Indiana</td>\n",
       "      <td>47201-5756</td>\n",
       "      <td>United States</td>\n",
       "      <td>-85.91883647</td>\n",
       "      <td>39.20865674</td>\n",
       "      <td>8123760200</td>\n",
       "      <td>http://www.zwanzigz.com</td>\n",
       "      <td>Indiana</td>\n",
       "      <td>1038 Lafayette Ave</td>\n",
       "    </tr>\n",
       "    <tr>\n",
       "      <th>8292</th>\n",
       "      <td>a602e9ea-f0b3-4a40-8aa8-02e0aace191c</td>\n",
       "      <td>Zwei Brewing Co</td>\n",
       "      <td>micro</td>\n",
       "      <td>4612 S Mason St Ste 120</td>\n",
       "      <td>None</td>\n",
       "      <td>None</td>\n",
       "      <td>Fort Collins</td>\n",
       "      <td>Colorado</td>\n",
       "      <td>80525-3794</td>\n",
       "      <td>United States</td>\n",
       "      <td>None</td>\n",
       "      <td>None</td>\n",
       "      <td>9702232482</td>\n",
       "      <td>http://www.zweibruderbrewing.com</td>\n",
       "      <td>Colorado</td>\n",
       "      <td>4612 S Mason St Ste 120</td>\n",
       "    </tr>\n",
       "    <tr>\n",
       "      <th>8293</th>\n",
       "      <td>8d18da7a-1ed9-4eb4-b87c-ac444aa81e14</td>\n",
       "      <td>Zydeco Brew Werks</td>\n",
       "      <td>brewpub</td>\n",
       "      <td>1902 E 7th Ave</td>\n",
       "      <td>None</td>\n",
       "      <td>None</td>\n",
       "      <td>Tampa</td>\n",
       "      <td>Florida</td>\n",
       "      <td>33605-3810</td>\n",
       "      <td>United States</td>\n",
       "      <td>-82.43783229</td>\n",
       "      <td>27.9603438</td>\n",
       "      <td>8132524541</td>\n",
       "      <td>None</td>\n",
       "      <td>Florida</td>\n",
       "      <td>1902 E 7th Ave</td>\n",
       "    </tr>\n",
       "    <tr>\n",
       "      <th>8294</th>\n",
       "      <td>aabc26d3-4870-42e9-ae09-1333f85c3246</td>\n",
       "      <td>Zymos Brewing</td>\n",
       "      <td>micro</td>\n",
       "      <td>5180 S Lowell Blvd</td>\n",
       "      <td>None</td>\n",
       "      <td>None</td>\n",
       "      <td>Littleton</td>\n",
       "      <td>Colorado</td>\n",
       "      <td>80123</td>\n",
       "      <td>United States</td>\n",
       "      <td>-105.0346064</td>\n",
       "      <td>39.6229711</td>\n",
       "      <td>7206645280</td>\n",
       "      <td>http://zymosbrewing.com</td>\n",
       "      <td>Colorado</td>\n",
       "      <td>5180 S Lowell Blvd</td>\n",
       "    </tr>\n",
       "    <tr>\n",
       "      <th>8295</th>\n",
       "      <td>82234375-c7fa-4208-8878-b661b7a1e6aa</td>\n",
       "      <td>Zymurcracy Beer Company</td>\n",
       "      <td>micro</td>\n",
       "      <td>4624 Creek Dr Ste 6</td>\n",
       "      <td>None</td>\n",
       "      <td>None</td>\n",
       "      <td>Rapid City</td>\n",
       "      <td>South Dakota</td>\n",
       "      <td>57701-2165</td>\n",
       "      <td>United States</td>\n",
       "      <td>-103.1795198</td>\n",
       "      <td>44.03811547</td>\n",
       "      <td>6057910411</td>\n",
       "      <td>http://www.zymurcracybeer.com</td>\n",
       "      <td>South Dakota</td>\n",
       "      <td>4624 Creek Dr Ste 6</td>\n",
       "    </tr>\n",
       "    <tr>\n",
       "      <th>8296</th>\n",
       "      <td>e9d9a4ad-9583-4b07-846a-d99aeb5ea706</td>\n",
       "      <td>Zymurgy Brew Works</td>\n",
       "      <td>micro</td>\n",
       "      <td>22755 Hawthorne Blvd</td>\n",
       "      <td>None</td>\n",
       "      <td>None</td>\n",
       "      <td>Torrance</td>\n",
       "      <td>California</td>\n",
       "      <td>90505-3613</td>\n",
       "      <td>United States</td>\n",
       "      <td>-118.3524672</td>\n",
       "      <td>33.8635371</td>\n",
       "      <td>3106502474</td>\n",
       "      <td>http://www.zymurgybrewworks.com</td>\n",
       "      <td>California</td>\n",
       "      <td>22755 Hawthorne Blvd</td>\n",
       "    </tr>\n",
       "  </tbody>\n",
       "</table>\n",
       "</div>"
      ],
      "text/plain": [
       "                                        id                            name  \\\n",
       "8244  b39f4d9c-8aa9-48d9-9c07-e26da7557ea3            Yaxx Brewing Company   \n",
       "8245  dfad1416-6baf-4bdd-9001-99a54fee5870                Yazoo Brewing Co   \n",
       "8246  0c27013d-74f0-4bc5-93e6-c95fa605ea81        Ye Olde Brothers Brewery   \n",
       "8247  77cda0f6-f4c6-499c-a231-2102c21438aa           Yee-Haw Brewing, LLC.   \n",
       "8248  0480da50-7ce0-40c3-a95f-66411e083c65       Yellow Bridge Brewing Co.   \n",
       "8249  5be46e78-dd4c-44c7-9164-6aa1f502af37          Yellow Springs Brewery   \n",
       "8250  2a1157b5-b257-4b23-95df-a565b26da285      Yellow Sun Brewing Company   \n",
       "8252  17bb95d7-d3d7-4b8c-bbdd-f18104f8a815            Yellowhammer Brewery   \n",
       "8253  7b0072f2-5fe0-463b-b4db-a8876e7723cd  Yellowstone Valley Brewing Co.   \n",
       "8254  f0098c6f-401d-4be1-9bb9-5e1de4d84673                  Yergey Brewing   \n",
       "8255  df9c7974-6add-4917-8536-6a6f6de0a79a                     Yes Brewing   \n",
       "8256  d6920448-7345-491b-a30b-7b1f42006ada                 Yeti Restaurant   \n",
       "8257  430a9947-db3e-441d-b4bd-58fca448bd20         Yetters Brewing Company   \n",
       "8258  bb0fca35-1169-4881-b032-27ca29deaced                 Yolo Brewing Co   \n",
       "8259  7470dd0b-f925-4fb2-87a7-3007fba745ad              Yonkers Brewing Co   \n",
       "8260  aa43f7b4-5ece-4fd5-9dac-9eb81124ddf0         York Beach Beer Company   \n",
       "8261  f39e0ae5-07cc-45b7-bece-11e390807652    York Chester Brewing Company   \n",
       "8262  cfbd4b1b-f848-4f39-9525-9c2c607e7562             Yorkholo Brewing Co   \n",
       "8263  76b3e4f1-7075-4881-ac9a-f5462fb44dca    Yorkshire Square Brewing Co.   \n",
       "8264  39070e4c-ae87-4d72-af3e-62ec19c35039              Young Buck Brewing   \n",
       "8265  202233a3-1731-405f-b344-8d7bb8975a1c           Young Lion Brewing Co   \n",
       "8266  8db23191-1806-4132-b601-6699e382b565  Young Veterans Brewing Company   \n",
       "8267  6b4ce9ea-b66c-455a-b284-8a629b7f8fc8                 Young's Brewing   \n",
       "8268  ea88eaf9-2b9c-4073-8d37-5af9e4b8c166              Zaftig Brewing Co.   \n",
       "8269  74576e44-ee28-43ea-870a-1f2801bb2d9c                   Zambaldi Beer   \n",
       "8270  e1278d06-ae74-4c23-9103-8ef505d24f5b            Zebulon Artisan Ales   \n",
       "8271  800c3ec9-66e0-4bff-a3d9-13a7d1a1755e         Zed's Beer/Bado Brewing   \n",
       "8272  3b703b36-86bb-4d24-846d-80c88bf7df07              ZeLUS Beer Company   \n",
       "8273  1cbf4f83-1e05-4025-8517-89353a77f1ad               Zephyr Brewing Co   \n",
       "8274  698fe7e8-85e4-4482-b608-43534a67862a     Zephyrhills Brewing Company   \n",
       "8275  c9de9083-60d9-46d4-9544-b20b5f5d1556      Zero Gravity Craft Brewery   \n",
       "8276  f192e49e-e2c9-485a-bdee-35ce3189ef93      Zero Gravity Craft Brewery   \n",
       "8277  1d15aa31-6d4c-42c7-b5c7-e0d3fe314e1b              Zero One Ale House   \n",
       "8278  1e64c937-e250-448e-962a-f2a40d6ca9db         Zeroday Brewing Company   \n",
       "8279  06244489-87fd-44ea-8a83-f0b3f1210314            Zeta Brewing Company   \n",
       "8280  8a0343e4-8195-47f0-927d-c6cc751fe88e               Zilker Brewing Co   \n",
       "8281  169cd01b-b11c-449e-87df-9d1dd056ebf2          Zillicoah Beer Company   \n",
       "8282  f4585ffb-ad5d-4fb4-a32e-ada28298796c          Zion Canyon Brewing Co   \n",
       "8284  538095f5-33b7-4578-8012-429e046fee80              Zipline Brewing Co   \n",
       "8285  68529922-1b8d-4629-b7d2-739f93c32d77       Zoiglhaus Brewing Company   \n",
       "8286  0b194fbf-8dd6-4a88-848f-4a784af05c1c          Zone 9 Brewing Company   \n",
       "8287  ec83629b-2f5d-4fae-a9fc-00ff3979c0f7                 Zorn Brew Works   \n",
       "8289  81c373d3-cacc-4f69-a716-3dfe919a3b42                        Zum Bier   \n",
       "8290  95f923e4-e98a-498c-a652-41313f838358     Zuni Street Brewing Company   \n",
       "8291  720a84ad-c18f-4181-8d21-35eb6b80bec0                ZwanzigZ Brewing   \n",
       "8292  a602e9ea-f0b3-4a40-8aa8-02e0aace191c                 Zwei Brewing Co   \n",
       "8293  8d18da7a-1ed9-4eb4-b87c-ac444aa81e14               Zydeco Brew Werks   \n",
       "8294  aabc26d3-4870-42e9-ae09-1333f85c3246                   Zymos Brewing   \n",
       "8295  82234375-c7fa-4208-8878-b661b7a1e6aa         Zymurcracy Beer Company   \n",
       "8296  e9d9a4ad-9583-4b07-846a-d99aeb5ea706              Zymurgy Brew Works   \n",
       "\n",
       "     brewery_type                      address_1 address_2 address_3  \\\n",
       "8244     planning                           None      None      None   \n",
       "8245     regional                910 Division St      None      None   \n",
       "8246      brewpub                4458 Highway 87      None      None   \n",
       "8247        micro          126 Buffalo St Ste 30      None      None   \n",
       "8248        micro                  2266 Route 66      None      None   \n",
       "8249        micro          305 N Walnut St Ste B      None      None   \n",
       "8250        micro                   127 Trade St      None      None   \n",
       "8252        micro             2600 Clinton Ave W      None      None   \n",
       "8253        micro                2123B 1st Ave N      None      None   \n",
       "8254        micro                   518B Bank St      None      None   \n",
       "8255        micro                    609 Main St      None      None   \n",
       "8256      brewpub                 190 Farmers Ln      None      None   \n",
       "8257      brewpub                   1011 9th Ave      None      None   \n",
       "8258        micro               1520 Terminal St      None      None   \n",
       "8259        micro                     92 Main St      None      None   \n",
       "8260     planning                           None      None      None   \n",
       "8261        micro          1500 River Dr Ste 250      None      None   \n",
       "8262      brewpub                   19 N Main St      None      None   \n",
       "8263        micro              1109 Van Ness Ave      None      None   \n",
       "8264       closed               154 S Madison St      None      None   \n",
       "8265        micro                24 Lakeshore Dr      None      None   \n",
       "8266        micro  2505 Horse Pasture Rd Ste 104      None      None   \n",
       "8267     planning                           None      None      None   \n",
       "8268        micro          7020 Huntley Rd Ste A      None      None   \n",
       "8269     contract                           None      None      None   \n",
       "8270        micro              8 Merchents Alley      None      None   \n",
       "8271        micro          19 N Maple Ave Unit B      None      None   \n",
       "8272     contract               120 N Meadows Rd      None      None   \n",
       "8273        micro          1609 E 58th Ave Ste G      None      None   \n",
       "8274   proprietor                  38530 5th Ave      None      None   \n",
       "8275        micro               716 Pinte Street      None      None   \n",
       "8276      brewpub                    716 Pine St      None      None   \n",
       "8277      brewpub            20 W Beauregard Ave      None      None   \n",
       "8278      brewpub           250 Reily St Ste 103      None      None   \n",
       "8279      brewpub                  131 1st Ave N      None      None   \n",
       "8280        micro                  1701 E 6th St      None      None   \n",
       "8281   proprietor               870 Riverside Dr      None      None   \n",
       "8282      brewpub              95 Zion Park Blvd      None      None   \n",
       "8284        micro          2100 Magnum Cir Ste 1      None      None   \n",
       "8285      brewpub               5716 SE 92nd Ave      None      None   \n",
       "8286        micro      1450 Tollhouse Rd Ste 105      None      None   \n",
       "8287        micro                   605 E 9th St      None      None   \n",
       "8289        micro               3232 E Monroe St      None      None   \n",
       "8290        micro                2355 W 29th Ave      None      None   \n",
       "8291      brewpub             1038 Lafayette Ave      None      None   \n",
       "8292        micro        4612 S Mason St Ste 120      None      None   \n",
       "8293      brewpub                 1902 E 7th Ave      None      None   \n",
       "8294        micro             5180 S Lowell Blvd      None      None   \n",
       "8295        micro            4624 Creek Dr Ste 6      None      None   \n",
       "8296        micro           22755 Hawthorne Blvd      None      None   \n",
       "\n",
       "                    city  state_province postal_code        country  \\\n",
       "8244                Waco           Texas  76712-3284  United States   \n",
       "8245           Nashville       Tennessee  37203-4111  United States   \n",
       "8246             Navarre         Florida  32566-9658  United States   \n",
       "8247        Johnson City       Tennessee  37604-5788  United States   \n",
       "8248             Delmont    Pennsylvania  15626-1461  United States   \n",
       "8249      Yellow Springs            Ohio  45387-2059  United States   \n",
       "8250       Rutherfordton  North Carolina  28139-2849  United States   \n",
       "8252          Huntsville         Alabama  35805-3046  United States   \n",
       "8253            Billings         Montana  59101-2404  United States   \n",
       "8254              Emmaus    Pennsylvania  18049-2008  United States   \n",
       "8255           Westbrook           Maine  04092-4143  United States   \n",
       "8256          Santa Rosa      California  95405-4703  United States   \n",
       "8257             Greeley        Colorado       80631  United States   \n",
       "8258     West Sacramento      California  95691-3814  United States   \n",
       "8259             Yonkers        New York  10701-7065  United States   \n",
       "8260                York           Maine       03902  United States   \n",
       "8261             Belmont  North Carolina  28012-3587  United States   \n",
       "8262           Mansfield    Pennsylvania  16933-1403  United States   \n",
       "8263            Torrance      California  90501-2236  United States   \n",
       "8264             Spokane      Washington  99201-4542  United States   \n",
       "8265         Canandaigua        New York  14424-2333  United States   \n",
       "8266      Virginia Beach        Virginia  23453-2988  United States   \n",
       "8267             Wexford    Pennsylvania       15090  United States   \n",
       "8268            Columbus            Ohio  43229-1050  United States   \n",
       "8269           Green Bay       Wisconsin  54305-0246  United States   \n",
       "8270         Weaverville  North Carolina  28787-8860  United States   \n",
       "8271             Marlton      New Jersey  08053-3007  United States   \n",
       "8272            Medfield   Massachusetts  02052-1594  United States   \n",
       "8273              Denver        Colorado  80216-1528  United States   \n",
       "8274         Zephyrhills         Florida  33542-4318  United States   \n",
       "8275          Burlington         Vermont       05401  United States   \n",
       "8276          Burlington         Vermont  05401-4922  United States   \n",
       "8277          San Angelo           Texas  76903-5833  United States   \n",
       "8278          Harrisburg    Pennsylvania  17102-2550  United States   \n",
       "8279  Jacksonville Beach         Florida  32250-6912  United States   \n",
       "8280              Austin           Texas  78702-2701  United States   \n",
       "8281             Woodfin  North Carolina  28804-3222  United States   \n",
       "8282          Springdale            Utah  84767-0420  United States   \n",
       "8284             Lincoln        Nebraska  68522-1027  United States   \n",
       "8285            Portland          Oregon  97266-4659  United States   \n",
       "8286              Clovis      California  93611-0503  United States   \n",
       "8287       Michigan City         Indiana  46360-3651  United States   \n",
       "8289            Waukegan        Illinois       60085  United States   \n",
       "8290              Denver        Colorado  80211-3753  United States   \n",
       "8291            Columbus         Indiana  47201-5756  United States   \n",
       "8292        Fort Collins        Colorado  80525-3794  United States   \n",
       "8293               Tampa         Florida  33605-3810  United States   \n",
       "8294           Littleton        Colorado       80123  United States   \n",
       "8295          Rapid City    South Dakota  57701-2165  United States   \n",
       "8296            Torrance      California  90505-3613  United States   \n",
       "\n",
       "         longitude     latitude       phone  \\\n",
       "8244          None         None  8014730669   \n",
       "8245  -86.78355595  36.15090195  6158914649   \n",
       "8246          None         None  8506841495   \n",
       "8247          None         None  4233289192   \n",
       "8248          None         None  7243003922   \n",
       "8249          None         None  9377670222   \n",
       "8250   -81.9581017   35.3666796  8283750089   \n",
       "8252   -86.5932014   34.7277523  2569755950   \n",
       "8253          None         None  4062450918   \n",
       "8254  -75.49366592  40.53379322  6104172804   \n",
       "8255  -70.35776285  43.67838435  2075910633   \n",
       "8256   -122.688361  38.44971636  7075219608   \n",
       "8257  -104.6929308   40.4221023  9703961606   \n",
       "8258  -121.5419585  38.56942885  9163797585   \n",
       "8259   -73.9029331   40.9345744  9143915805   \n",
       "8260          None         None        None   \n",
       "8261          None         None  7047555104   \n",
       "8262  -77.07838707  41.80758509  5704045805   \n",
       "8263  -118.3163507  33.83720085  4243765115   \n",
       "8264  -117.4281651    47.655248  5092703306   \n",
       "8265  -77.26938995  42.87560967  5852034337   \n",
       "8266          None         None  7576894021   \n",
       "8267          None         None        None   \n",
       "8268   -83.0003532   40.1063329  6146362537   \n",
       "8269          None         None  6124707926   \n",
       "8270          None         None        None   \n",
       "8271          None         None  8568727632   \n",
       "8272    -71.335472    42.200799  6275100270   \n",
       "8273          None         None  7202959374   \n",
       "8274  -82.17921783  28.23444039  8137152683   \n",
       "8275          None         None  8024970054   \n",
       "8276   -73.2140363   44.4595462  8024970054   \n",
       "8277  -100.4372363  31.46245419  3256535123   \n",
       "8278   -76.8915931   40.2717061  7177456218   \n",
       "8279  -81.39029104  30.29038796  9043720727   \n",
       "8280   -97.7245745   30.2621507  5127654946   \n",
       "8281  -82.57561089  35.61776547  8284846502   \n",
       "8282  -113.0358484  37.16063318  4357720404   \n",
       "8284   -96.7512302   40.8117948  4024751001   \n",
       "8285  -122.5679347   45.4808905  9713392374   \n",
       "8286  -119.6906567  36.82610331  5592600539   \n",
       "8287  -86.89216786    41.714577  2193316322   \n",
       "8289          None         None  8474207313   \n",
       "8290   -105.015409   39.7585929  3038626525   \n",
       "8291  -85.91883647  39.20865674  8123760200   \n",
       "8292          None         None  9702232482   \n",
       "8293  -82.43783229   27.9603438  8132524541   \n",
       "8294  -105.0346064   39.6229711  7206645280   \n",
       "8295  -103.1795198  44.03811547  6057910411   \n",
       "8296  -118.3524672   33.8635371  3106502474   \n",
       "\n",
       "                                website_url           state  \\\n",
       "8244                                   None           Texas   \n",
       "8245               http://www.yazoobrew.com       Tennessee   \n",
       "8246    http://www.yeoldbrothersbrewery.com         Florida   \n",
       "8247                                   None       Tennessee   \n",
       "8248     http://www.yellowbridgebrewing.com    Pennsylvania   \n",
       "8249    http://www.yellowspringsbrewery.com            Ohio   \n",
       "8250        http://www.yellowsunbrewing.com  North Carolina   \n",
       "8252     http://www.yellowhammerbrewery.com         Alabama   \n",
       "8253   http://www.yellowstonevalleybrew.com         Montana   \n",
       "8254               http://yergeybrewing.com    Pennsylvania   \n",
       "8255              http://www.yesbrewing.com           Maine   \n",
       "8256          http://www.yetirestaurant.com      California   \n",
       "8257     https://yettersbrewingcompany.com/        Colorado   \n",
       "8258                http://www.yolobrew.com      California   \n",
       "8259          http://www.yonkersbrewing.com        New York   \n",
       "8260                                   None           Maine   \n",
       "8261         http://www.yorkchesterbrew.com  North Carolina   \n",
       "8262         http://www.yorkholobrewing.com    Pennsylvania   \n",
       "8263  http://www.yorkshiresquarebrewery.com      California   \n",
       "8264        http://www.youngbuckbrewing.com      Washington   \n",
       "8265        http://www.younglionbrewing.com        New York   \n",
       "8266                    http://www.yvbc.com        Virginia   \n",
       "8267                                   None    Pennsylvania   \n",
       "8268             http://www.drinkzaftig.com            Ohio   \n",
       "8269                http://www.zambaldi.com       Wisconsin   \n",
       "8270          http://www.zebulonbrewing.com  North Carolina   \n",
       "8271                   http://drinkzeds.com      New Jersey   \n",
       "8272               http://www.zelusbeer.com   Massachusetts   \n",
       "8273         http://www.zephyrbrewingco.com        Colorado   \n",
       "8274                 http://www.zbcbeer.com         Florida   \n",
       "8275                                   None         Vermont   \n",
       "8276         http://www.zerogravitybeer.com         Vermont   \n",
       "8277                                   None           Texas   \n",
       "8278          http://www.zerodaybrewing.com    Pennsylvania   \n",
       "8279             http://www.zetabrewing.com         Florida   \n",
       "8280              http://www.zilkerbeer.com           Texas   \n",
       "8281                                   None  North Carolina   \n",
       "8282     http://www.zioncanyonbrewingco.com            Utah   \n",
       "8284          http://www.ziplinebrewing.com        Nebraska   \n",
       "8285               http://www.zoiglhaus.com          Oregon   \n",
       "8286                                   None      California   \n",
       "8287           http://www.zornbrewworks.com         Indiana   \n",
       "8289                 http://www.zumbier.com        Illinois   \n",
       "8290       http://www.zunistreetbrewing.com        Colorado   \n",
       "8291                http://www.zwanzigz.com         Indiana   \n",
       "8292       http://www.zweibruderbrewing.com        Colorado   \n",
       "8293                                   None         Florida   \n",
       "8294                http://zymosbrewing.com        Colorado   \n",
       "8295          http://www.zymurcracybeer.com    South Dakota   \n",
       "8296        http://www.zymurgybrewworks.com      California   \n",
       "\n",
       "                             street  \n",
       "8244                           None  \n",
       "8245                910 Division St  \n",
       "8246                4458 Highway 87  \n",
       "8247          126 Buffalo St Ste 30  \n",
       "8248                  2266 Route 66  \n",
       "8249          305 N Walnut St Ste B  \n",
       "8250                   127 Trade St  \n",
       "8252             2600 Clinton Ave W  \n",
       "8253                2123B 1st Ave N  \n",
       "8254                   518B Bank St  \n",
       "8255                    609 Main St  \n",
       "8256                 190 Farmers Ln  \n",
       "8257                   1011 9th Ave  \n",
       "8258               1520 Terminal St  \n",
       "8259                     92 Main St  \n",
       "8260                           None  \n",
       "8261          1500 River Dr Ste 250  \n",
       "8262                   19 N Main St  \n",
       "8263              1109 Van Ness Ave  \n",
       "8264               154 S Madison St  \n",
       "8265                24 Lakeshore Dr  \n",
       "8266  2505 Horse Pasture Rd Ste 104  \n",
       "8267                           None  \n",
       "8268          7020 Huntley Rd Ste A  \n",
       "8269                           None  \n",
       "8270              8 Merchents Alley  \n",
       "8271          19 N Maple Ave Unit B  \n",
       "8272               120 N Meadows Rd  \n",
       "8273          1609 E 58th Ave Ste G  \n",
       "8274                  38530 5th Ave  \n",
       "8275               716 Pinte Street  \n",
       "8276                    716 Pine St  \n",
       "8277            20 W Beauregard Ave  \n",
       "8278           250 Reily St Ste 103  \n",
       "8279                  131 1st Ave N  \n",
       "8280                  1701 E 6th St  \n",
       "8281               870 Riverside Dr  \n",
       "8282              95 Zion Park Blvd  \n",
       "8284          2100 Magnum Cir Ste 1  \n",
       "8285               5716 SE 92nd Ave  \n",
       "8286      1450 Tollhouse Rd Ste 105  \n",
       "8287                   605 E 9th St  \n",
       "8289               3232 E Monroe St  \n",
       "8290                2355 W 29th Ave  \n",
       "8291             1038 Lafayette Ave  \n",
       "8292        4612 S Mason St Ste 120  \n",
       "8293                 1902 E 7th Ave  \n",
       "8294             5180 S Lowell Blvd  \n",
       "8295            4624 Creek Dr Ste 6  \n",
       "8296           22755 Hawthorne Blvd  "
      ]
     },
     "execution_count": 8,
     "metadata": {},
     "output_type": "execute_result"
    }
   ],
   "source": [
    "#checking the tail to see the data\n",
    "us_brewery_df.tail(50)"
   ]
  },
  {
   "cell_type": "code",
   "execution_count": 9,
   "id": "64207bdf",
   "metadata": {},
   "outputs": [
    {
     "data": {
      "text/html": [
       "<div>\n",
       "<style scoped>\n",
       "    .dataframe tbody tr th:only-of-type {\n",
       "        vertical-align: middle;\n",
       "    }\n",
       "\n",
       "    .dataframe tbody tr th {\n",
       "        vertical-align: top;\n",
       "    }\n",
       "\n",
       "    .dataframe thead th {\n",
       "        text-align: right;\n",
       "    }\n",
       "</style>\n",
       "<table border=\"1\" class=\"dataframe\">\n",
       "  <thead>\n",
       "    <tr style=\"text-align: right;\">\n",
       "      <th></th>\n",
       "      <th>id</th>\n",
       "      <th>name</th>\n",
       "      <th>brewery_type</th>\n",
       "      <th>address_1</th>\n",
       "      <th>city</th>\n",
       "      <th>state_province</th>\n",
       "      <th>postal_code</th>\n",
       "      <th>country</th>\n",
       "    </tr>\n",
       "  </thead>\n",
       "  <tbody>\n",
       "    <tr>\n",
       "      <th>0</th>\n",
       "      <td>5128df48-79fc-4f0f-8b52-d06be54d0cec</td>\n",
       "      <td>(405) Brewing Co</td>\n",
       "      <td>micro</td>\n",
       "      <td>1716 Topeka St</td>\n",
       "      <td>Norman</td>\n",
       "      <td>Oklahoma</td>\n",
       "      <td>73069-8224</td>\n",
       "      <td>United States</td>\n",
       "    </tr>\n",
       "    <tr>\n",
       "      <th>1</th>\n",
       "      <td>9c5a66c8-cc13-416f-a5d9-0a769c87d318</td>\n",
       "      <td>(512) Brewing Co</td>\n",
       "      <td>micro</td>\n",
       "      <td>407 Radam Ln Ste F200</td>\n",
       "      <td>Austin</td>\n",
       "      <td>Texas</td>\n",
       "      <td>78745-1197</td>\n",
       "      <td>United States</td>\n",
       "    </tr>\n",
       "    <tr>\n",
       "      <th>2</th>\n",
       "      <td>34e8c68b-6146-453f-a4b9-1f6cd99a5ada</td>\n",
       "      <td>1 of Us Brewing Company</td>\n",
       "      <td>micro</td>\n",
       "      <td>8100 Washington Ave</td>\n",
       "      <td>Mount Pleasant</td>\n",
       "      <td>Wisconsin</td>\n",
       "      <td>53406-3920</td>\n",
       "      <td>United States</td>\n",
       "    </tr>\n",
       "    <tr>\n",
       "      <th>3</th>\n",
       "      <td>ef970757-fe42-416f-931d-722451f1f59c</td>\n",
       "      <td>10 Barrel Brewing Co</td>\n",
       "      <td>large</td>\n",
       "      <td>1501 E St</td>\n",
       "      <td>San Diego</td>\n",
       "      <td>California</td>\n",
       "      <td>92101-6618</td>\n",
       "      <td>United States</td>\n",
       "    </tr>\n",
       "    <tr>\n",
       "      <th>4</th>\n",
       "      <td>6d14b220-8926-4521-8d19-b98a2d6ec3db</td>\n",
       "      <td>10 Barrel Brewing Co</td>\n",
       "      <td>large</td>\n",
       "      <td>62970 18th St</td>\n",
       "      <td>Bend</td>\n",
       "      <td>Oregon</td>\n",
       "      <td>97701-9847</td>\n",
       "      <td>United States</td>\n",
       "    </tr>\n",
       "    <tr>\n",
       "      <th>...</th>\n",
       "      <td>...</td>\n",
       "      <td>...</td>\n",
       "      <td>...</td>\n",
       "      <td>...</td>\n",
       "      <td>...</td>\n",
       "      <td>...</td>\n",
       "      <td>...</td>\n",
       "      <td>...</td>\n",
       "    </tr>\n",
       "    <tr>\n",
       "      <th>8292</th>\n",
       "      <td>a602e9ea-f0b3-4a40-8aa8-02e0aace191c</td>\n",
       "      <td>Zwei Brewing Co</td>\n",
       "      <td>micro</td>\n",
       "      <td>4612 S Mason St Ste 120</td>\n",
       "      <td>Fort Collins</td>\n",
       "      <td>Colorado</td>\n",
       "      <td>80525-3794</td>\n",
       "      <td>United States</td>\n",
       "    </tr>\n",
       "    <tr>\n",
       "      <th>8293</th>\n",
       "      <td>8d18da7a-1ed9-4eb4-b87c-ac444aa81e14</td>\n",
       "      <td>Zydeco Brew Werks</td>\n",
       "      <td>brewpub</td>\n",
       "      <td>1902 E 7th Ave</td>\n",
       "      <td>Tampa</td>\n",
       "      <td>Florida</td>\n",
       "      <td>33605-3810</td>\n",
       "      <td>United States</td>\n",
       "    </tr>\n",
       "    <tr>\n",
       "      <th>8294</th>\n",
       "      <td>aabc26d3-4870-42e9-ae09-1333f85c3246</td>\n",
       "      <td>Zymos Brewing</td>\n",
       "      <td>micro</td>\n",
       "      <td>5180 S Lowell Blvd</td>\n",
       "      <td>Littleton</td>\n",
       "      <td>Colorado</td>\n",
       "      <td>80123</td>\n",
       "      <td>United States</td>\n",
       "    </tr>\n",
       "    <tr>\n",
       "      <th>8295</th>\n",
       "      <td>82234375-c7fa-4208-8878-b661b7a1e6aa</td>\n",
       "      <td>Zymurcracy Beer Company</td>\n",
       "      <td>micro</td>\n",
       "      <td>4624 Creek Dr Ste 6</td>\n",
       "      <td>Rapid City</td>\n",
       "      <td>South Dakota</td>\n",
       "      <td>57701-2165</td>\n",
       "      <td>United States</td>\n",
       "    </tr>\n",
       "    <tr>\n",
       "      <th>8296</th>\n",
       "      <td>e9d9a4ad-9583-4b07-846a-d99aeb5ea706</td>\n",
       "      <td>Zymurgy Brew Works</td>\n",
       "      <td>micro</td>\n",
       "      <td>22755 Hawthorne Blvd</td>\n",
       "      <td>Torrance</td>\n",
       "      <td>California</td>\n",
       "      <td>90505-3613</td>\n",
       "      <td>United States</td>\n",
       "    </tr>\n",
       "  </tbody>\n",
       "</table>\n",
       "<p>8031 rows × 8 columns</p>\n",
       "</div>"
      ],
      "text/plain": [
       "                                        id                     name  \\\n",
       "0     5128df48-79fc-4f0f-8b52-d06be54d0cec         (405) Brewing Co   \n",
       "1     9c5a66c8-cc13-416f-a5d9-0a769c87d318         (512) Brewing Co   \n",
       "2     34e8c68b-6146-453f-a4b9-1f6cd99a5ada  1 of Us Brewing Company   \n",
       "3     ef970757-fe42-416f-931d-722451f1f59c     10 Barrel Brewing Co   \n",
       "4     6d14b220-8926-4521-8d19-b98a2d6ec3db     10 Barrel Brewing Co   \n",
       "...                                    ...                      ...   \n",
       "8292  a602e9ea-f0b3-4a40-8aa8-02e0aace191c          Zwei Brewing Co   \n",
       "8293  8d18da7a-1ed9-4eb4-b87c-ac444aa81e14        Zydeco Brew Werks   \n",
       "8294  aabc26d3-4870-42e9-ae09-1333f85c3246            Zymos Brewing   \n",
       "8295  82234375-c7fa-4208-8878-b661b7a1e6aa  Zymurcracy Beer Company   \n",
       "8296  e9d9a4ad-9583-4b07-846a-d99aeb5ea706       Zymurgy Brew Works   \n",
       "\n",
       "     brewery_type                address_1            city state_province  \\\n",
       "0           micro           1716 Topeka St          Norman       Oklahoma   \n",
       "1           micro    407 Radam Ln Ste F200          Austin          Texas   \n",
       "2           micro      8100 Washington Ave  Mount Pleasant      Wisconsin   \n",
       "3           large                1501 E St       San Diego     California   \n",
       "4           large            62970 18th St            Bend         Oregon   \n",
       "...           ...                      ...             ...            ...   \n",
       "8292        micro  4612 S Mason St Ste 120    Fort Collins       Colorado   \n",
       "8293      brewpub           1902 E 7th Ave           Tampa        Florida   \n",
       "8294        micro       5180 S Lowell Blvd       Littleton       Colorado   \n",
       "8295        micro      4624 Creek Dr Ste 6      Rapid City   South Dakota   \n",
       "8296        micro     22755 Hawthorne Blvd        Torrance     California   \n",
       "\n",
       "     postal_code        country  \n",
       "0     73069-8224  United States  \n",
       "1     78745-1197  United States  \n",
       "2     53406-3920  United States  \n",
       "3     92101-6618  United States  \n",
       "4     97701-9847  United States  \n",
       "...          ...            ...  \n",
       "8292  80525-3794  United States  \n",
       "8293  33605-3810  United States  \n",
       "8294       80123  United States  \n",
       "8295  57701-2165  United States  \n",
       "8296  90505-3613  United States  \n",
       "\n",
       "[8031 rows x 8 columns]"
      ]
     },
     "execution_count": 9,
     "metadata": {},
     "output_type": "execute_result"
    }
   ],
   "source": [
    "#dropping unnecessary or duplicate columns\n",
    "us_brewery_df2 = us_brewery_df.drop(columns=['address_2', 'address_3', 'longitude', 'latitude', 'phone', 'state', 'street', 'website_url'])\n",
    "\n",
    "us_brewery_df2"
   ]
  },
  {
   "cell_type": "code",
   "execution_count": 10,
   "id": "5d5ebc41",
   "metadata": {},
   "outputs": [
    {
     "data": {
      "text/plain": [
       "array(['micro', 'large', 'closed', 'brewpub', 'proprietor', 'contract',\n",
       "       'regional', 'planning', 'taproom', 'nano', 'bar', 'location'],\n",
       "      dtype=object)"
      ]
     },
     "execution_count": 10,
     "metadata": {},
     "output_type": "execute_result"
    }
   ],
   "source": [
    "#checking for any nulls in the brewery type data\n",
    "us_brewery_df2['brewery_type'].isnull().sum()\n",
    "\n",
    "#checking for any values that were not expected\n",
    "us_brewery_df2['brewery_type'].unique()"
   ]
  },
  {
   "cell_type": "code",
   "execution_count": 11,
   "id": "db6f040e",
   "metadata": {},
   "outputs": [],
   "source": [
    "#removing types that aren't breweries, currently open and a random type (location) that exists\n",
    "unuseful_types = ['location', 'bar', 'closed', 'planning']\n",
    "us_brewery_df3 = us_brewery_df2[~us_brewery_df2['brewery_type'].isin(unuseful_types)]"
   ]
  },
  {
   "cell_type": "code",
   "execution_count": 12,
   "id": "5c49a588",
   "metadata": {},
   "outputs": [
    {
     "data": {
      "image/png": "[encoded data removed]",
      "text/plain": [
       "<Figure size 720x432 with 1 Axes>"
      ]
     },
     "metadata": {
      "needs_background": "light"
     },
     "output_type": "display_data"
    }
   ],
   "source": [
    "#counting how many breweries fall within each type\n",
    "us_brewery_counts = us_brewery_df3['brewery_type'].value_counts()\n",
    "\n",
    "#bar chart for the brewery types\n",
    "plt.figure(figsize=(10, 6))\n",
    "us_brewery_counts.plot(kind='bar', color='blue')\n",
    "plt.title('Number of Breweries by Type')\n",
    "plt.xlabel('Brewery Type')\n",
    "plt.ylabel('Number of Breweries')\n",
    "plt.xticks(rotation=45)\n",
    "plt.show()"
   ]
  },
  {
   "cell_type": "code",
   "execution_count": 13,
   "id": "ac167dcf",
   "metadata": {},
   "outputs": [],
   "source": [
    "#created a copy of the dataframe to avoid a slice issue, jupyter notebook said I originally created a slice issue\n",
    "us_brewery_df4 = us_brewery_df3.copy()\n",
    "\n",
    "#cleaned the state_province column, there was a MIssouri and a space before a Utah\n",
    "us_brewery_df4['state_province'] = us_brewery_df4['state_province'].str.strip().str.title()\n",
    "\n",
    "#grouped by state and counted the number in each state\n",
    "breweries_by_state = us_brewery_df4.groupby('state_province').size()"
   ]
  },
  {
   "cell_type": "code",
   "execution_count": 25,
   "id": "450389b6",
   "metadata": {},
   "outputs": [
    {
     "data": {
      "application/vnd.plotly.v1+json": {
       "config": {
        "plotlyServerURL": "https://plot.ly"
       },
       "data": [
        {
         "coloraxis": "coloraxis",
         "geo": "geo",
         "hovertemplate": "state_abbr=%{location}<br>Number of Breweries=%{z}<extra></extra>",
         "locationmode": "USA-states",
         "locations": [
          "AL",
          "AK",
          "AZ",
          "AR",
          "CA",
          "CO",
          "CT",
          "DE",
          "DC",
          "FL",
          "GA",
          "HI",
          "ID",
          "IL",
          "IN",
          "IA",
          "KS",
          "KY",
          "LA",
          "ME",
          "MD",
          "MA",
          "MI",
          "MN",
          "MS",
          "MO",
          "MT",
          "NE",
          "NV",
          "NH",
          "NJ",
          "NM",
          "NY",
          "NC",
          "ND",
          "OH",
          "OK",
          "OR",
          "PA",
          "RI",
          "SC",
          "SD",
          "TN",
          "TX",
          "UT",
          "VT",
          "VA",
          "WA",
          "WV",
          "WI",
          "WY"
         ],
         "name": "",
         "type": "choropleth",
         "z": [
          37,
          45,
          111,
          41,
          801,
          400,
          67,
          26,
          14,
          274,
          81,
          20,
          62,
          234,
          142,
          89,
          40,
          55,
          35,
          107,
          91,
          146,
          354,
          169,
          16,
          126,
          82,
          56,
          45,
          72,
          101,
          78,
          381,
          278,
          22,
          276,
          39,
          272,
          309,
          31,
          70,
          41,
          91,
          293,
          38,
          57,
          220,
          406,
          36,
          206,
          46
         ]
        }
       ],
       "layout": {
        "coloraxis": {
         "colorbar": {
          "title": {
           "text": "Number of Breweries"
          }
         },
         "colorscale": [
          [
           0,
           "rgb(255,255,217)"
          ],
          [
           0.125,
           "rgb(237,248,177)"
          ],
          [
           0.25,
           "rgb(199,233,180)"
          ],
          [
           0.375,
           "rgb(127,205,187)"
          ],
          [
           0.5,
           "rgb(65,182,196)"
          ],
          [
           0.625,
           "rgb(29,145,192)"
          ],
          [
           0.75,
           "rgb(34,94,168)"
          ],
          [
           0.875,
           "rgb(37,52,148)"
          ],
          [
           1,
           "rgb(8,29,88)"
          ]
         ]
        },
        "geo": {
         "center": {},
         "domain": {
          "x": [
           0,
           1
          ],
          "y": [
           0,
           1
          ]
         },
         "scope": "usa"
        },
        "legend": {
         "tracegroupgap": 0
        },
        "template": {
         "data": {
          "bar": [
           {
            "error_x": {
             "color": "#2a3f5f"
            },
            "error_y": {
             "color": "#2a3f5f"
            },
            "marker": {
             "line": {
              "color": "#E5ECF6",
              "width": 0.5
             },
             "pattern": {
              "fillmode": "overlay",
              "size": 10,
              "solidity": 0.2
             }
            },
            "type": "bar"
           }
          ],
          "barpolar": [
           {
            "marker": {
             "line": {
              "color": "#E5ECF6",
              "width": 0.5
             },
             "pattern": {
              "fillmode": "overlay",
              "size": 10,
              "solidity": 0.2
             }
            },
            "type": "barpolar"
           }
          ],
          "carpet": [
           {
            "aaxis": {
             "endlinecolor": "#2a3f5f",
             "gridcolor": "white",
             "linecolor": "white",
             "minorgridcolor": "white",
             "startlinecolor": "#2a3f5f"
            },
            "baxis": {
             "endlinecolor": "#2a3f5f",
             "gridcolor": "white",
             "linecolor": "white",
             "minorgridcolor": "white",
             "startlinecolor": "#2a3f5f"
            },
            "type": "carpet"
           }
          ],
          "choropleth": [
           {
            "colorbar": {
             "outlinewidth": 0,
             "ticks": ""
            },
            "type": "choropleth"
           }
          ],
          "contour": [
           {
            "colorbar": {
             "outlinewidth": 0,
             "ticks": ""
            },
            "colorscale": [
             [
              0,
              "#0d0887"
             ],
             [
              0.1111111111111111,
              "#46039f"
             ],
             [
              0.2222222222222222,
              "#7201a8"
             ],
             [
              0.3333333333333333,
              "#9c179e"
             ],
             [
              0.4444444444444444,
              "#bd3786"
             ],
             [
              0.5555555555555556,
              "#d8576b"
             ],
             [
              0.6666666666666666,
              "#ed7953"
             ],
             [
              0.7777777777777778,
              "#fb9f3a"
             ],
             [
              0.8888888888888888,
              "#fdca26"
             ],
             [
              1,
              "#f0f921"
             ]
            ],
            "type": "contour"
           }
          ],
          "contourcarpet": [
           {
            "colorbar": {
             "outlinewidth": 0,
             "ticks": ""
            },
            "type": "contourcarpet"
           }
          ],
          "heatmap": [
           {
            "colorbar": {
             "outlinewidth": 0,
             "ticks": ""
            },
            "colorscale": [
             [
              0,
              "#0d0887"
             ],
             [
              0.1111111111111111,
              "#46039f"
             ],
             [
              0.2222222222222222,
              "#7201a8"
             ],
             [
              0.3333333333333333,
              "#9c179e"
             ],
             [
              0.4444444444444444,
              "#bd3786"
             ],
             [
              0.5555555555555556,
              "#d8576b"
             ],
             [
              0.6666666666666666,
              "#ed7953"
             ],
             [
              0.7777777777777778,
              "#fb9f3a"
             ],
             [
              0.8888888888888888,
              "#fdca26"
             ],
             [
              1,
              "#f0f921"
             ]
            ],
            "type": "heatmap"
           }
          ],
          "heatmapgl": [
           {
            "colorbar": {
             "outlinewidth": 0,
             "ticks": ""
            },
            "colorscale": [
             [
              0,
              "#0d0887"
             ],
             [
              0.1111111111111111,
              "#46039f"
             ],
             [
              0.2222222222222222,
              "#7201a8"
             ],
             [
              0.3333333333333333,
              "#9c179e"
             ],
             [
              0.4444444444444444,
              "#bd3786"
             ],
             [
              0.5555555555555556,
              "#d8576b"
             ],
             [
              0.6666666666666666,
              "#ed7953"
             ],
             [
              0.7777777777777778,
              "#fb9f3a"
             ],
             [
              0.8888888888888888,
              "#fdca26"
             ],
             [
              1,
              "#f0f921"
             ]
            ],
            "type": "heatmapgl"
           }
          ],
          "histogram": [
           {
            "marker": {
             "pattern": {
              "fillmode": "overlay",
              "size": 10,
              "solidity": 0.2
             }
            },
            "type": "histogram"
           }
          ],
          "histogram2d": [
           {
            "colorbar": {
             "outlinewidth": 0,
             "ticks": ""
            },
            "colorscale": [
             [
              0,
              "#0d0887"
             ],
             [
              0.1111111111111111,
              "#46039f"
             ],
             [
              0.2222222222222222,
              "#7201a8"
             ],
             [
              0.3333333333333333,
              "#9c179e"
             ],
             [
              0.4444444444444444,
              "#bd3786"
             ],
             [
              0.5555555555555556,
              "#d8576b"
             ],
             [
              0.6666666666666666,
              "#ed7953"
             ],
             [
              0.7777777777777778,
              "#fb9f3a"
             ],
             [
              0.8888888888888888,
              "#fdca26"
             ],
             [
              1,
              "#f0f921"
             ]
            ],
            "type": "histogram2d"
           }
          ],
          "histogram2dcontour": [
           {
            "colorbar": {
             "outlinewidth": 0,
             "ticks": ""
            },
            "colorscale": [
             [
              0,
              "#0d0887"
             ],
             [
              0.1111111111111111,
              "#46039f"
             ],
             [
              0.2222222222222222,
              "#7201a8"
             ],
             [
              0.3333333333333333,
              "#9c179e"
             ],
             [
              0.4444444444444444,
              "#bd3786"
             ],
             [
              0.5555555555555556,
              "#d8576b"
             ],
             [
              0.6666666666666666,
              "#ed7953"
             ],
             [
              0.7777777777777778,
              "#fb9f3a"
             ],
             [
              0.8888888888888888,
              "#fdca26"
             ],
             [
              1,
              "#f0f921"
             ]
            ],
            "type": "histogram2dcontour"
           }
          ],
          "mesh3d": [
           {
            "colorbar": {
             "outlinewidth": 0,
             "ticks": ""
            },
            "type": "mesh3d"
           }
          ],
          "parcoords": [
           {
            "line": {
             "colorbar": {
              "outlinewidth": 0,
              "ticks": ""
             }
            },
            "type": "parcoords"
           }
          ],
          "pie": [
           {
            "automargin": true,
            "type": "pie"
           }
          ],
          "scatter": [
           {
            "fillpattern": {
             "fillmode": "overlay",
             "size": 10,
             "solidity": 0.2
            },
            "type": "scatter"
           }
          ],
          "scatter3d": [
           {
            "line": {
             "colorbar": {
              "outlinewidth": 0,
              "ticks": ""
             }
            },
            "marker": {
             "colorbar": {
              "outlinewidth": 0,
              "ticks": ""
             }
            },
            "type": "scatter3d"
           }
          ],
          "scattercarpet": [
           {
            "marker": {
             "colorbar": {
              "outlinewidth": 0,
              "ticks": ""
             }
            },
            "type": "scattercarpet"
           }
          ],
          "scattergeo": [
           {
            "marker": {
             "colorbar": {
              "outlinewidth": 0,
              "ticks": ""
             }
            },
            "type": "scattergeo"
           }
          ],
          "scattergl": [
           {
            "marker": {
             "colorbar": {
              "outlinewidth": 0,
              "ticks": ""
             }
            },
            "type": "scattergl"
           }
          ],
          "scattermapbox": [
           {
            "marker": {
             "colorbar": {
              "outlinewidth": 0,
              "ticks": ""
             }
            },
            "type": "scattermapbox"
           }
          ],
          "scatterpolar": [
           {
            "marker": {
             "colorbar": {
              "outlinewidth": 0,
              "ticks": ""
             }
            },
            "type": "scatterpolar"
           }
          ],
          "scatterpolargl": [
           {
            "marker": {
             "colorbar": {
              "outlinewidth": 0,
              "ticks": ""
             }
            },
            "type": "scatterpolargl"
           }
          ],
          "scatterternary": [
           {
            "marker": {
             "colorbar": {
              "outlinewidth": 0,
              "ticks": ""
             }
            },
            "type": "scatterternary"
           }
          ],
          "surface": [
           {
            "colorbar": {
             "outlinewidth": 0,
             "ticks": ""
            },
            "colorscale": [
             [
              0,
              "#0d0887"
             ],
             [
              0.1111111111111111,
              "#46039f"
             ],
             [
              0.2222222222222222,
              "#7201a8"
             ],
             [
              0.3333333333333333,
              "#9c179e"
             ],
             [
              0.4444444444444444,
              "#bd3786"
             ],
             [
              0.5555555555555556,
              "#d8576b"
             ],
             [
              0.6666666666666666,
              "#ed7953"
             ],
             [
              0.7777777777777778,
              "#fb9f3a"
             ],
             [
              0.8888888888888888,
              "#fdca26"
             ],
             [
              1,
              "#f0f921"
             ]
            ],
            "type": "surface"
           }
          ],
          "table": [
           {
            "cells": {
             "fill": {
              "color": "#EBF0F8"
             },
             "line": {
              "color": "white"
             }
            },
            "header": {
             "fill": {
              "color": "#C8D4E3"
             },
             "line": {
              "color": "white"
             }
            },
            "type": "table"
           }
          ]
         },
         "layout": {
          "annotationdefaults": {
           "arrowcolor": "#2a3f5f",
           "arrowhead": 0,
           "arrowwidth": 1
          },
          "autotypenumbers": "strict",
          "coloraxis": {
           "colorbar": {
            "outlinewidth": 0,
            "ticks": ""
           }
          },
          "colorscale": {
           "diverging": [
            [
             0,
             "#8e0152"
            ],
            [
             0.1,
             "#c51b7d"
            ],
            [
             0.2,
             "#de77ae"
            ],
            [
             0.3,
             "#f1b6da"
            ],
            [
             0.4,
             "#fde0ef"
            ],
            [
             0.5,
             "#f7f7f7"
            ],
            [
             0.6,
             "#e6f5d0"
            ],
            [
             0.7,
             "#b8e186"
            ],
            [
             0.8,
             "#7fbc41"
            ],
            [
             0.9,
             "#4d9221"
            ],
            [
             1,
             "#276419"
            ]
           ],
           "sequential": [
            [
             0,
             "#0d0887"
            ],
            [
             0.1111111111111111,
             "#46039f"
            ],
            [
             0.2222222222222222,
             "#7201a8"
            ],
            [
             0.3333333333333333,
             "#9c179e"
            ],
            [
             0.4444444444444444,
             "#bd3786"
            ],
            [
             0.5555555555555556,
             "#d8576b"
            ],
            [
             0.6666666666666666,
             "#ed7953"
            ],
            [
             0.7777777777777778,
             "#fb9f3a"
            ],
            [
             0.8888888888888888,
             "#fdca26"
            ],
            [
             1,
             "#f0f921"
            ]
           ],
           "sequentialminus": [
            [
             0,
             "#0d0887"
            ],
            [
             0.1111111111111111,
             "#46039f"
            ],
            [
             0.2222222222222222,
             "#7201a8"
            ],
            [
             0.3333333333333333,
             "#9c179e"
            ],
            [
             0.4444444444444444,
             "#bd3786"
            ],
            [
             0.5555555555555556,
             "#d8576b"
            ],
            [
             0.6666666666666666,
             "#ed7953"
            ],
            [
             0.7777777777777778,
             "#fb9f3a"
            ],
            [
             0.8888888888888888,
             "#fdca26"
            ],
            [
             1,
             "#f0f921"
            ]
           ]
          },
          "colorway": [
           "#636efa",
           "#EF553B",
           "#00cc96",
           "#ab63fa",
           "#FFA15A",
           "#19d3f3",
           "#FF6692",
           "#B6E880",
           "#FF97FF",
           "#FECB52"
          ],
          "font": {
           "color": "#2a3f5f"
          },
          "geo": {
           "bgcolor": "white",
           "lakecolor": "white",
           "landcolor": "#E5ECF6",
           "showlakes": true,
           "showland": true,
           "subunitcolor": "white"
          },
          "hoverlabel": {
           "align": "left"
          },
          "hovermode": "closest",
          "mapbox": {
           "style": "light"
          },
          "paper_bgcolor": "white",
          "plot_bgcolor": "#E5ECF6",
          "polar": {
           "angularaxis": {
            "gridcolor": "white",
            "linecolor": "white",
            "ticks": ""
           },
           "bgcolor": "#E5ECF6",
           "radialaxis": {
            "gridcolor": "white",
            "linecolor": "white",
            "ticks": ""
           }
          },
          "scene": {
           "xaxis": {
            "backgroundcolor": "#E5ECF6",
            "gridcolor": "white",
            "gridwidth": 2,
            "linecolor": "white",
            "showbackground": true,
            "ticks": "",
            "zerolinecolor": "white"
           },
           "yaxis": {
            "backgroundcolor": "#E5ECF6",
            "gridcolor": "white",
            "gridwidth": 2,
            "linecolor": "white",
            "showbackground": true,
            "ticks": "",
            "zerolinecolor": "white"
           },
           "zaxis": {
            "backgroundcolor": "#E5ECF6",
            "gridcolor": "white",
            "gridwidth": 2,
            "linecolor": "white",
            "showbackground": true,
            "ticks": "",
            "zerolinecolor": "white"
           }
          },
          "shapedefaults": {
           "line": {
            "color": "#2a3f5f"
           }
          },
          "ternary": {
           "aaxis": {
            "gridcolor": "white",
            "linecolor": "white",
            "ticks": ""
           },
           "baxis": {
            "gridcolor": "white",
            "linecolor": "white",
            "ticks": ""
           },
           "bgcolor": "#E5ECF6",
           "caxis": {
            "gridcolor": "white",
            "linecolor": "white",
            "ticks": ""
           }
          },
          "title": {
           "x": 0.05
          },
          "xaxis": {
           "automargin": true,
           "gridcolor": "white",
           "linecolor": "white",
           "ticks": "",
           "title": {
            "standoff": 15
           },
           "zerolinecolor": "white",
           "zerolinewidth": 2
          },
          "yaxis": {
           "automargin": true,
           "gridcolor": "white",
           "linecolor": "white",
           "ticks": "",
           "title": {
            "standoff": 15
           },
           "zerolinecolor": "white",
           "zerolinewidth": 2
          }
         }
        },
        "title": {
         "text": "Number of Breweries by State in the US"
        }
       }
      },
      "text/html": [
       "<div>                            <div id=\"e63d24e4-e93a-4a41-b877-e07719c8ed03\" class=\"plotly-graph-div\" style=\"height:525px; width:100%;\"></div>            <script type=\"text/javascript\">                require([\"plotly\"], function(Plotly) {                    window.PLOTLYENV=window.PLOTLYENV || {};                                    if (document.getElementById(\"e63d24e4-e93a-4a41-b877-e07719c8ed03\")) {                    Plotly.newPlot(                        \"e63d24e4-e93a-4a41-b877-e07719c8ed03\",                        [{\"coloraxis\":\"coloraxis\",\"geo\":\"geo\",\"hovertemplate\":\"state_abbr=%{location}<br>Number of Breweries=%{z}<extra></extra>\",\"locationmode\":\"USA-states\",\"locations\":[\"AL\",\"AK\",\"AZ\",\"AR\",\"CA\",\"CO\",\"CT\",\"DE\",\"DC\",\"FL\",\"GA\",\"HI\",\"ID\",\"IL\",\"IN\",\"IA\",\"KS\",\"KY\",\"LA\",\"ME\",\"MD\",\"MA\",\"MI\",\"MN\",\"MS\",\"MO\",\"MT\",\"NE\",\"NV\",\"NH\",\"NJ\",\"NM\",\"NY\",\"NC\",\"ND\",\"OH\",\"OK\",\"OR\",\"PA\",\"RI\",\"SC\",\"SD\",\"TN\",\"TX\",\"UT\",\"VT\",\"VA\",\"WA\",\"WV\",\"WI\",\"WY\"],\"name\":\"\",\"z\":[37,45,111,41,801,400,67,26,14,274,81,20,62,234,142,89,40,55,35,107,91,146,354,169,16,126,82,56,45,72,101,78,381,278,22,276,39,272,309,31,70,41,91,293,38,57,220,406,36,206,46],\"type\":\"choropleth\"}],                        {\"template\":{\"data\":{\"histogram2dcontour\":[{\"type\":\"histogram2dcontour\",\"colorbar\":{\"outlinewidth\":0,\"ticks\":\"\"},\"colorscale\":[[0.0,\"#0d0887\"],[0.1111111111111111,\"#46039f\"],[0.2222222222222222,\"#7201a8\"],[0.3333333333333333,\"#9c179e\"],[0.4444444444444444,\"#bd3786\"],[0.5555555555555556,\"#d8576b\"],[0.6666666666666666,\"#ed7953\"],[0.7777777777777778,\"#fb9f3a\"],[0.8888888888888888,\"#fdca26\"],[1.0,\"#f0f921\"]]}],\"choropleth\":[{\"type\":\"choropleth\",\"colorbar\":{\"outlinewidth\":0,\"ticks\":\"\"}}],\"histogram2d\":[{\"type\":\"histogram2d\",\"colorbar\":{\"outlinewidth\":0,\"ticks\":\"\"},\"colorscale\":[[0.0,\"#0d0887\"],[0.1111111111111111,\"#46039f\"],[0.2222222222222222,\"#7201a8\"],[0.3333333333333333,\"#9c179e\"],[0.4444444444444444,\"#bd3786\"],[0.5555555555555556,\"#d8576b\"],[0.6666666666666666,\"#ed7953\"],[0.7777777777777778,\"#fb9f3a\"],[0.8888888888888888,\"#fdca26\"],[1.0,\"#f0f921\"]]}],\"heatmap\":[{\"type\":\"heatmap\",\"colorbar\":{\"outlinewidth\":0,\"ticks\":\"\"},\"colorscale\":[[0.0,\"#0d0887\"],[0.1111111111111111,\"#46039f\"],[0.2222222222222222,\"#7201a8\"],[0.3333333333333333,\"#9c179e\"],[0.4444444444444444,\"#bd3786\"],[0.5555555555555556,\"#d8576b\"],[0.6666666666666666,\"#ed7953\"],[0.7777777777777778,\"#fb9f3a\"],[0.8888888888888888,\"#fdca26\"],[1.0,\"#f0f921\"]]}],\"heatmapgl\":[{\"type\":\"heatmapgl\",\"colorbar\":{\"outlinewidth\":0,\"ticks\":\"\"},\"colorscale\":[[0.0,\"#0d0887\"],[0.1111111111111111,\"#46039f\"],[0.2222222222222222,\"#7201a8\"],[0.3333333333333333,\"#9c179e\"],[0.4444444444444444,\"#bd3786\"],[0.5555555555555556,\"#d8576b\"],[0.6666666666666666,\"#ed7953\"],[0.7777777777777778,\"#fb9f3a\"],[0.8888888888888888,\"#fdca26\"],[1.0,\"#f0f921\"]]}],\"contourcarpet\":[{\"type\":\"contourcarpet\",\"colorbar\":{\"outlinewidth\":0,\"ticks\":\"\"}}],\"contour\":[{\"type\":\"contour\",\"colorbar\":{\"outlinewidth\":0,\"ticks\":\"\"},\"colorscale\":[[0.0,\"#0d0887\"],[0.1111111111111111,\"#46039f\"],[0.2222222222222222,\"#7201a8\"],[0.3333333333333333,\"#9c179e\"],[0.4444444444444444,\"#bd3786\"],[0.5555555555555556,\"#d8576b\"],[0.6666666666666666,\"#ed7953\"],[0.7777777777777778,\"#fb9f3a\"],[0.8888888888888888,\"#fdca26\"],[1.0,\"#f0f921\"]]}],\"surface\":[{\"type\":\"surface\",\"colorbar\":{\"outlinewidth\":0,\"ticks\":\"\"},\"colorscale\":[[0.0,\"#0d0887\"],[0.1111111111111111,\"#46039f\"],[0.2222222222222222,\"#7201a8\"],[0.3333333333333333,\"#9c179e\"],[0.4444444444444444,\"#bd3786\"],[0.5555555555555556,\"#d8576b\"],[0.6666666666666666,\"#ed7953\"],[0.7777777777777778,\"#fb9f3a\"],[0.8888888888888888,\"#fdca26\"],[1.0,\"#f0f921\"]]}],\"mesh3d\":[{\"type\":\"mesh3d\",\"colorbar\":{\"outlinewidth\":0,\"ticks\":\"\"}}],\"scatter\":[{\"fillpattern\":{\"fillmode\":\"overlay\",\"size\":10,\"solidity\":0.2},\"type\":\"scatter\"}],\"parcoords\":[{\"type\":\"parcoords\",\"line\":{\"colorbar\":{\"outlinewidth\":0,\"ticks\":\"\"}}}],\"scatterpolargl\":[{\"type\":\"scatterpolargl\",\"marker\":{\"colorbar\":{\"outlinewidth\":0,\"ticks\":\"\"}}}],\"bar\":[{\"error_x\":{\"color\":\"#2a3f5f\"},\"error_y\":{\"color\":\"#2a3f5f\"},\"marker\":{\"line\":{\"color\":\"#E5ECF6\",\"width\":0.5},\"pattern\":{\"fillmode\":\"overlay\",\"size\":10,\"solidity\":0.2}},\"type\":\"bar\"}],\"scattergeo\":[{\"type\":\"scattergeo\",\"marker\":{\"colorbar\":{\"outlinewidth\":0,\"ticks\":\"\"}}}],\"scatterpolar\":[{\"type\":\"scatterpolar\",\"marker\":{\"colorbar\":{\"outlinewidth\":0,\"ticks\":\"\"}}}],\"histogram\":[{\"marker\":{\"pattern\":{\"fillmode\":\"overlay\",\"size\":10,\"solidity\":0.2}},\"type\":\"histogram\"}],\"scattergl\":[{\"type\":\"scattergl\",\"marker\":{\"colorbar\":{\"outlinewidth\":0,\"ticks\":\"\"}}}],\"scatter3d\":[{\"type\":\"scatter3d\",\"line\":{\"colorbar\":{\"outlinewidth\":0,\"ticks\":\"\"}},\"marker\":{\"colorbar\":{\"outlinewidth\":0,\"ticks\":\"\"}}}],\"scattermapbox\":[{\"type\":\"scattermapbox\",\"marker\":{\"colorbar\":{\"outlinewidth\":0,\"ticks\":\"\"}}}],\"scatterternary\":[{\"type\":\"scatterternary\",\"marker\":{\"colorbar\":{\"outlinewidth\":0,\"ticks\":\"\"}}}],\"scattercarpet\":[{\"type\":\"scattercarpet\",\"marker\":{\"colorbar\":{\"outlinewidth\":0,\"ticks\":\"\"}}}],\"carpet\":[{\"aaxis\":{\"endlinecolor\":\"#2a3f5f\",\"gridcolor\":\"white\",\"linecolor\":\"white\",\"minorgridcolor\":\"white\",\"startlinecolor\":\"#2a3f5f\"},\"baxis\":{\"endlinecolor\":\"#2a3f5f\",\"gridcolor\":\"white\",\"linecolor\":\"white\",\"minorgridcolor\":\"white\",\"startlinecolor\":\"#2a3f5f\"},\"type\":\"carpet\"}],\"table\":[{\"cells\":{\"fill\":{\"color\":\"#EBF0F8\"},\"line\":{\"color\":\"white\"}},\"header\":{\"fill\":{\"color\":\"#C8D4E3\"},\"line\":{\"color\":\"white\"}},\"type\":\"table\"}],\"barpolar\":[{\"marker\":{\"line\":{\"color\":\"#E5ECF6\",\"width\":0.5},\"pattern\":{\"fillmode\":\"overlay\",\"size\":10,\"solidity\":0.2}},\"type\":\"barpolar\"}],\"pie\":[{\"automargin\":true,\"type\":\"pie\"}]},\"layout\":{\"autotypenumbers\":\"strict\",\"colorway\":[\"#636efa\",\"#EF553B\",\"#00cc96\",\"#ab63fa\",\"#FFA15A\",\"#19d3f3\",\"#FF6692\",\"#B6E880\",\"#FF97FF\",\"#FECB52\"],\"font\":{\"color\":\"#2a3f5f\"},\"hovermode\":\"closest\",\"hoverlabel\":{\"align\":\"left\"},\"paper_bgcolor\":\"white\",\"plot_bgcolor\":\"#E5ECF6\",\"polar\":{\"bgcolor\":\"#E5ECF6\",\"angularaxis\":{\"gridcolor\":\"white\",\"linecolor\":\"white\",\"ticks\":\"\"},\"radialaxis\":{\"gridcolor\":\"white\",\"linecolor\":\"white\",\"ticks\":\"\"}},\"ternary\":{\"bgcolor\":\"#E5ECF6\",\"aaxis\":{\"gridcolor\":\"white\",\"linecolor\":\"white\",\"ticks\":\"\"},\"baxis\":{\"gridcolor\":\"white\",\"linecolor\":\"white\",\"ticks\":\"\"},\"caxis\":{\"gridcolor\":\"white\",\"linecolor\":\"white\",\"ticks\":\"\"}},\"coloraxis\":{\"colorbar\":{\"outlinewidth\":0,\"ticks\":\"\"}},\"colorscale\":{\"sequential\":[[0.0,\"#0d0887\"],[0.1111111111111111,\"#46039f\"],[0.2222222222222222,\"#7201a8\"],[0.3333333333333333,\"#9c179e\"],[0.4444444444444444,\"#bd3786\"],[0.5555555555555556,\"#d8576b\"],[0.6666666666666666,\"#ed7953\"],[0.7777777777777778,\"#fb9f3a\"],[0.8888888888888888,\"#fdca26\"],[1.0,\"#f0f921\"]],\"sequentialminus\":[[0.0,\"#0d0887\"],[0.1111111111111111,\"#46039f\"],[0.2222222222222222,\"#7201a8\"],[0.3333333333333333,\"#9c179e\"],[0.4444444444444444,\"#bd3786\"],[0.5555555555555556,\"#d8576b\"],[0.6666666666666666,\"#ed7953\"],[0.7777777777777778,\"#fb9f3a\"],[0.8888888888888888,\"#fdca26\"],[1.0,\"#f0f921\"]],\"diverging\":[[0,\"#8e0152\"],[0.1,\"#c51b7d\"],[0.2,\"#de77ae\"],[0.3,\"#f1b6da\"],[0.4,\"#fde0ef\"],[0.5,\"#f7f7f7\"],[0.6,\"#e6f5d0\"],[0.7,\"#b8e186\"],[0.8,\"#7fbc41\"],[0.9,\"#4d9221\"],[1,\"#276419\"]]},\"xaxis\":{\"gridcolor\":\"white\",\"linecolor\":\"white\",\"ticks\":\"\",\"title\":{\"standoff\":15},\"zerolinecolor\":\"white\",\"automargin\":true,\"zerolinewidth\":2},\"yaxis\":{\"gridcolor\":\"white\",\"linecolor\":\"white\",\"ticks\":\"\",\"title\":{\"standoff\":15},\"zerolinecolor\":\"white\",\"automargin\":true,\"zerolinewidth\":2},\"scene\":{\"xaxis\":{\"backgroundcolor\":\"#E5ECF6\",\"gridcolor\":\"white\",\"linecolor\":\"white\",\"showbackground\":true,\"ticks\":\"\",\"zerolinecolor\":\"white\",\"gridwidth\":2},\"yaxis\":{\"backgroundcolor\":\"#E5ECF6\",\"gridcolor\":\"white\",\"linecolor\":\"white\",\"showbackground\":true,\"ticks\":\"\",\"zerolinecolor\":\"white\",\"gridwidth\":2},\"zaxis\":{\"backgroundcolor\":\"#E5ECF6\",\"gridcolor\":\"white\",\"linecolor\":\"white\",\"showbackground\":true,\"ticks\":\"\",\"zerolinecolor\":\"white\",\"gridwidth\":2}},\"shapedefaults\":{\"line\":{\"color\":\"#2a3f5f\"}},\"annotationdefaults\":{\"arrowcolor\":\"#2a3f5f\",\"arrowhead\":0,\"arrowwidth\":1},\"geo\":{\"bgcolor\":\"white\",\"landcolor\":\"#E5ECF6\",\"subunitcolor\":\"white\",\"showland\":true,\"showlakes\":true,\"lakecolor\":\"white\"},\"title\":{\"x\":0.05},\"mapbox\":{\"style\":\"light\"}}},\"geo\":{\"domain\":{\"x\":[0.0,1.0],\"y\":[0.0,1.0]},\"center\":{},\"scope\":\"usa\"},\"coloraxis\":{\"colorbar\":{\"title\":{\"text\":\"Number of Breweries\"}},\"colorscale\":[[0.0,\"rgb(255,255,217)\"],[0.125,\"rgb(237,248,177)\"],[0.25,\"rgb(199,233,180)\"],[0.375,\"rgb(127,205,187)\"],[0.5,\"rgb(65,182,196)\"],[0.625,\"rgb(29,145,192)\"],[0.75,\"rgb(34,94,168)\"],[0.875,\"rgb(37,52,148)\"],[1.0,\"rgb(8,29,88)\"]]},\"legend\":{\"tracegroupgap\":0},\"title\":{\"text\":\"Number of Breweries by State in the US\"}},                        {\"responsive\": true}                    ).then(function(){\n",
       "                            \n",
       "var gd = document.getElementById('e63d24e4-e93a-4a41-b877-e07719c8ed03');\n",
       "var x = new MutationObserver(function (mutations, observer) {{\n",
       "        var display = window.getComputedStyle(gd).display;\n",
       "        if (!display || display === 'none') {{\n",
       "            console.log([gd, 'removed!']);\n",
       "            Plotly.purge(gd);\n",
       "            observer.disconnect();\n",
       "        }}\n",
       "}});\n",
       "\n",
       "// Listen for the removal of the full notebook cells\n",
       "var notebookContainer = gd.closest('#notebook-container');\n",
       "if (notebookContainer) {{\n",
       "    x.observe(notebookContainer, {childList: true});\n",
       "}}\n",
       "\n",
       "// Listen for the clearing of the current output cell\n",
       "var outputEl = gd.closest('.output');\n",
       "if (outputEl) {{\n",
       "    x.observe(outputEl, {childList: true});\n",
       "}}\n",
       "\n",
       "                        })                };                });            </script>        </div>"
      ]
     },
     "metadata": {},
     "output_type": "display_data"
    }
   ],
   "source": [
    "#took the series dataframe produced by the groupby and turned it back into a dataframe\n",
    "breweries_for_map = breweries_by_state.reset_index(name='brewery_count')\n",
    "\n",
    "#adjusted the column names\n",
    "breweries_for_map.columns = ['State', 'brewery_count']\n",
    "\n",
    "#per plotlyexpress documentation it requires state abbreviations to run plotly and not the name of the state so converted names to abbreviations\n",
    "state_abbreviations = {\n",
    "    'Alabama': 'AL', 'Alaska': 'AK', 'Arizona': 'AZ', 'Arkansas': 'AR', 'California': 'CA',\n",
    "    'Colorado': 'CO', 'Connecticut': 'CT', 'Delaware': 'DE', 'District Of Columbia': 'DC', 'Florida': 'FL',\n",
    "    'Georgia': 'GA', 'Hawaii': 'HI', 'Idaho': 'ID', 'Illinois': 'IL', 'Indiana': 'IN',\n",
    "    'Iowa': 'IA', 'Kansas': 'KS', 'Kentucky': 'KY', 'Louisiana': 'LA', 'Maine': 'ME',\n",
    "    'Maryland': 'MD', 'Massachusetts': 'MA', 'Michigan': 'MI', 'Minnesota': 'MN', 'Mississippi': 'MS',\n",
    "    'Missouri': 'MO', 'Montana': 'MT', 'Nebraska': 'NE', 'Nevada': 'NV', 'New Hampshire': 'NH',\n",
    "    'New Jersey': 'NJ', 'New Mexico': 'NM', 'New York': 'NY', 'North Carolina': 'NC', 'North Dakota': 'ND',\n",
    "    'Ohio': 'OH', 'Oklahoma': 'OK', 'Oregon': 'OR', 'Pennsylvania': 'PA', 'Rhode Island': 'RI',\n",
    "    'South Carolina': 'SC', 'South Dakota': 'SD', 'Tennessee': 'TN', 'Texas': 'TX', 'Utah': 'UT',\n",
    "    'Vermont': 'VT', 'Virginia': 'VA', 'Washington': 'WA', 'West Virginia': 'WV', 'Wisconsin': 'WI', 'Wyoming': 'WY'\n",
    "}\n",
    "\n",
    "#connect state names to their abbreviations\n",
    "breweries_for_map['state_abbr'] = breweries_for_map['State'].map(state_abbreviations)\n",
    "\n",
    "#create us map\n",
    "fig = px.choropleth(breweries_for_map, \n",
    "                    locations='state_abbr', \n",
    "                    locationmode='USA-states',\n",
    "                    color='brewery_count',\n",
    "                    color_continuous_scale='YlGnBu',\n",
    "                    labels={'brewery_count': 'Number of Breweries'},\n",
    "                    title='Number of Breweries by State in the US',\n",
    "                    scope='usa')\n",
    "fig.show()"
   ]
  },
  {
   "cell_type": "markdown",
   "id": "06017e3e",
   "metadata": {},
   "source": [
    "#Obesity Data"
   ]
  },
  {
   "cell_type": "code",
   "execution_count": 15,
   "id": "6b8059ed",
   "metadata": {},
   "outputs": [
    {
     "data": {
      "text/html": [
       "<div>\n",
       "<style scoped>\n",
       "    .dataframe tbody tr th:only-of-type {\n",
       "        vertical-align: middle;\n",
       "    }\n",
       "\n",
       "    .dataframe tbody tr th {\n",
       "        vertical-align: top;\n",
       "    }\n",
       "\n",
       "    .dataframe thead th {\n",
       "        text-align: right;\n",
       "    }\n",
       "</style>\n",
       "<table border=\"1\" class=\"dataframe\">\n",
       "  <thead>\n",
       "    <tr style=\"text-align: right;\">\n",
       "      <th></th>\n",
       "      <th>data</th>\n",
       "      <th>count</th>\n",
       "      <th>maxIndex</th>\n",
       "    </tr>\n",
       "  </thead>\n",
       "  <tbody>\n",
       "    <tr>\n",
       "      <th>0</th>\n",
       "      <td>{'dataListIndex': '0', 'fid': '1', 'name': 'Te...</td>\n",
       "      <td>52</td>\n",
       "      <td>0</td>\n",
       "    </tr>\n",
       "    <tr>\n",
       "      <th>1</th>\n",
       "      <td>{'dataListIndex': '1', 'fid': '2', 'name': 'Ca...</td>\n",
       "      <td>52</td>\n",
       "      <td>0</td>\n",
       "    </tr>\n",
       "    <tr>\n",
       "      <th>2</th>\n",
       "      <td>{'dataListIndex': '2', 'fid': '3', 'name': 'Ke...</td>\n",
       "      <td>52</td>\n",
       "      <td>0</td>\n",
       "    </tr>\n",
       "    <tr>\n",
       "      <th>3</th>\n",
       "      <td>{'dataListIndex': '3', 'fid': '4', 'name': 'Ge...</td>\n",
       "      <td>52</td>\n",
       "      <td>0</td>\n",
       "    </tr>\n",
       "    <tr>\n",
       "      <th>4</th>\n",
       "      <td>{'dataListIndex': '4', 'fid': '5', 'name': 'Wi...</td>\n",
       "      <td>52</td>\n",
       "      <td>0</td>\n",
       "    </tr>\n",
       "    <tr>\n",
       "      <th>5</th>\n",
       "      <td>{'dataListIndex': '5', 'fid': '6', 'name': 'Or...</td>\n",
       "      <td>52</td>\n",
       "      <td>0</td>\n",
       "    </tr>\n",
       "    <tr>\n",
       "      <th>6</th>\n",
       "      <td>{'dataListIndex': '6', 'fid': '7', 'name': 'Vi...</td>\n",
       "      <td>52</td>\n",
       "      <td>0</td>\n",
       "    </tr>\n",
       "    <tr>\n",
       "      <th>7</th>\n",
       "      <td>{'dataListIndex': '7', 'fid': '8', 'name': 'Te...</td>\n",
       "      <td>52</td>\n",
       "      <td>0</td>\n",
       "    </tr>\n",
       "    <tr>\n",
       "      <th>8</th>\n",
       "      <td>{'dataListIndex': '8', 'fid': '9', 'name': 'Lo...</td>\n",
       "      <td>52</td>\n",
       "      <td>0</td>\n",
       "    </tr>\n",
       "    <tr>\n",
       "      <th>9</th>\n",
       "      <td>{'dataListIndex': '9', 'fid': '10', 'name': 'N...</td>\n",
       "      <td>52</td>\n",
       "      <td>0</td>\n",
       "    </tr>\n",
       "    <tr>\n",
       "      <th>10</th>\n",
       "      <td>{'dataListIndex': '10', 'fid': '11', 'name': '...</td>\n",
       "      <td>52</td>\n",
       "      <td>0</td>\n",
       "    </tr>\n",
       "    <tr>\n",
       "      <th>11</th>\n",
       "      <td>{'dataListIndex': '11', 'fid': '12', 'name': '...</td>\n",
       "      <td>52</td>\n",
       "      <td>0</td>\n",
       "    </tr>\n",
       "    <tr>\n",
       "      <th>12</th>\n",
       "      <td>{'dataListIndex': '12', 'fid': '13', 'name': '...</td>\n",
       "      <td>52</td>\n",
       "      <td>0</td>\n",
       "    </tr>\n",
       "    <tr>\n",
       "      <th>13</th>\n",
       "      <td>{'dataListIndex': '13', 'fid': '14', 'name': '...</td>\n",
       "      <td>52</td>\n",
       "      <td>0</td>\n",
       "    </tr>\n",
       "    <tr>\n",
       "      <th>14</th>\n",
       "      <td>{'dataListIndex': '14', 'fid': '15', 'name': '...</td>\n",
       "      <td>52</td>\n",
       "      <td>0</td>\n",
       "    </tr>\n",
       "    <tr>\n",
       "      <th>15</th>\n",
       "      <td>{'dataListIndex': '15', 'fid': '16', 'name': '...</td>\n",
       "      <td>52</td>\n",
       "      <td>0</td>\n",
       "    </tr>\n",
       "    <tr>\n",
       "      <th>16</th>\n",
       "      <td>{'dataListIndex': '16', 'fid': '17', 'name': '...</td>\n",
       "      <td>52</td>\n",
       "      <td>0</td>\n",
       "    </tr>\n",
       "    <tr>\n",
       "      <th>17</th>\n",
       "      <td>{'dataListIndex': '17', 'fid': '18', 'name': '...</td>\n",
       "      <td>52</td>\n",
       "      <td>0</td>\n",
       "    </tr>\n",
       "    <tr>\n",
       "      <th>18</th>\n",
       "      <td>{'dataListIndex': '18', 'fid': '19', 'name': '...</td>\n",
       "      <td>52</td>\n",
       "      <td>0</td>\n",
       "    </tr>\n",
       "    <tr>\n",
       "      <th>19</th>\n",
       "      <td>{'dataListIndex': '19', 'fid': '20', 'name': '...</td>\n",
       "      <td>52</td>\n",
       "      <td>0</td>\n",
       "    </tr>\n",
       "    <tr>\n",
       "      <th>20</th>\n",
       "      <td>{'dataListIndex': '20', 'fid': '21', 'name': '...</td>\n",
       "      <td>52</td>\n",
       "      <td>0</td>\n",
       "    </tr>\n",
       "    <tr>\n",
       "      <th>21</th>\n",
       "      <td>{'dataListIndex': '21', 'fid': '22', 'name': '...</td>\n",
       "      <td>52</td>\n",
       "      <td>0</td>\n",
       "    </tr>\n",
       "    <tr>\n",
       "      <th>22</th>\n",
       "      <td>{'dataListIndex': '22', 'fid': '23', 'name': '...</td>\n",
       "      <td>52</td>\n",
       "      <td>0</td>\n",
       "    </tr>\n",
       "    <tr>\n",
       "      <th>23</th>\n",
       "      <td>{'dataListIndex': '23', 'fid': '24', 'name': '...</td>\n",
       "      <td>52</td>\n",
       "      <td>0</td>\n",
       "    </tr>\n",
       "    <tr>\n",
       "      <th>24</th>\n",
       "      <td>{'dataListIndex': '24', 'fid': '25', 'name': '...</td>\n",
       "      <td>52</td>\n",
       "      <td>0</td>\n",
       "    </tr>\n",
       "    <tr>\n",
       "      <th>25</th>\n",
       "      <td>{'dataListIndex': '25', 'fid': '26', 'name': '...</td>\n",
       "      <td>52</td>\n",
       "      <td>0</td>\n",
       "    </tr>\n",
       "    <tr>\n",
       "      <th>26</th>\n",
       "      <td>{'dataListIndex': '26', 'fid': '27', 'name': '...</td>\n",
       "      <td>52</td>\n",
       "      <td>0</td>\n",
       "    </tr>\n",
       "    <tr>\n",
       "      <th>27</th>\n",
       "      <td>{'dataListIndex': '27', 'fid': '28', 'name': '...</td>\n",
       "      <td>52</td>\n",
       "      <td>0</td>\n",
       "    </tr>\n",
       "    <tr>\n",
       "      <th>28</th>\n",
       "      <td>{'dataListIndex': '28', 'fid': '29', 'name': '...</td>\n",
       "      <td>52</td>\n",
       "      <td>0</td>\n",
       "    </tr>\n",
       "    <tr>\n",
       "      <th>29</th>\n",
       "      <td>{'dataListIndex': '29', 'fid': '30', 'name': '...</td>\n",
       "      <td>52</td>\n",
       "      <td>0</td>\n",
       "    </tr>\n",
       "    <tr>\n",
       "      <th>30</th>\n",
       "      <td>{'dataListIndex': '30', 'fid': '31', 'name': '...</td>\n",
       "      <td>52</td>\n",
       "      <td>0</td>\n",
       "    </tr>\n",
       "    <tr>\n",
       "      <th>31</th>\n",
       "      <td>{'dataListIndex': '31', 'fid': '32', 'name': '...</td>\n",
       "      <td>52</td>\n",
       "      <td>0</td>\n",
       "    </tr>\n",
       "    <tr>\n",
       "      <th>32</th>\n",
       "      <td>{'dataListIndex': '32', 'fid': '33', 'name': '...</td>\n",
       "      <td>52</td>\n",
       "      <td>0</td>\n",
       "    </tr>\n",
       "    <tr>\n",
       "      <th>33</th>\n",
       "      <td>{'dataListIndex': '33', 'fid': '34', 'name': '...</td>\n",
       "      <td>52</td>\n",
       "      <td>0</td>\n",
       "    </tr>\n",
       "    <tr>\n",
       "      <th>34</th>\n",
       "      <td>{'dataListIndex': '34', 'fid': '35', 'name': '...</td>\n",
       "      <td>52</td>\n",
       "      <td>0</td>\n",
       "    </tr>\n",
       "    <tr>\n",
       "      <th>35</th>\n",
       "      <td>{'dataListIndex': '35', 'fid': '36', 'name': '...</td>\n",
       "      <td>52</td>\n",
       "      <td>0</td>\n",
       "    </tr>\n",
       "    <tr>\n",
       "      <th>36</th>\n",
       "      <td>{'dataListIndex': '36', 'fid': '37', 'name': '...</td>\n",
       "      <td>52</td>\n",
       "      <td>0</td>\n",
       "    </tr>\n",
       "    <tr>\n",
       "      <th>37</th>\n",
       "      <td>{'dataListIndex': '37', 'fid': '38', 'name': '...</td>\n",
       "      <td>52</td>\n",
       "      <td>0</td>\n",
       "    </tr>\n",
       "    <tr>\n",
       "      <th>38</th>\n",
       "      <td>{'dataListIndex': '38', 'fid': '39', 'name': '...</td>\n",
       "      <td>52</td>\n",
       "      <td>0</td>\n",
       "    </tr>\n",
       "    <tr>\n",
       "      <th>39</th>\n",
       "      <td>{'dataListIndex': '39', 'fid': '40', 'name': '...</td>\n",
       "      <td>52</td>\n",
       "      <td>0</td>\n",
       "    </tr>\n",
       "    <tr>\n",
       "      <th>40</th>\n",
       "      <td>{'dataListIndex': '40', 'fid': '41', 'name': '...</td>\n",
       "      <td>52</td>\n",
       "      <td>0</td>\n",
       "    </tr>\n",
       "    <tr>\n",
       "      <th>41</th>\n",
       "      <td>{'dataListIndex': '41', 'fid': '42', 'name': '...</td>\n",
       "      <td>52</td>\n",
       "      <td>0</td>\n",
       "    </tr>\n",
       "    <tr>\n",
       "      <th>42</th>\n",
       "      <td>{'dataListIndex': '42', 'fid': '43', 'name': '...</td>\n",
       "      <td>52</td>\n",
       "      <td>0</td>\n",
       "    </tr>\n",
       "    <tr>\n",
       "      <th>43</th>\n",
       "      <td>{'dataListIndex': '43', 'fid': '44', 'name': '...</td>\n",
       "      <td>52</td>\n",
       "      <td>0</td>\n",
       "    </tr>\n",
       "    <tr>\n",
       "      <th>44</th>\n",
       "      <td>{'dataListIndex': '44', 'fid': '45', 'name': '...</td>\n",
       "      <td>52</td>\n",
       "      <td>0</td>\n",
       "    </tr>\n",
       "    <tr>\n",
       "      <th>45</th>\n",
       "      <td>{'dataListIndex': '45', 'fid': '46', 'name': '...</td>\n",
       "      <td>52</td>\n",
       "      <td>0</td>\n",
       "    </tr>\n",
       "    <tr>\n",
       "      <th>46</th>\n",
       "      <td>{'dataListIndex': '46', 'fid': '47', 'name': '...</td>\n",
       "      <td>52</td>\n",
       "      <td>0</td>\n",
       "    </tr>\n",
       "    <tr>\n",
       "      <th>47</th>\n",
       "      <td>{'dataListIndex': '47', 'fid': '48', 'name': '...</td>\n",
       "      <td>52</td>\n",
       "      <td>0</td>\n",
       "    </tr>\n",
       "    <tr>\n",
       "      <th>48</th>\n",
       "      <td>{'dataListIndex': '48', 'fid': '49', 'name': '...</td>\n",
       "      <td>52</td>\n",
       "      <td>0</td>\n",
       "    </tr>\n",
       "    <tr>\n",
       "      <th>49</th>\n",
       "      <td>{'dataListIndex': '49', 'fid': '50', 'name': '...</td>\n",
       "      <td>52</td>\n",
       "      <td>0</td>\n",
       "    </tr>\n",
       "    <tr>\n",
       "      <th>50</th>\n",
       "      <td>{'dataListIndex': '50', 'fid': '51', 'name': '...</td>\n",
       "      <td>52</td>\n",
       "      <td>0</td>\n",
       "    </tr>\n",
       "    <tr>\n",
       "      <th>51</th>\n",
       "      <td>{'dataListIndex': '51', 'fid': '52', 'name': '...</td>\n",
       "      <td>52</td>\n",
       "      <td>0</td>\n",
       "    </tr>\n",
       "  </tbody>\n",
       "</table>\n",
       "</div>"
      ],
      "text/plain": [
       "                                                 data  count  maxIndex\n",
       "0   {'dataListIndex': '0', 'fid': '1', 'name': 'Te...     52         0\n",
       "1   {'dataListIndex': '1', 'fid': '2', 'name': 'Ca...     52         0\n",
       "2   {'dataListIndex': '2', 'fid': '3', 'name': 'Ke...     52         0\n",
       "3   {'dataListIndex': '3', 'fid': '4', 'name': 'Ge...     52         0\n",
       "4   {'dataListIndex': '4', 'fid': '5', 'name': 'Wi...     52         0\n",
       "5   {'dataListIndex': '5', 'fid': '6', 'name': 'Or...     52         0\n",
       "6   {'dataListIndex': '6', 'fid': '7', 'name': 'Vi...     52         0\n",
       "7   {'dataListIndex': '7', 'fid': '8', 'name': 'Te...     52         0\n",
       "8   {'dataListIndex': '8', 'fid': '9', 'name': 'Lo...     52         0\n",
       "9   {'dataListIndex': '9', 'fid': '10', 'name': 'N...     52         0\n",
       "10  {'dataListIndex': '10', 'fid': '11', 'name': '...     52         0\n",
       "11  {'dataListIndex': '11', 'fid': '12', 'name': '...     52         0\n",
       "12  {'dataListIndex': '12', 'fid': '13', 'name': '...     52         0\n",
       "13  {'dataListIndex': '13', 'fid': '14', 'name': '...     52         0\n",
       "14  {'dataListIndex': '14', 'fid': '15', 'name': '...     52         0\n",
       "15  {'dataListIndex': '15', 'fid': '16', 'name': '...     52         0\n",
       "16  {'dataListIndex': '16', 'fid': '17', 'name': '...     52         0\n",
       "17  {'dataListIndex': '17', 'fid': '18', 'name': '...     52         0\n",
       "18  {'dataListIndex': '18', 'fid': '19', 'name': '...     52         0\n",
       "19  {'dataListIndex': '19', 'fid': '20', 'name': '...     52         0\n",
       "20  {'dataListIndex': '20', 'fid': '21', 'name': '...     52         0\n",
       "21  {'dataListIndex': '21', 'fid': '22', 'name': '...     52         0\n",
       "22  {'dataListIndex': '22', 'fid': '23', 'name': '...     52         0\n",
       "23  {'dataListIndex': '23', 'fid': '24', 'name': '...     52         0\n",
       "24  {'dataListIndex': '24', 'fid': '25', 'name': '...     52         0\n",
       "25  {'dataListIndex': '25', 'fid': '26', 'name': '...     52         0\n",
       "26  {'dataListIndex': '26', 'fid': '27', 'name': '...     52         0\n",
       "27  {'dataListIndex': '27', 'fid': '28', 'name': '...     52         0\n",
       "28  {'dataListIndex': '28', 'fid': '29', 'name': '...     52         0\n",
       "29  {'dataListIndex': '29', 'fid': '30', 'name': '...     52         0\n",
       "30  {'dataListIndex': '30', 'fid': '31', 'name': '...     52         0\n",
       "31  {'dataListIndex': '31', 'fid': '32', 'name': '...     52         0\n",
       "32  {'dataListIndex': '32', 'fid': '33', 'name': '...     52         0\n",
       "33  {'dataListIndex': '33', 'fid': '34', 'name': '...     52         0\n",
       "34  {'dataListIndex': '34', 'fid': '35', 'name': '...     52         0\n",
       "35  {'dataListIndex': '35', 'fid': '36', 'name': '...     52         0\n",
       "36  {'dataListIndex': '36', 'fid': '37', 'name': '...     52         0\n",
       "37  {'dataListIndex': '37', 'fid': '38', 'name': '...     52         0\n",
       "38  {'dataListIndex': '38', 'fid': '39', 'name': '...     52         0\n",
       "39  {'dataListIndex': '39', 'fid': '40', 'name': '...     52         0\n",
       "40  {'dataListIndex': '40', 'fid': '41', 'name': '...     52         0\n",
       "41  {'dataListIndex': '41', 'fid': '42', 'name': '...     52         0\n",
       "42  {'dataListIndex': '42', 'fid': '43', 'name': '...     52         0\n",
       "43  {'dataListIndex': '43', 'fid': '44', 'name': '...     52         0\n",
       "44  {'dataListIndex': '44', 'fid': '45', 'name': '...     52         0\n",
       "45  {'dataListIndex': '45', 'fid': '46', 'name': '...     52         0\n",
       "46  {'dataListIndex': '46', 'fid': '47', 'name': '...     52         0\n",
       "47  {'dataListIndex': '47', 'fid': '48', 'name': '...     52         0\n",
       "48  {'dataListIndex': '48', 'fid': '49', 'name': '...     52         0\n",
       "49  {'dataListIndex': '49', 'fid': '50', 'name': '...     52         0\n",
       "50  {'dataListIndex': '50', 'fid': '51', 'name': '...     52         0\n",
       "51  {'dataListIndex': '51', 'fid': '52', 'name': '...     52         0"
      ]
     },
     "execution_count": 15,
     "metadata": {},
     "output_type": "execute_result"
    }
   ],
   "source": [
    "# Display the DataFrame\n",
    "obesity_df.head(60)"
   ]
  },
  {
   "cell_type": "code",
   "execution_count": 16,
   "id": "987ee59b",
   "metadata": {},
   "outputs": [
    {
     "name": "stdout",
     "output_type": "stream",
     "text": [
      "<class 'pandas.core.frame.DataFrame'>\n",
      "RangeIndex: 52 entries, 0 to 51\n",
      "Data columns (total 3 columns):\n",
      " #   Column    Non-Null Count  Dtype \n",
      "---  ------    --------------  ----- \n",
      " 0   data      52 non-null     object\n",
      " 1   count     52 non-null     int64 \n",
      " 2   maxIndex  52 non-null     int64 \n",
      "dtypes: int64(2), object(1)\n",
      "memory usage: 1.3+ KB\n"
     ]
    },
    {
     "data": {
      "text/plain": [
       "Index(['data', 'count', 'maxIndex'], dtype='object')"
      ]
     },
     "execution_count": 16,
     "metadata": {},
     "output_type": "execute_result"
    }
   ],
   "source": [
    "#looking at the data for the columns and its types\n",
    "obesity_df.info()\n",
    "obesity_df.columns"
   ]
  },
  {
   "cell_type": "code",
   "execution_count": 17,
   "id": "b959cf76",
   "metadata": {},
   "outputs": [
    {
     "data": {
      "text/plain": [
       "dict"
      ]
     },
     "execution_count": 17,
     "metadata": {},
     "output_type": "execute_result"
    }
   ],
   "source": [
    "#looking to see why its not making an easy to use dataframe\n",
    "type(data)"
   ]
  },
  {
   "cell_type": "code",
   "execution_count": 18,
   "id": "fea192d2",
   "metadata": {},
   "outputs": [
    {
     "data": {
      "text/plain": [
       "dict_keys(['data', 'count', 'maxIndex'])"
      ]
     },
     "execution_count": 18,
     "metadata": {},
     "output_type": "execute_result"
    }
   ],
   "source": [
    "#looking for the keys since its a dictionary\n",
    "data.keys()"
   ]
  },
  {
   "cell_type": "code",
   "execution_count": 19,
   "id": "0aab7b18",
   "metadata": {},
   "outputs": [
    {
     "data": {
      "text/plain": [
       "[{'dataListIndex': '0',\n",
       "  'fid': '1',\n",
       "  'name': 'Texas',\n",
       "  'obesity': '32.4',\n",
       "  'shapeLength': '15408321.8698148',\n",
       "  'shapeArea': '7672329221262.61'},\n",
       " {'dataListIndex': '1',\n",
       "  'fid': '2',\n",
       "  'name': 'California',\n",
       "  'obesity': '24.2',\n",
       "  'shapeLength': '14518698.4566722',\n",
       "  'shapeArea': '5327809415403.01'},\n",
       " {'dataListIndex': '2',\n",
       "  'fid': '3',\n",
       "  'name': 'Kentucky',\n",
       "  'obesity': '34.6',\n",
       "  'shapeLength': '6346698.58704225',\n",
       "  'shapeArea': '1128830286256.75'},\n",
       " {'dataListIndex': '3',\n",
       "  'fid': '4',\n",
       "  'name': 'Georgia',\n",
       "  'obesity': '30.7',\n",
       "  'shapeLength': '5795595.91737164',\n",
       "  'shapeArea': '1652980281864.84'},\n",
       " {'dataListIndex': '4',\n",
       "  'fid': '5',\n",
       "  'name': 'Wisconsin',\n",
       "  'obesity': '30.7',\n",
       "  'shapeLength': '6806782.08358127',\n",
       "  'shapeArea': '1567816094351.9'},\n",
       " {'dataListIndex': '5',\n",
       "  'fid': '6',\n",
       "  'name': 'Oregon',\n",
       "  'obesity': '30.1',\n",
       "  'shapeLength': '7976010.9415358',\n",
       "  'shapeArea': '3178445626071.46'},\n",
       " {'dataListIndex': '6',\n",
       "  'fid': '7',\n",
       "  'name': 'Virginia',\n",
       "  'obesity': '29.2',\n",
       "  'shapeLength': '7710803.89869229',\n",
       "  'shapeArea': '1158804356933.99'},\n",
       " {'dataListIndex': '7',\n",
       "  'fid': '8',\n",
       "  'name': 'Tennessee',\n",
       "  'obesity': '33.8',\n",
       "  'shapeLength': '6350376.86082221',\n",
       "  'shapeArea': '1177054472558.46'},\n",
       " {'dataListIndex': '8',\n",
       "  'fid': '9',\n",
       "  'name': 'Louisiana',\n",
       "  'obesity': '36.2',\n",
       "  'shapeLength': '7383856.91994343',\n",
       "  'shapeArea': '1355093764697.92'},\n",
       " {'dataListIndex': '9',\n",
       "  'fid': '10',\n",
       "  'name': 'New York',\n",
       "  'obesity': '25',\n",
       "  'shapeLength': '7981383.07788145',\n",
       "  'shapeArea': '1411440550734.63'},\n",
       " {'dataListIndex': '10',\n",
       "  'fid': '11',\n",
       "  'name': 'Michigan',\n",
       "  'obesity': '31.2',\n",
       "  'shapeLength': '12407988.0244766',\n",
       "  'shapeArea': '1657221839418.83'},\n",
       " {'dataListIndex': '11',\n",
       "  'fid': '12',\n",
       "  'name': 'Idaho',\n",
       "  'obesity': '28.6',\n",
       "  'shapeLength': '9081125.22209832',\n",
       "  'shapeArea': '2593598268244.12'},\n",
       " {'dataListIndex': '12',\n",
       "  'fid': '13',\n",
       "  'name': 'Florida',\n",
       "  'obesity': '26.8',\n",
       "  'shapeLength': '10533929.1444184',\n",
       "  'shapeArea': '1674411223041.2'},\n",
       " {'dataListIndex': '13',\n",
       "  'fid': '14',\n",
       "  'name': 'Alaska',\n",
       "  'obesity': '29.8',\n",
       "  'shapeLength': '6663726.59054098',\n",
       "  'shapeArea': '530113882116.939'},\n",
       " {'dataListIndex': '14',\n",
       "  'fid': '15',\n",
       "  'name': 'Montana',\n",
       "  'obesity': '23.6',\n",
       "  'shapeLength': '9745471.75354953',\n",
       "  'shapeArea': '4371466366614.52'},\n",
       " {'dataListIndex': '15',\n",
       "  'fid': '16',\n",
       "  'name': 'Minnesota',\n",
       "  'obesity': '26.1',\n",
       "  'shapeLength': '8530250.42958512',\n",
       "  'shapeArea': '2367874733333.85'},\n",
       " {'dataListIndex': '16',\n",
       "  'fid': '17',\n",
       "  'name': 'Nebraska',\n",
       "  'obesity': '31.4',\n",
       "  'shapeLength': '6921599.98880176',\n",
       "  'shapeArea': '2207444436435.34'},\n",
       " {'dataListIndex': '17',\n",
       "  'fid': '18',\n",
       "  'name': 'Washington',\n",
       "  'obesity': '26.4',\n",
       "  'shapeLength': '7508966.8395569',\n",
       "  'shapeArea': '2214214821535.73'},\n",
       " {'dataListIndex': '18',\n",
       "  'fid': '19',\n",
       "  'name': 'Ohio',\n",
       "  'obesity': '29.8',\n",
       "  'shapeLength': '5015484.92538504',\n",
       "  'shapeArea': '1158015967734.46'},\n",
       " {'dataListIndex': '19',\n",
       "  'fid': '20',\n",
       "  'name': 'Illinois',\n",
       "  'obesity': '30.8',\n",
       "  'shapeLength': '6172530.80822631',\n",
       "  'shapeArea': '1571568299027.73'},\n",
       " {'dataListIndex': '20',\n",
       "  'fid': '21',\n",
       "  'name': 'Missouri',\n",
       "  'obesity': '32.4',\n",
       "  'shapeLength': '7165632.96877297',\n",
       "  'shapeArea': '1949020823655.51'},\n",
       " {'dataListIndex': '21',\n",
       "  'fid': '22',\n",
       "  'name': 'Iowa',\n",
       "  'obesity': '32.1',\n",
       "  'shapeLength': '5558144.62470353',\n",
       "  'shapeArea': '1575588858404.13'},\n",
       " {'dataListIndex': '22',\n",
       "  'fid': '23',\n",
       "  'name': 'South Dakota',\n",
       "  'obesity': '30.4',\n",
       "  'shapeLength': '6680911.24820537',\n",
       "  'shapeArea': '2199053487708.16'},\n",
       " {'dataListIndex': '23',\n",
       "  'fid': '24',\n",
       "  'name': 'Arkansas',\n",
       "  'obesity': '34.5',\n",
       "  'shapeLength': '5707634.00276971',\n",
       "  'shapeArea': '1488699273848.93'},\n",
       " {'dataListIndex': '24',\n",
       "  'fid': '25',\n",
       "  'name': 'Mississippi',\n",
       "  'obesity': '35.6',\n",
       "  'shapeLength': '5834201.76787132',\n",
       "  'shapeArea': '1327853198175.37'},\n",
       " {'dataListIndex': '25',\n",
       "  'fid': '26',\n",
       "  'name': 'Colorado',\n",
       "  'obesity': '20.2',\n",
       "  'shapeLength': '7092296.49769191',\n",
       "  'shapeArea': '3066878609047.81'},\n",
       " {'dataListIndex': '26',\n",
       "  'fid': '27',\n",
       "  'name': 'North Carolina',\n",
       "  'obesity': '30.1',\n",
       "  'shapeLength': '6714056.23757219',\n",
       "  'shapeArea': '1495755986090.79'},\n",
       " {'dataListIndex': '27',\n",
       "  'fid': '28',\n",
       "  'name': 'Utah',\n",
       "  'obesity': '24.5',\n",
       "  'shapeLength': '6798972.50395198',\n",
       "  'shapeArea': '2614280967942.81'},\n",
       " {'dataListIndex': '28',\n",
       "  'fid': '29',\n",
       "  'name': 'Oklahoma',\n",
       "  'obesity': '33.9',\n",
       "  'shapeLength': '7857119.57078742',\n",
       "  'shapeArea': '1982448890144.3'},\n",
       " {'dataListIndex': '29',\n",
       "  'fid': '30',\n",
       "  'name': 'Wyoming',\n",
       "  'obesity': '29',\n",
       "  'shapeLength': '6860971.19013795',\n",
       "  'shapeArea': '2897400399041.46'},\n",
       " {'dataListIndex': '30',\n",
       "  'fid': '31',\n",
       "  'name': 'West Virginia',\n",
       "  'obesity': '35.6',\n",
       "  'shapeLength': '5374279.69717876',\n",
       "  'shapeArea': '685167361615.589'},\n",
       " {'dataListIndex': '31',\n",
       "  'fid': '32',\n",
       "  'name': 'Indiana',\n",
       "  'obesity': '31.3',\n",
       "  'shapeLength': '4858882.21795382',\n",
       "  'shapeArea': '1010364222333.8'},\n",
       " {'dataListIndex': '32',\n",
       "  'fid': '33',\n",
       "  'name': 'Massachusetts',\n",
       "  'obesity': '24.3',\n",
       "  'shapeLength': '4197218.1811822',\n",
       "  'shapeArea': '247224998635.541'},\n",
       " {'dataListIndex': '33',\n",
       "  'fid': '34',\n",
       "  'name': 'Nevada',\n",
       "  'obesity': '26.7',\n",
       "  'shapeLength': '8240794.81048687',\n",
       "  'shapeArea': '3564354191161.93'},\n",
       " {'dataListIndex': '34',\n",
       "  'fid': '35',\n",
       "  'name': 'Connecticut',\n",
       "  'obesity': '25.3',\n",
       "  'shapeLength': '1780630.95573379',\n",
       "  'shapeArea': '145421898735.938'},\n",
       " {'dataListIndex': '35',\n",
       "  'fid': '36',\n",
       "  'name': 'District of Columbia',\n",
       "  'obesity': '22.1',\n",
       "  'shapeLength': '200324.960720334',\n",
       "  'shapeArea': '1972102312.29117'},\n",
       " {'dataListIndex': '36',\n",
       "  'fid': '37',\n",
       "  'name': 'Rhode Island',\n",
       "  'obesity': '26',\n",
       "  'shapeLength': '984524.581180468',\n",
       "  'shapeArea': '36178076477.7396'},\n",
       " {'dataListIndex': '37',\n",
       "  'fid': '38',\n",
       "  'name': 'Alabama',\n",
       "  'obesity': '35.6',\n",
       "  'shapeLength': '5750657.81244629',\n",
       "  'shapeArea': '1442806615250.92'},\n",
       " {'dataListIndex': '38',\n",
       "  'fid': '39',\n",
       "  'name': 'Puerto Rico',\n",
       "  'obesity': '29.5',\n",
       "  'shapeLength': '2136273.27059009',\n",
       "  'shapeArea': '114783882870.193'},\n",
       " {'dataListIndex': '39',\n",
       "  'fid': '40',\n",
       "  'name': 'South Carolina',\n",
       "  'obesity': '31.7',\n",
       "  'shapeLength': '4370940.54750344',\n",
       "  'shapeArea': '878270407919.019'},\n",
       " {'dataListIndex': '40',\n",
       "  'fid': '41',\n",
       "  'name': 'Maine',\n",
       "  'obesity': '30',\n",
       "  'shapeLength': '5560035.36660915',\n",
       "  'shapeArea': '990384869184.921'},\n",
       " {'dataListIndex': '41',\n",
       "  'fid': '42',\n",
       "  'name': 'Hawaii',\n",
       "  'obesity': '22.7',\n",
       "  'shapeLength': '0',\n",
       "  'shapeArea': '0'},\n",
       " {'dataListIndex': '42',\n",
       "  'fid': '43',\n",
       "  'name': 'Arizona',\n",
       "  'obesity': '28.4',\n",
       "  'shapeLength': '8044184.23304366',\n",
       "  'shapeArea': '3562685913793.35'},\n",
       " {'dataListIndex': '43',\n",
       "  'fid': '44',\n",
       "  'name': 'New Mexico',\n",
       "  'obesity': '28.8',\n",
       "  'shapeLength': '8075166.55513897',\n",
       "  'shapeArea': '3622933199179.54'},\n",
       " {'dataListIndex': '44',\n",
       "  'fid': '45',\n",
       "  'name': 'Maryland',\n",
       "  'obesity': '28.9',\n",
       "  'shapeLength': '5850363.29291603',\n",
       "  'shapeArea': '303943203091.598'},\n",
       " {'dataListIndex': '45',\n",
       "  'fid': '46',\n",
       "  'name': 'Delaware',\n",
       "  'obesity': '29.7',\n",
       "  'shapeLength': '1383604.11753278',\n",
       "  'shapeArea': '59081101616.5539'},\n",
       " {'dataListIndex': '46',\n",
       "  'fid': '47',\n",
       "  'name': 'Pennsylvania',\n",
       "  'obesity': '30',\n",
       "  'shapeLength': '5024348.11219534',\n",
       "  'shapeArea': '1288451936889.14'},\n",
       " {'dataListIndex': '47',\n",
       "  'fid': '48',\n",
       "  'name': 'Kansas',\n",
       "  'obesity': '34.2',\n",
       "  'shapeLength': '6540498.4197016',\n",
       "  'shapeArea': '2340365916439.03'},\n",
       " {'dataListIndex': '48',\n",
       "  'fid': '49',\n",
       "  'name': 'Vermont',\n",
       "  'obesity': '25.1',\n",
       "  'shapeLength': '2653732.23226363',\n",
       "  'shapeArea': '278931330216.061'},\n",
       " {'dataListIndex': '49',\n",
       "  'fid': '50',\n",
       "  'name': 'New Jersey',\n",
       "  'obesity': '25.6',\n",
       "  'shapeLength': '2599119.26086415',\n",
       "  'shapeArea': '224606547518.286'},\n",
       " {'dataListIndex': '50',\n",
       "  'fid': '51',\n",
       "  'name': 'North Dakota',\n",
       "  'obesity': '31',\n",
       "  'shapeLength': '5872756.35857996',\n",
       "  'shapeArea': '2013151767399.38'},\n",
       " {'dataListIndex': '51',\n",
       "  'fid': '52',\n",
       "  'name': 'New Hampshire',\n",
       "  'obesity': '26.3',\n",
       "  'shapeLength': '2674767.14806674',\n",
       "  'shapeArea': '270529403259.303'}]"
      ]
     },
     "execution_count": 19,
     "metadata": {},
     "output_type": "execute_result"
    }
   ],
   "source": [
    "#looking at the data\n",
    "obesity_records = data['data']\n",
    "obesity_records"
   ]
  },
  {
   "cell_type": "code",
   "execution_count": 20,
   "id": "6541d5f2",
   "metadata": {},
   "outputs": [
    {
     "data": {
      "text/html": [
       "<div>\n",
       "<style scoped>\n",
       "    .dataframe tbody tr th:only-of-type {\n",
       "        vertical-align: middle;\n",
       "    }\n",
       "\n",
       "    .dataframe tbody tr th {\n",
       "        vertical-align: top;\n",
       "    }\n",
       "\n",
       "    .dataframe thead th {\n",
       "        text-align: right;\n",
       "    }\n",
       "</style>\n",
       "<table border=\"1\" class=\"dataframe\">\n",
       "  <thead>\n",
       "    <tr style=\"text-align: right;\">\n",
       "      <th></th>\n",
       "      <th>State</th>\n",
       "      <th>Obesity Rate</th>\n",
       "    </tr>\n",
       "  </thead>\n",
       "  <tbody>\n",
       "    <tr>\n",
       "      <th>0</th>\n",
       "      <td>Texas</td>\n",
       "      <td>32.4</td>\n",
       "    </tr>\n",
       "    <tr>\n",
       "      <th>1</th>\n",
       "      <td>California</td>\n",
       "      <td>24.2</td>\n",
       "    </tr>\n",
       "    <tr>\n",
       "      <th>2</th>\n",
       "      <td>Kentucky</td>\n",
       "      <td>34.6</td>\n",
       "    </tr>\n",
       "    <tr>\n",
       "      <th>3</th>\n",
       "      <td>Georgia</td>\n",
       "      <td>30.7</td>\n",
       "    </tr>\n",
       "    <tr>\n",
       "      <th>4</th>\n",
       "      <td>Wisconsin</td>\n",
       "      <td>30.7</td>\n",
       "    </tr>\n",
       "    <tr>\n",
       "      <th>5</th>\n",
       "      <td>Oregon</td>\n",
       "      <td>30.1</td>\n",
       "    </tr>\n",
       "    <tr>\n",
       "      <th>6</th>\n",
       "      <td>Virginia</td>\n",
       "      <td>29.2</td>\n",
       "    </tr>\n",
       "    <tr>\n",
       "      <th>7</th>\n",
       "      <td>Tennessee</td>\n",
       "      <td>33.8</td>\n",
       "    </tr>\n",
       "    <tr>\n",
       "      <th>8</th>\n",
       "      <td>Louisiana</td>\n",
       "      <td>36.2</td>\n",
       "    </tr>\n",
       "    <tr>\n",
       "      <th>9</th>\n",
       "      <td>New York</td>\n",
       "      <td>25</td>\n",
       "    </tr>\n",
       "    <tr>\n",
       "      <th>10</th>\n",
       "      <td>Michigan</td>\n",
       "      <td>31.2</td>\n",
       "    </tr>\n",
       "    <tr>\n",
       "      <th>11</th>\n",
       "      <td>Idaho</td>\n",
       "      <td>28.6</td>\n",
       "    </tr>\n",
       "    <tr>\n",
       "      <th>12</th>\n",
       "      <td>Florida</td>\n",
       "      <td>26.8</td>\n",
       "    </tr>\n",
       "    <tr>\n",
       "      <th>13</th>\n",
       "      <td>Alaska</td>\n",
       "      <td>29.8</td>\n",
       "    </tr>\n",
       "    <tr>\n",
       "      <th>14</th>\n",
       "      <td>Montana</td>\n",
       "      <td>23.6</td>\n",
       "    </tr>\n",
       "    <tr>\n",
       "      <th>15</th>\n",
       "      <td>Minnesota</td>\n",
       "      <td>26.1</td>\n",
       "    </tr>\n",
       "    <tr>\n",
       "      <th>16</th>\n",
       "      <td>Nebraska</td>\n",
       "      <td>31.4</td>\n",
       "    </tr>\n",
       "    <tr>\n",
       "      <th>17</th>\n",
       "      <td>Washington</td>\n",
       "      <td>26.4</td>\n",
       "    </tr>\n",
       "    <tr>\n",
       "      <th>18</th>\n",
       "      <td>Ohio</td>\n",
       "      <td>29.8</td>\n",
       "    </tr>\n",
       "    <tr>\n",
       "      <th>19</th>\n",
       "      <td>Illinois</td>\n",
       "      <td>30.8</td>\n",
       "    </tr>\n",
       "    <tr>\n",
       "      <th>20</th>\n",
       "      <td>Missouri</td>\n",
       "      <td>32.4</td>\n",
       "    </tr>\n",
       "    <tr>\n",
       "      <th>21</th>\n",
       "      <td>Iowa</td>\n",
       "      <td>32.1</td>\n",
       "    </tr>\n",
       "    <tr>\n",
       "      <th>22</th>\n",
       "      <td>South Dakota</td>\n",
       "      <td>30.4</td>\n",
       "    </tr>\n",
       "    <tr>\n",
       "      <th>23</th>\n",
       "      <td>Arkansas</td>\n",
       "      <td>34.5</td>\n",
       "    </tr>\n",
       "    <tr>\n",
       "      <th>24</th>\n",
       "      <td>Mississippi</td>\n",
       "      <td>35.6</td>\n",
       "    </tr>\n",
       "    <tr>\n",
       "      <th>25</th>\n",
       "      <td>Colorado</td>\n",
       "      <td>20.2</td>\n",
       "    </tr>\n",
       "    <tr>\n",
       "      <th>26</th>\n",
       "      <td>North Carolina</td>\n",
       "      <td>30.1</td>\n",
       "    </tr>\n",
       "    <tr>\n",
       "      <th>27</th>\n",
       "      <td>Utah</td>\n",
       "      <td>24.5</td>\n",
       "    </tr>\n",
       "    <tr>\n",
       "      <th>28</th>\n",
       "      <td>Oklahoma</td>\n",
       "      <td>33.9</td>\n",
       "    </tr>\n",
       "    <tr>\n",
       "      <th>29</th>\n",
       "      <td>Wyoming</td>\n",
       "      <td>29</td>\n",
       "    </tr>\n",
       "    <tr>\n",
       "      <th>30</th>\n",
       "      <td>West Virginia</td>\n",
       "      <td>35.6</td>\n",
       "    </tr>\n",
       "    <tr>\n",
       "      <th>31</th>\n",
       "      <td>Indiana</td>\n",
       "      <td>31.3</td>\n",
       "    </tr>\n",
       "    <tr>\n",
       "      <th>32</th>\n",
       "      <td>Massachusetts</td>\n",
       "      <td>24.3</td>\n",
       "    </tr>\n",
       "    <tr>\n",
       "      <th>33</th>\n",
       "      <td>Nevada</td>\n",
       "      <td>26.7</td>\n",
       "    </tr>\n",
       "    <tr>\n",
       "      <th>34</th>\n",
       "      <td>Connecticut</td>\n",
       "      <td>25.3</td>\n",
       "    </tr>\n",
       "    <tr>\n",
       "      <th>35</th>\n",
       "      <td>District of Columbia</td>\n",
       "      <td>22.1</td>\n",
       "    </tr>\n",
       "    <tr>\n",
       "      <th>36</th>\n",
       "      <td>Rhode Island</td>\n",
       "      <td>26</td>\n",
       "    </tr>\n",
       "    <tr>\n",
       "      <th>37</th>\n",
       "      <td>Alabama</td>\n",
       "      <td>35.6</td>\n",
       "    </tr>\n",
       "    <tr>\n",
       "      <th>38</th>\n",
       "      <td>Puerto Rico</td>\n",
       "      <td>29.5</td>\n",
       "    </tr>\n",
       "    <tr>\n",
       "      <th>39</th>\n",
       "      <td>South Carolina</td>\n",
       "      <td>31.7</td>\n",
       "    </tr>\n",
       "    <tr>\n",
       "      <th>40</th>\n",
       "      <td>Maine</td>\n",
       "      <td>30</td>\n",
       "    </tr>\n",
       "    <tr>\n",
       "      <th>41</th>\n",
       "      <td>Hawaii</td>\n",
       "      <td>22.7</td>\n",
       "    </tr>\n",
       "    <tr>\n",
       "      <th>42</th>\n",
       "      <td>Arizona</td>\n",
       "      <td>28.4</td>\n",
       "    </tr>\n",
       "    <tr>\n",
       "      <th>43</th>\n",
       "      <td>New Mexico</td>\n",
       "      <td>28.8</td>\n",
       "    </tr>\n",
       "    <tr>\n",
       "      <th>44</th>\n",
       "      <td>Maryland</td>\n",
       "      <td>28.9</td>\n",
       "    </tr>\n",
       "    <tr>\n",
       "      <th>45</th>\n",
       "      <td>Delaware</td>\n",
       "      <td>29.7</td>\n",
       "    </tr>\n",
       "    <tr>\n",
       "      <th>46</th>\n",
       "      <td>Pennsylvania</td>\n",
       "      <td>30</td>\n",
       "    </tr>\n",
       "    <tr>\n",
       "      <th>47</th>\n",
       "      <td>Kansas</td>\n",
       "      <td>34.2</td>\n",
       "    </tr>\n",
       "    <tr>\n",
       "      <th>48</th>\n",
       "      <td>Vermont</td>\n",
       "      <td>25.1</td>\n",
       "    </tr>\n",
       "    <tr>\n",
       "      <th>49</th>\n",
       "      <td>New Jersey</td>\n",
       "      <td>25.6</td>\n",
       "    </tr>\n",
       "    <tr>\n",
       "      <th>50</th>\n",
       "      <td>North Dakota</td>\n",
       "      <td>31</td>\n",
       "    </tr>\n",
       "    <tr>\n",
       "      <th>51</th>\n",
       "      <td>New Hampshire</td>\n",
       "      <td>26.3</td>\n",
       "    </tr>\n",
       "  </tbody>\n",
       "</table>\n",
       "</div>"
      ],
      "text/plain": [
       "                   State Obesity Rate\n",
       "0                  Texas         32.4\n",
       "1             California         24.2\n",
       "2               Kentucky         34.6\n",
       "3                Georgia         30.7\n",
       "4              Wisconsin         30.7\n",
       "5                 Oregon         30.1\n",
       "6               Virginia         29.2\n",
       "7              Tennessee         33.8\n",
       "8              Louisiana         36.2\n",
       "9               New York           25\n",
       "10              Michigan         31.2\n",
       "11                 Idaho         28.6\n",
       "12               Florida         26.8\n",
       "13                Alaska         29.8\n",
       "14               Montana         23.6\n",
       "15             Minnesota         26.1\n",
       "16              Nebraska         31.4\n",
       "17            Washington         26.4\n",
       "18                  Ohio         29.8\n",
       "19              Illinois         30.8\n",
       "20              Missouri         32.4\n",
       "21                  Iowa         32.1\n",
       "22          South Dakota         30.4\n",
       "23              Arkansas         34.5\n",
       "24           Mississippi         35.6\n",
       "25              Colorado         20.2\n",
       "26        North Carolina         30.1\n",
       "27                  Utah         24.5\n",
       "28              Oklahoma         33.9\n",
       "29               Wyoming           29\n",
       "30         West Virginia         35.6\n",
       "31               Indiana         31.3\n",
       "32         Massachusetts         24.3\n",
       "33                Nevada         26.7\n",
       "34           Connecticut         25.3\n",
       "35  District of Columbia         22.1\n",
       "36          Rhode Island           26\n",
       "37               Alabama         35.6\n",
       "38           Puerto Rico         29.5\n",
       "39        South Carolina         31.7\n",
       "40                 Maine           30\n",
       "41                Hawaii         22.7\n",
       "42               Arizona         28.4\n",
       "43            New Mexico         28.8\n",
       "44              Maryland         28.9\n",
       "45              Delaware         29.7\n",
       "46          Pennsylvania           30\n",
       "47                Kansas         34.2\n",
       "48               Vermont         25.1\n",
       "49            New Jersey         25.6\n",
       "50          North Dakota           31\n",
       "51         New Hampshire         26.3"
      ]
     },
     "execution_count": 20,
     "metadata": {},
     "output_type": "execute_result"
    }
   ],
   "source": [
    "#creating a list to add the data to\n",
    "df_data = []\n",
    "\n",
    "#looping over the data to pull it out\n",
    "for n in obesity_records:\n",
    "    state = n['name']\n",
    "    obesity_rate = n['obesity']\n",
    "    df_data.append({'State': state, 'Obesity Rate': obesity_rate})\n",
    "    \n",
    "obesity_df = pd.DataFrame(df_data)\n",
    "obesity_df"
   ]
  },
  {
   "cell_type": "code",
   "execution_count": 21,
   "id": "a7c23e3c",
   "metadata": {},
   "outputs": [
    {
     "data": {
      "application/vnd.plotly.v1+json": {
       "config": {
        "plotlyServerURL": "https://plot.ly"
       },
       "data": [
        {
         "coloraxis": "coloraxis",
         "geo": "geo",
         "hovertemplate": "state_abbr=%{location}<br>Rate of Obesity=%{z}<extra></extra>",
         "locationmode": "USA-states",
         "locations": [
          "TX",
          "CA",
          "KY",
          "GA",
          "WI",
          "OR",
          "VA",
          "TN",
          "LA",
          "NY",
          "MI",
          "ID",
          "FL",
          "AK",
          "MT",
          "MN",
          "NE",
          "WA",
          "OH",
          "IL",
          "MO",
          "IA",
          "SD",
          "AR",
          "MS",
          "CO",
          "NC",
          "UT",
          "OK",
          "WY",
          "WV",
          "IN",
          "MA",
          "NV",
          "CT",
          null,
          "RI",
          "AL",
          null,
          "SC",
          "ME",
          "HI",
          "AZ",
          "NM",
          "MD",
          "DE",
          "PA",
          "KS",
          "VT",
          "NJ",
          "ND",
          "NH"
         ],
         "name": "",
         "type": "choropleth",
         "z": [
          32.4,
          24.2,
          34.6,
          30.7,
          30.7,
          30.1,
          29.2,
          33.8,
          36.2,
          25,
          31.2,
          28.6,
          26.8,
          29.8,
          23.6,
          26.1,
          31.4,
          26.4,
          29.8,
          30.8,
          32.4,
          32.1,
          30.4,
          34.5,
          35.6,
          20.2,
          30.1,
          24.5,
          33.9,
          29,
          35.6,
          31.3,
          24.3,
          26.7,
          25.3,
          22.1,
          26,
          35.6,
          29.5,
          31.7,
          30,
          22.7,
          28.4,
          28.8,
          28.9,
          29.7,
          30,
          34.2,
          25.1,
          25.6,
          31,
          26.3
         ]
        }
       ],
       "layout": {
        "coloraxis": {
         "cmax": 40,
         "cmin": 20,
         "colorbar": {
          "title": {
           "text": "Rate of Obesity"
          }
         },
         "colorscale": [
          [
           0,
           "#f0f921"
          ],
          [
           0.1111111111111111,
           "#fdca26"
          ],
          [
           0.2222222222222222,
           "#fb9f3a"
          ],
          [
           0.3333333333333333,
           "#ed7953"
          ],
          [
           0.4444444444444444,
           "#d8576b"
          ],
          [
           0.5555555555555556,
           "#bd3786"
          ],
          [
           0.6666666666666666,
           "#9c179e"
          ],
          [
           0.7777777777777778,
           "#7201a8"
          ],
          [
           0.8888888888888888,
           "#46039f"
          ],
          [
           1,
           "#0d0887"
          ]
         ]
        },
        "geo": {
         "center": {},
         "domain": {
          "x": [
           0,
           1
          ],
          "y": [
           0,
           1
          ]
         },
         "scope": "usa"
        },
        "legend": {
         "tracegroupgap": 0
        },
        "template": {
         "data": {
          "bar": [
           {
            "error_x": {
             "color": "#2a3f5f"
            },
            "error_y": {
             "color": "#2a3f5f"
            },
            "marker": {
             "line": {
              "color": "#E5ECF6",
              "width": 0.5
             },
             "pattern": {
              "fillmode": "overlay",
              "size": 10,
              "solidity": 0.2
             }
            },
            "type": "bar"
           }
          ],
          "barpolar": [
           {
            "marker": {
             "line": {
              "color": "#E5ECF6",
              "width": 0.5
             },
             "pattern": {
              "fillmode": "overlay",
              "size": 10,
              "solidity": 0.2
             }
            },
            "type": "barpolar"
           }
          ],
          "carpet": [
           {
            "aaxis": {
             "endlinecolor": "#2a3f5f",
             "gridcolor": "white",
             "linecolor": "white",
             "minorgridcolor": "white",
             "startlinecolor": "#2a3f5f"
            },
            "baxis": {
             "endlinecolor": "#2a3f5f",
             "gridcolor": "white",
             "linecolor": "white",
             "minorgridcolor": "white",
             "startlinecolor": "#2a3f5f"
            },
            "type": "carpet"
           }
          ],
          "choropleth": [
           {
            "colorbar": {
             "outlinewidth": 0,
             "ticks": ""
            },
            "type": "choropleth"
           }
          ],
          "contour": [
           {
            "colorbar": {
             "outlinewidth": 0,
             "ticks": ""
            },
            "colorscale": [
             [
              0,
              "#0d0887"
             ],
             [
              0.1111111111111111,
              "#46039f"
             ],
             [
              0.2222222222222222,
              "#7201a8"
             ],
             [
              0.3333333333333333,
              "#9c179e"
             ],
             [
              0.4444444444444444,
              "#bd3786"
             ],
             [
              0.5555555555555556,
              "#d8576b"
             ],
             [
              0.6666666666666666,
              "#ed7953"
             ],
             [
              0.7777777777777778,
              "#fb9f3a"
             ],
             [
              0.8888888888888888,
              "#fdca26"
             ],
             [
              1,
              "#f0f921"
             ]
            ],
            "type": "contour"
           }
          ],
          "contourcarpet": [
           {
            "colorbar": {
             "outlinewidth": 0,
             "ticks": ""
            },
            "type": "contourcarpet"
           }
          ],
          "heatmap": [
           {
            "colorbar": {
             "outlinewidth": 0,
             "ticks": ""
            },
            "colorscale": [
             [
              0,
              "#0d0887"
             ],
             [
              0.1111111111111111,
              "#46039f"
             ],
             [
              0.2222222222222222,
              "#7201a8"
             ],
             [
              0.3333333333333333,
              "#9c179e"
             ],
             [
              0.4444444444444444,
              "#bd3786"
             ],
             [
              0.5555555555555556,
              "#d8576b"
             ],
             [
              0.6666666666666666,
              "#ed7953"
             ],
             [
              0.7777777777777778,
              "#fb9f3a"
             ],
             [
              0.8888888888888888,
              "#fdca26"
             ],
             [
              1,
              "#f0f921"
             ]
            ],
            "type": "heatmap"
           }
          ],
          "heatmapgl": [
           {
            "colorbar": {
             "outlinewidth": 0,
             "ticks": ""
            },
            "colorscale": [
             [
              0,
              "#0d0887"
             ],
             [
              0.1111111111111111,
              "#46039f"
             ],
             [
              0.2222222222222222,
              "#7201a8"
             ],
             [
              0.3333333333333333,
              "#9c179e"
             ],
             [
              0.4444444444444444,
              "#bd3786"
             ],
             [
              0.5555555555555556,
              "#d8576b"
             ],
             [
              0.6666666666666666,
              "#ed7953"
             ],
             [
              0.7777777777777778,
              "#fb9f3a"
             ],
             [
              0.8888888888888888,
              "#fdca26"
             ],
             [
              1,
              "#f0f921"
             ]
            ],
            "type": "heatmapgl"
           }
          ],
          "histogram": [
           {
            "marker": {
             "pattern": {
              "fillmode": "overlay",
              "size": 10,
              "solidity": 0.2
             }
            },
            "type": "histogram"
           }
          ],
          "histogram2d": [
           {
            "colorbar": {
             "outlinewidth": 0,
             "ticks": ""
            },
            "colorscale": [
             [
              0,
              "#0d0887"
             ],
             [
              0.1111111111111111,
              "#46039f"
             ],
             [
              0.2222222222222222,
              "#7201a8"
             ],
             [
              0.3333333333333333,
              "#9c179e"
             ],
             [
              0.4444444444444444,
              "#bd3786"
             ],
             [
              0.5555555555555556,
              "#d8576b"
             ],
             [
              0.6666666666666666,
              "#ed7953"
             ],
             [
              0.7777777777777778,
              "#fb9f3a"
             ],
             [
              0.8888888888888888,
              "#fdca26"
             ],
             [
              1,
              "#f0f921"
             ]
            ],
            "type": "histogram2d"
           }
          ],
          "histogram2dcontour": [
           {
            "colorbar": {
             "outlinewidth": 0,
             "ticks": ""
            },
            "colorscale": [
             [
              0,
              "#0d0887"
             ],
             [
              0.1111111111111111,
              "#46039f"
             ],
             [
              0.2222222222222222,
              "#7201a8"
             ],
             [
              0.3333333333333333,
              "#9c179e"
             ],
             [
              0.4444444444444444,
              "#bd3786"
             ],
             [
              0.5555555555555556,
              "#d8576b"
             ],
             [
              0.6666666666666666,
              "#ed7953"
             ],
             [
              0.7777777777777778,
              "#fb9f3a"
             ],
             [
              0.8888888888888888,
              "#fdca26"
             ],
             [
              1,
              "#f0f921"
             ]
            ],
            "type": "histogram2dcontour"
           }
          ],
          "mesh3d": [
           {
            "colorbar": {
             "outlinewidth": 0,
             "ticks": ""
            },
            "type": "mesh3d"
           }
          ],
          "parcoords": [
           {
            "line": {
             "colorbar": {
              "outlinewidth": 0,
              "ticks": ""
             }
            },
            "type": "parcoords"
           }
          ],
          "pie": [
           {
            "automargin": true,
            "type": "pie"
           }
          ],
          "scatter": [
           {
            "fillpattern": {
             "fillmode": "overlay",
             "size": 10,
             "solidity": 0.2
            },
            "type": "scatter"
           }
          ],
          "scatter3d": [
           {
            "line": {
             "colorbar": {
              "outlinewidth": 0,
              "ticks": ""
             }
            },
            "marker": {
             "colorbar": {
              "outlinewidth": 0,
              "ticks": ""
             }
            },
            "type": "scatter3d"
           }
          ],
          "scattercarpet": [
           {
            "marker": {
             "colorbar": {
              "outlinewidth": 0,
              "ticks": ""
             }
            },
            "type": "scattercarpet"
           }
          ],
          "scattergeo": [
           {
            "marker": {
             "colorbar": {
              "outlinewidth": 0,
              "ticks": ""
             }
            },
            "type": "scattergeo"
           }
          ],
          "scattergl": [
           {
            "marker": {
             "colorbar": {
              "outlinewidth": 0,
              "ticks": ""
             }
            },
            "type": "scattergl"
           }
          ],
          "scattermapbox": [
           {
            "marker": {
             "colorbar": {
              "outlinewidth": 0,
              "ticks": ""
             }
            },
            "type": "scattermapbox"
           }
          ],
          "scatterpolar": [
           {
            "marker": {
             "colorbar": {
              "outlinewidth": 0,
              "ticks": ""
             }
            },
            "type": "scatterpolar"
           }
          ],
          "scatterpolargl": [
           {
            "marker": {
             "colorbar": {
              "outlinewidth": 0,
              "ticks": ""
             }
            },
            "type": "scatterpolargl"
           }
          ],
          "scatterternary": [
           {
            "marker": {
             "colorbar": {
              "outlinewidth": 0,
              "ticks": ""
             }
            },
            "type": "scatterternary"
           }
          ],
          "surface": [
           {
            "colorbar": {
             "outlinewidth": 0,
             "ticks": ""
            },
            "colorscale": [
             [
              0,
              "#0d0887"
             ],
             [
              0.1111111111111111,
              "#46039f"
             ],
             [
              0.2222222222222222,
              "#7201a8"
             ],
             [
              0.3333333333333333,
              "#9c179e"
             ],
             [
              0.4444444444444444,
              "#bd3786"
             ],
             [
              0.5555555555555556,
              "#d8576b"
             ],
             [
              0.6666666666666666,
              "#ed7953"
             ],
             [
              0.7777777777777778,
              "#fb9f3a"
             ],
             [
              0.8888888888888888,
              "#fdca26"
             ],
             [
              1,
              "#f0f921"
             ]
            ],
            "type": "surface"
           }
          ],
          "table": [
           {
            "cells": {
             "fill": {
              "color": "#EBF0F8"
             },
             "line": {
              "color": "white"
             }
            },
            "header": {
             "fill": {
              "color": "#C8D4E3"
             },
             "line": {
              "color": "white"
             }
            },
            "type": "table"
           }
          ]
         },
         "layout": {
          "annotationdefaults": {
           "arrowcolor": "#2a3f5f",
           "arrowhead": 0,
           "arrowwidth": 1
          },
          "autotypenumbers": "strict",
          "coloraxis": {
           "colorbar": {
            "outlinewidth": 0,
            "ticks": ""
           }
          },
          "colorscale": {
           "diverging": [
            [
             0,
             "#8e0152"
            ],
            [
             0.1,
             "#c51b7d"
            ],
            [
             0.2,
             "#de77ae"
            ],
            [
             0.3,
             "#f1b6da"
            ],
            [
             0.4,
             "#fde0ef"
            ],
            [
             0.5,
             "#f7f7f7"
            ],
            [
             0.6,
             "#e6f5d0"
            ],
            [
             0.7,
             "#b8e186"
            ],
            [
             0.8,
             "#7fbc41"
            ],
            [
             0.9,
             "#4d9221"
            ],
            [
             1,
             "#276419"
            ]
           ],
           "sequential": [
            [
             0,
             "#0d0887"
            ],
            [
             0.1111111111111111,
             "#46039f"
            ],
            [
             0.2222222222222222,
             "#7201a8"
            ],
            [
             0.3333333333333333,
             "#9c179e"
            ],
            [
             0.4444444444444444,
             "#bd3786"
            ],
            [
             0.5555555555555556,
             "#d8576b"
            ],
            [
             0.6666666666666666,
             "#ed7953"
            ],
            [
             0.7777777777777778,
             "#fb9f3a"
            ],
            [
             0.8888888888888888,
             "#fdca26"
            ],
            [
             1,
             "#f0f921"
            ]
           ],
           "sequentialminus": [
            [
             0,
             "#0d0887"
            ],
            [
             0.1111111111111111,
             "#46039f"
            ],
            [
             0.2222222222222222,
             "#7201a8"
            ],
            [
             0.3333333333333333,
             "#9c179e"
            ],
            [
             0.4444444444444444,
             "#bd3786"
            ],
            [
             0.5555555555555556,
             "#d8576b"
            ],
            [
             0.6666666666666666,
             "#ed7953"
            ],
            [
             0.7777777777777778,
             "#fb9f3a"
            ],
            [
             0.8888888888888888,
             "#fdca26"
            ],
            [
             1,
             "#f0f921"
            ]
           ]
          },
          "colorway": [
           "#636efa",
           "#EF553B",
           "#00cc96",
           "#ab63fa",
           "#FFA15A",
           "#19d3f3",
           "#FF6692",
           "#B6E880",
           "#FF97FF",
           "#FECB52"
          ],
          "font": {
           "color": "#2a3f5f"
          },
          "geo": {
           "bgcolor": "white",
           "lakecolor": "white",
           "landcolor": "#E5ECF6",
           "showlakes": true,
           "showland": true,
           "subunitcolor": "white"
          },
          "hoverlabel": {
           "align": "left"
          },
          "hovermode": "closest",
          "mapbox": {
           "style": "light"
          },
          "paper_bgcolor": "white",
          "plot_bgcolor": "#E5ECF6",
          "polar": {
           "angularaxis": {
            "gridcolor": "white",
            "linecolor": "white",
            "ticks": ""
           },
           "bgcolor": "#E5ECF6",
           "radialaxis": {
            "gridcolor": "white",
            "linecolor": "white",
            "ticks": ""
           }
          },
          "scene": {
           "xaxis": {
            "backgroundcolor": "#E5ECF6",
            "gridcolor": "white",
            "gridwidth": 2,
            "linecolor": "white",
            "showbackground": true,
            "ticks": "",
            "zerolinecolor": "white"
           },
           "yaxis": {
            "backgroundcolor": "#E5ECF6",
            "gridcolor": "white",
            "gridwidth": 2,
            "linecolor": "white",
            "showbackground": true,
            "ticks": "",
            "zerolinecolor": "white"
           },
           "zaxis": {
            "backgroundcolor": "#E5ECF6",
            "gridcolor": "white",
            "gridwidth": 2,
            "linecolor": "white",
            "showbackground": true,
            "ticks": "",
            "zerolinecolor": "white"
           }
          },
          "shapedefaults": {
           "line": {
            "color": "#2a3f5f"
           }
          },
          "ternary": {
           "aaxis": {
            "gridcolor": "white",
            "linecolor": "white",
            "ticks": ""
           },
           "baxis": {
            "gridcolor": "white",
            "linecolor": "white",
            "ticks": ""
           },
           "bgcolor": "#E5ECF6",
           "caxis": {
            "gridcolor": "white",
            "linecolor": "white",
            "ticks": ""
           }
          },
          "title": {
           "x": 0.05
          },
          "xaxis": {
           "automargin": true,
           "gridcolor": "white",
           "linecolor": "white",
           "ticks": "",
           "title": {
            "standoff": 15
           },
           "zerolinecolor": "white",
           "zerolinewidth": 2
          },
          "yaxis": {
           "automargin": true,
           "gridcolor": "white",
           "linecolor": "white",
           "ticks": "",
           "title": {
            "standoff": 15
           },
           "zerolinecolor": "white",
           "zerolinewidth": 2
          }
         }
        },
        "title": {
         "text": "Obesity rate in the United States"
        }
       }
      },
      "text/html": [
       "<div>                            <div id=\"2d7b57c7-46ac-4ca1-a78c-8dd991ec1884\" class=\"plotly-graph-div\" style=\"height:525px; width:100%;\"></div>            <script type=\"text/javascript\">                require([\"plotly\"], function(Plotly) {                    window.PLOTLYENV=window.PLOTLYENV || {};                                    if (document.getElementById(\"2d7b57c7-46ac-4ca1-a78c-8dd991ec1884\")) {                    Plotly.newPlot(                        \"2d7b57c7-46ac-4ca1-a78c-8dd991ec1884\",                        [{\"coloraxis\":\"coloraxis\",\"geo\":\"geo\",\"hovertemplate\":\"state_abbr=%{location}<br>Rate of Obesity=%{z}<extra></extra>\",\"locationmode\":\"USA-states\",\"locations\":[\"TX\",\"CA\",\"KY\",\"GA\",\"WI\",\"OR\",\"VA\",\"TN\",\"LA\",\"NY\",\"MI\",\"ID\",\"FL\",\"AK\",\"MT\",\"MN\",\"NE\",\"WA\",\"OH\",\"IL\",\"MO\",\"IA\",\"SD\",\"AR\",\"MS\",\"CO\",\"NC\",\"UT\",\"OK\",\"WY\",\"WV\",\"IN\",\"MA\",\"NV\",\"CT\",null,\"RI\",\"AL\",null,\"SC\",\"ME\",\"HI\",\"AZ\",\"NM\",\"MD\",\"DE\",\"PA\",\"KS\",\"VT\",\"NJ\",\"ND\",\"NH\"],\"name\":\"\",\"z\":[32.4,24.2,34.6,30.7,30.7,30.1,29.2,33.8,36.2,25.0,31.2,28.6,26.8,29.8,23.6,26.1,31.4,26.4,29.8,30.8,32.4,32.1,30.4,34.5,35.6,20.2,30.1,24.5,33.9,29.0,35.6,31.3,24.3,26.7,25.3,22.1,26.0,35.6,29.5,31.7,30.0,22.7,28.4,28.8,28.9,29.7,30.0,34.2,25.1,25.6,31.0,26.3],\"type\":\"choropleth\"}],                        {\"template\":{\"data\":{\"histogram2dcontour\":[{\"type\":\"histogram2dcontour\",\"colorbar\":{\"outlinewidth\":0,\"ticks\":\"\"},\"colorscale\":[[0.0,\"#0d0887\"],[0.1111111111111111,\"#46039f\"],[0.2222222222222222,\"#7201a8\"],[0.3333333333333333,\"#9c179e\"],[0.4444444444444444,\"#bd3786\"],[0.5555555555555556,\"#d8576b\"],[0.6666666666666666,\"#ed7953\"],[0.7777777777777778,\"#fb9f3a\"],[0.8888888888888888,\"#fdca26\"],[1.0,\"#f0f921\"]]}],\"choropleth\":[{\"type\":\"choropleth\",\"colorbar\":{\"outlinewidth\":0,\"ticks\":\"\"}}],\"histogram2d\":[{\"type\":\"histogram2d\",\"colorbar\":{\"outlinewidth\":0,\"ticks\":\"\"},\"colorscale\":[[0.0,\"#0d0887\"],[0.1111111111111111,\"#46039f\"],[0.2222222222222222,\"#7201a8\"],[0.3333333333333333,\"#9c179e\"],[0.4444444444444444,\"#bd3786\"],[0.5555555555555556,\"#d8576b\"],[0.6666666666666666,\"#ed7953\"],[0.7777777777777778,\"#fb9f3a\"],[0.8888888888888888,\"#fdca26\"],[1.0,\"#f0f921\"]]}],\"heatmap\":[{\"type\":\"heatmap\",\"colorbar\":{\"outlinewidth\":0,\"ticks\":\"\"},\"colorscale\":[[0.0,\"#0d0887\"],[0.1111111111111111,\"#46039f\"],[0.2222222222222222,\"#7201a8\"],[0.3333333333333333,\"#9c179e\"],[0.4444444444444444,\"#bd3786\"],[0.5555555555555556,\"#d8576b\"],[0.6666666666666666,\"#ed7953\"],[0.7777777777777778,\"#fb9f3a\"],[0.8888888888888888,\"#fdca26\"],[1.0,\"#f0f921\"]]}],\"heatmapgl\":[{\"type\":\"heatmapgl\",\"colorbar\":{\"outlinewidth\":0,\"ticks\":\"\"},\"colorscale\":[[0.0,\"#0d0887\"],[0.1111111111111111,\"#46039f\"],[0.2222222222222222,\"#7201a8\"],[0.3333333333333333,\"#9c179e\"],[0.4444444444444444,\"#bd3786\"],[0.5555555555555556,\"#d8576b\"],[0.6666666666666666,\"#ed7953\"],[0.7777777777777778,\"#fb9f3a\"],[0.8888888888888888,\"#fdca26\"],[1.0,\"#f0f921\"]]}],\"contourcarpet\":[{\"type\":\"contourcarpet\",\"colorbar\":{\"outlinewidth\":0,\"ticks\":\"\"}}],\"contour\":[{\"type\":\"contour\",\"colorbar\":{\"outlinewidth\":0,\"ticks\":\"\"},\"colorscale\":[[0.0,\"#0d0887\"],[0.1111111111111111,\"#46039f\"],[0.2222222222222222,\"#7201a8\"],[0.3333333333333333,\"#9c179e\"],[0.4444444444444444,\"#bd3786\"],[0.5555555555555556,\"#d8576b\"],[0.6666666666666666,\"#ed7953\"],[0.7777777777777778,\"#fb9f3a\"],[0.8888888888888888,\"#fdca26\"],[1.0,\"#f0f921\"]]}],\"surface\":[{\"type\":\"surface\",\"colorbar\":{\"outlinewidth\":0,\"ticks\":\"\"},\"colorscale\":[[0.0,\"#0d0887\"],[0.1111111111111111,\"#46039f\"],[0.2222222222222222,\"#7201a8\"],[0.3333333333333333,\"#9c179e\"],[0.4444444444444444,\"#bd3786\"],[0.5555555555555556,\"#d8576b\"],[0.6666666666666666,\"#ed7953\"],[0.7777777777777778,\"#fb9f3a\"],[0.8888888888888888,\"#fdca26\"],[1.0,\"#f0f921\"]]}],\"mesh3d\":[{\"type\":\"mesh3d\",\"colorbar\":{\"outlinewidth\":0,\"ticks\":\"\"}}],\"scatter\":[{\"fillpattern\":{\"fillmode\":\"overlay\",\"size\":10,\"solidity\":0.2},\"type\":\"scatter\"}],\"parcoords\":[{\"type\":\"parcoords\",\"line\":{\"colorbar\":{\"outlinewidth\":0,\"ticks\":\"\"}}}],\"scatterpolargl\":[{\"type\":\"scatterpolargl\",\"marker\":{\"colorbar\":{\"outlinewidth\":0,\"ticks\":\"\"}}}],\"bar\":[{\"error_x\":{\"color\":\"#2a3f5f\"},\"error_y\":{\"color\":\"#2a3f5f\"},\"marker\":{\"line\":{\"color\":\"#E5ECF6\",\"width\":0.5},\"pattern\":{\"fillmode\":\"overlay\",\"size\":10,\"solidity\":0.2}},\"type\":\"bar\"}],\"scattergeo\":[{\"type\":\"scattergeo\",\"marker\":{\"colorbar\":{\"outlinewidth\":0,\"ticks\":\"\"}}}],\"scatterpolar\":[{\"type\":\"scatterpolar\",\"marker\":{\"colorbar\":{\"outlinewidth\":0,\"ticks\":\"\"}}}],\"histogram\":[{\"marker\":{\"pattern\":{\"fillmode\":\"overlay\",\"size\":10,\"solidity\":0.2}},\"type\":\"histogram\"}],\"scattergl\":[{\"type\":\"scattergl\",\"marker\":{\"colorbar\":{\"outlinewidth\":0,\"ticks\":\"\"}}}],\"scatter3d\":[{\"type\":\"scatter3d\",\"line\":{\"colorbar\":{\"outlinewidth\":0,\"ticks\":\"\"}},\"marker\":{\"colorbar\":{\"outlinewidth\":0,\"ticks\":\"\"}}}],\"scattermapbox\":[{\"type\":\"scattermapbox\",\"marker\":{\"colorbar\":{\"outlinewidth\":0,\"ticks\":\"\"}}}],\"scatterternary\":[{\"type\":\"scatterternary\",\"marker\":{\"colorbar\":{\"outlinewidth\":0,\"ticks\":\"\"}}}],\"scattercarpet\":[{\"type\":\"scattercarpet\",\"marker\":{\"colorbar\":{\"outlinewidth\":0,\"ticks\":\"\"}}}],\"carpet\":[{\"aaxis\":{\"endlinecolor\":\"#2a3f5f\",\"gridcolor\":\"white\",\"linecolor\":\"white\",\"minorgridcolor\":\"white\",\"startlinecolor\":\"#2a3f5f\"},\"baxis\":{\"endlinecolor\":\"#2a3f5f\",\"gridcolor\":\"white\",\"linecolor\":\"white\",\"minorgridcolor\":\"white\",\"startlinecolor\":\"#2a3f5f\"},\"type\":\"carpet\"}],\"table\":[{\"cells\":{\"fill\":{\"color\":\"#EBF0F8\"},\"line\":{\"color\":\"white\"}},\"header\":{\"fill\":{\"color\":\"#C8D4E3\"},\"line\":{\"color\":\"white\"}},\"type\":\"table\"}],\"barpolar\":[{\"marker\":{\"line\":{\"color\":\"#E5ECF6\",\"width\":0.5},\"pattern\":{\"fillmode\":\"overlay\",\"size\":10,\"solidity\":0.2}},\"type\":\"barpolar\"}],\"pie\":[{\"automargin\":true,\"type\":\"pie\"}]},\"layout\":{\"autotypenumbers\":\"strict\",\"colorway\":[\"#636efa\",\"#EF553B\",\"#00cc96\",\"#ab63fa\",\"#FFA15A\",\"#19d3f3\",\"#FF6692\",\"#B6E880\",\"#FF97FF\",\"#FECB52\"],\"font\":{\"color\":\"#2a3f5f\"},\"hovermode\":\"closest\",\"hoverlabel\":{\"align\":\"left\"},\"paper_bgcolor\":\"white\",\"plot_bgcolor\":\"#E5ECF6\",\"polar\":{\"bgcolor\":\"#E5ECF6\",\"angularaxis\":{\"gridcolor\":\"white\",\"linecolor\":\"white\",\"ticks\":\"\"},\"radialaxis\":{\"gridcolor\":\"white\",\"linecolor\":\"white\",\"ticks\":\"\"}},\"ternary\":{\"bgcolor\":\"#E5ECF6\",\"aaxis\":{\"gridcolor\":\"white\",\"linecolor\":\"white\",\"ticks\":\"\"},\"baxis\":{\"gridcolor\":\"white\",\"linecolor\":\"white\",\"ticks\":\"\"},\"caxis\":{\"gridcolor\":\"white\",\"linecolor\":\"white\",\"ticks\":\"\"}},\"coloraxis\":{\"colorbar\":{\"outlinewidth\":0,\"ticks\":\"\"}},\"colorscale\":{\"sequential\":[[0.0,\"#0d0887\"],[0.1111111111111111,\"#46039f\"],[0.2222222222222222,\"#7201a8\"],[0.3333333333333333,\"#9c179e\"],[0.4444444444444444,\"#bd3786\"],[0.5555555555555556,\"#d8576b\"],[0.6666666666666666,\"#ed7953\"],[0.7777777777777778,\"#fb9f3a\"],[0.8888888888888888,\"#fdca26\"],[1.0,\"#f0f921\"]],\"sequentialminus\":[[0.0,\"#0d0887\"],[0.1111111111111111,\"#46039f\"],[0.2222222222222222,\"#7201a8\"],[0.3333333333333333,\"#9c179e\"],[0.4444444444444444,\"#bd3786\"],[0.5555555555555556,\"#d8576b\"],[0.6666666666666666,\"#ed7953\"],[0.7777777777777778,\"#fb9f3a\"],[0.8888888888888888,\"#fdca26\"],[1.0,\"#f0f921\"]],\"diverging\":[[0,\"#8e0152\"],[0.1,\"#c51b7d\"],[0.2,\"#de77ae\"],[0.3,\"#f1b6da\"],[0.4,\"#fde0ef\"],[0.5,\"#f7f7f7\"],[0.6,\"#e6f5d0\"],[0.7,\"#b8e186\"],[0.8,\"#7fbc41\"],[0.9,\"#4d9221\"],[1,\"#276419\"]]},\"xaxis\":{\"gridcolor\":\"white\",\"linecolor\":\"white\",\"ticks\":\"\",\"title\":{\"standoff\":15},\"zerolinecolor\":\"white\",\"automargin\":true,\"zerolinewidth\":2},\"yaxis\":{\"gridcolor\":\"white\",\"linecolor\":\"white\",\"ticks\":\"\",\"title\":{\"standoff\":15},\"zerolinecolor\":\"white\",\"automargin\":true,\"zerolinewidth\":2},\"scene\":{\"xaxis\":{\"backgroundcolor\":\"#E5ECF6\",\"gridcolor\":\"white\",\"linecolor\":\"white\",\"showbackground\":true,\"ticks\":\"\",\"zerolinecolor\":\"white\",\"gridwidth\":2},\"yaxis\":{\"backgroundcolor\":\"#E5ECF6\",\"gridcolor\":\"white\",\"linecolor\":\"white\",\"showbackground\":true,\"ticks\":\"\",\"zerolinecolor\":\"white\",\"gridwidth\":2},\"zaxis\":{\"backgroundcolor\":\"#E5ECF6\",\"gridcolor\":\"white\",\"linecolor\":\"white\",\"showbackground\":true,\"ticks\":\"\",\"zerolinecolor\":\"white\",\"gridwidth\":2}},\"shapedefaults\":{\"line\":{\"color\":\"#2a3f5f\"}},\"annotationdefaults\":{\"arrowcolor\":\"#2a3f5f\",\"arrowhead\":0,\"arrowwidth\":1},\"geo\":{\"bgcolor\":\"white\",\"landcolor\":\"#E5ECF6\",\"subunitcolor\":\"white\",\"showland\":true,\"showlakes\":true,\"lakecolor\":\"white\"},\"title\":{\"x\":0.05},\"mapbox\":{\"style\":\"light\"}}},\"geo\":{\"domain\":{\"x\":[0.0,1.0],\"y\":[0.0,1.0]},\"center\":{},\"scope\":\"usa\"},\"coloraxis\":{\"colorbar\":{\"title\":{\"text\":\"Rate of Obesity\"}},\"colorscale\":[[0.0,\"#f0f921\"],[0.1111111111111111,\"#fdca26\"],[0.2222222222222222,\"#fb9f3a\"],[0.3333333333333333,\"#ed7953\"],[0.4444444444444444,\"#d8576b\"],[0.5555555555555556,\"#bd3786\"],[0.6666666666666666,\"#9c179e\"],[0.7777777777777778,\"#7201a8\"],[0.8888888888888888,\"#46039f\"],[1.0,\"#0d0887\"]],\"cmin\":20,\"cmax\":40},\"legend\":{\"tracegroupgap\":0},\"title\":{\"text\":\"Obesity rate in the United States\"}},                        {\"responsive\": true}                    ).then(function(){\n",
       "                            \n",
       "var gd = document.getElementById('2d7b57c7-46ac-4ca1-a78c-8dd991ec1884');\n",
       "var x = new MutationObserver(function (mutations, observer) {{\n",
       "        var display = window.getComputedStyle(gd).display;\n",
       "        if (!display || display === 'none') {{\n",
       "            console.log([gd, 'removed!']);\n",
       "            Plotly.purge(gd);\n",
       "            observer.disconnect();\n",
       "        }}\n",
       "}});\n",
       "\n",
       "// Listen for the removal of the full notebook cells\n",
       "var notebookContainer = gd.closest('#notebook-container');\n",
       "if (notebookContainer) {{\n",
       "    x.observe(notebookContainer, {childList: true});\n",
       "}}\n",
       "\n",
       "// Listen for the clearing of the current output cell\n",
       "var outputEl = gd.closest('.output');\n",
       "if (outputEl) {{\n",
       "    x.observe(outputEl, {childList: true});\n",
       "}}\n",
       "\n",
       "                        })                };                });            </script>        </div>"
      ]
     },
     "metadata": {},
     "output_type": "display_data"
    }
   ],
   "source": [
    "#per plotlyexpress documentation it requires state abbreviations to run plotly and not the name of the state so converted names to abbreviations\n",
    "state_abbreviations = {\n",
    "    'Alabama': 'AL', 'Alaska': 'AK', 'Arizona': 'AZ', 'Arkansas': 'AR', 'California': 'CA',\n",
    "    'Colorado': 'CO', 'Connecticut': 'CT', 'Delaware': 'DE', 'District Of Columbia': 'DC', 'Florida': 'FL',\n",
    "    'Georgia': 'GA', 'Hawaii': 'HI', 'Idaho': 'ID', 'Illinois': 'IL', 'Indiana': 'IN',\n",
    "    'Iowa': 'IA', 'Kansas': 'KS', 'Kentucky': 'KY', 'Louisiana': 'LA', 'Maine': 'ME',\n",
    "    'Maryland': 'MD', 'Massachusetts': 'MA', 'Michigan': 'MI', 'Minnesota': 'MN', 'Mississippi': 'MS',\n",
    "    'Missouri': 'MO', 'Montana': 'MT', 'Nebraska': 'NE', 'Nevada': 'NV', 'New Hampshire': 'NH',\n",
    "    'New Jersey': 'NJ', 'New Mexico': 'NM', 'New York': 'NY', 'North Carolina': 'NC', 'North Dakota': 'ND',\n",
    "    'Ohio': 'OH', 'Oklahoma': 'OK', 'Oregon': 'OR', 'Pennsylvania': 'PA', 'Rhode Island': 'RI',\n",
    "    'South Carolina': 'SC', 'South Dakota': 'SD', 'Tennessee': 'TN', 'Texas': 'TX', 'Utah': 'UT',\n",
    "    'Vermont': 'VT', 'Virginia': 'VA', 'Washington': 'WA', 'West Virginia': 'WV', 'Wisconsin': 'WI', 'Wyoming': 'WY'\n",
    "}\n",
    "\n",
    "#connected state names to their abbreviations\n",
    "obesity_df['state_abbr'] = obesity_df['State'].map(state_abbreviations)\n",
    "\n",
    "#changed obesity string data into numeric data\n",
    "obesity_df['Obesity Rate'] = pd.to_numeric(obesity_df['Obesity Rate'], errors='coerce')\n",
    "\n",
    "#create us map\n",
    "fig = px.choropleth(obesity_df, \n",
    "                    locations='state_abbr', \n",
    "                    locationmode='USA-states',\n",
    "                    color='Obesity Rate',\n",
    "                    color_continuous_scale=px.colors.sequential.Plasma[::-1],  # Choose a color scale\n",
    "                    range_color=[20, 40],\n",
    "                    labels={'Obesity Rate': 'Rate of Obesity'},\n",
    "                    title='Obesity rate in the United States',\n",
    "                    scope='usa')\n",
    "\n",
    "fig.show()"
   ]
  },
  {
   "cell_type": "code",
   "execution_count": 22,
   "id": "09733c63",
   "metadata": {},
   "outputs": [
    {
     "data": {
      "text/plain": [
       "count    52.000000\n",
       "mean     29.286538\n",
       "std       3.832832\n",
       "min      20.200000\n",
       "25%      26.250000\n",
       "50%      29.800000\n",
       "75%      31.475000\n",
       "max      36.200000\n",
       "Name: Obesity Rate, dtype: float64"
      ]
     },
     "execution_count": 22,
     "metadata": {},
     "output_type": "execute_result"
    }
   ],
   "source": [
    "obesity_stats = obesity_df['Obesity Rate'].describe()\n",
    "obesity_stats"
   ]
  },
  {
   "cell_type": "markdown",
   "id": "e988f6a7",
   "metadata": {},
   "source": [
    "#Merging the dataframes"
   ]
  },
  {
   "cell_type": "code",
   "execution_count": 26,
   "id": "0e1cc8ce",
   "metadata": {},
   "outputs": [
    {
     "name": "stdout",
     "output_type": "stream",
     "text": [
      "Index(['State', 'Obesity Rate', 'state_abbr'], dtype='object')\n",
      "Index(['State', 'brewery_count', 'state_abbr'], dtype='object')\n"
     ]
    }
   ],
   "source": [
    "#determining what column to merge on\n",
    "print(obesity_df.columns)\n",
    "print(breweries_for_map.columns)"
   ]
  },
  {
   "cell_type": "code",
   "execution_count": 30,
   "id": "45dc2d31",
   "metadata": {},
   "outputs": [],
   "source": [
    "#making the state_abbr column consistent\n",
    "obesity_df['state_abbr'] = obesity_df['state_abbr'].str.upper()\n",
    "breweries_for_map['state_abbr'] = breweries_for_map['state_abbr'].str.upper()"
   ]
  },
  {
   "cell_type": "code",
   "execution_count": 40,
   "id": "b3e2d1b3",
   "metadata": {},
   "outputs": [
    {
     "data": {
      "text/html": [
       "<div>\n",
       "<style scoped>\n",
       "    .dataframe tbody tr th:only-of-type {\n",
       "        vertical-align: middle;\n",
       "    }\n",
       "\n",
       "    .dataframe tbody tr th {\n",
       "        vertical-align: top;\n",
       "    }\n",
       "\n",
       "    .dataframe thead th {\n",
       "        text-align: right;\n",
       "    }\n",
       "</style>\n",
       "<table border=\"1\" class=\"dataframe\">\n",
       "  <thead>\n",
       "    <tr style=\"text-align: right;\">\n",
       "      <th></th>\n",
       "      <th>State_x</th>\n",
       "      <th>Obesity Rate</th>\n",
       "      <th>state_abbr</th>\n",
       "      <th>State_y</th>\n",
       "      <th>brewery_count</th>\n",
       "    </tr>\n",
       "  </thead>\n",
       "  <tbody>\n",
       "    <tr>\n",
       "      <th>0</th>\n",
       "      <td>Texas</td>\n",
       "      <td>32.4</td>\n",
       "      <td>TX</td>\n",
       "      <td>Texas</td>\n",
       "      <td>293</td>\n",
       "    </tr>\n",
       "    <tr>\n",
       "      <th>1</th>\n",
       "      <td>California</td>\n",
       "      <td>24.2</td>\n",
       "      <td>CA</td>\n",
       "      <td>California</td>\n",
       "      <td>801</td>\n",
       "    </tr>\n",
       "    <tr>\n",
       "      <th>2</th>\n",
       "      <td>Kentucky</td>\n",
       "      <td>34.6</td>\n",
       "      <td>KY</td>\n",
       "      <td>Kentucky</td>\n",
       "      <td>55</td>\n",
       "    </tr>\n",
       "    <tr>\n",
       "      <th>3</th>\n",
       "      <td>Georgia</td>\n",
       "      <td>30.7</td>\n",
       "      <td>GA</td>\n",
       "      <td>Georgia</td>\n",
       "      <td>81</td>\n",
       "    </tr>\n",
       "    <tr>\n",
       "      <th>4</th>\n",
       "      <td>Wisconsin</td>\n",
       "      <td>30.7</td>\n",
       "      <td>WI</td>\n",
       "      <td>Wisconsin</td>\n",
       "      <td>206</td>\n",
       "    </tr>\n",
       "  </tbody>\n",
       "</table>\n",
       "</div>"
      ],
      "text/plain": [
       "      State_x  Obesity Rate state_abbr     State_y  brewery_count\n",
       "0       Texas          32.4         TX       Texas            293\n",
       "1  California          24.2         CA  California            801\n",
       "2    Kentucky          34.6         KY    Kentucky             55\n",
       "3     Georgia          30.7         GA     Georgia             81\n",
       "4   Wisconsin          30.7         WI   Wisconsin            206"
      ]
     },
     "execution_count": 40,
     "metadata": {},
     "output_type": "execute_result"
    }
   ],
   "source": [
    "merged_df = pd.merge(obesity_df, breweries_for_map, on='state_abbr', how='inner')\n",
    "\n",
    "merged_df.head()"
   ]
  },
  {
   "cell_type": "code",
   "execution_count": 41,
   "id": "80d5897b",
   "metadata": {},
   "outputs": [],
   "source": [
    "#drop extra state column\n",
    "merged_df.drop(columns=['State_y'], inplace=True)"
   ]
  },
  {
   "cell_type": "code",
   "execution_count": 43,
   "id": "eba0129d",
   "metadata": {},
   "outputs": [
    {
     "data": {
      "text/html": [
       "<div>\n",
       "<style scoped>\n",
       "    .dataframe tbody tr th:only-of-type {\n",
       "        vertical-align: middle;\n",
       "    }\n",
       "\n",
       "    .dataframe tbody tr th {\n",
       "        vertical-align: top;\n",
       "    }\n",
       "\n",
       "    .dataframe thead th {\n",
       "        text-align: right;\n",
       "    }\n",
       "</style>\n",
       "<table border=\"1\" class=\"dataframe\">\n",
       "  <thead>\n",
       "    <tr style=\"text-align: right;\">\n",
       "      <th></th>\n",
       "      <th>State_x</th>\n",
       "      <th>Obesity Rate</th>\n",
       "      <th>state_abbr</th>\n",
       "      <th>brewery_count</th>\n",
       "    </tr>\n",
       "  </thead>\n",
       "  <tbody>\n",
       "    <tr>\n",
       "      <th>0</th>\n",
       "      <td>Texas</td>\n",
       "      <td>32.4</td>\n",
       "      <td>TX</td>\n",
       "      <td>293</td>\n",
       "    </tr>\n",
       "    <tr>\n",
       "      <th>1</th>\n",
       "      <td>California</td>\n",
       "      <td>24.2</td>\n",
       "      <td>CA</td>\n",
       "      <td>801</td>\n",
       "    </tr>\n",
       "    <tr>\n",
       "      <th>2</th>\n",
       "      <td>Kentucky</td>\n",
       "      <td>34.6</td>\n",
       "      <td>KY</td>\n",
       "      <td>55</td>\n",
       "    </tr>\n",
       "    <tr>\n",
       "      <th>3</th>\n",
       "      <td>Georgia</td>\n",
       "      <td>30.7</td>\n",
       "      <td>GA</td>\n",
       "      <td>81</td>\n",
       "    </tr>\n",
       "    <tr>\n",
       "      <th>4</th>\n",
       "      <td>Wisconsin</td>\n",
       "      <td>30.7</td>\n",
       "      <td>WI</td>\n",
       "      <td>206</td>\n",
       "    </tr>\n",
       "  </tbody>\n",
       "</table>\n",
       "</div>"
      ],
      "text/plain": [
       "      State_x  Obesity Rate state_abbr  brewery_count\n",
       "0       Texas          32.4         TX            293\n",
       "1  California          24.2         CA            801\n",
       "2    Kentucky          34.6         KY             55\n",
       "3     Georgia          30.7         GA             81\n",
       "4   Wisconsin          30.7         WI            206"
      ]
     },
     "execution_count": 43,
     "metadata": {},
     "output_type": "execute_result"
    }
   ],
   "source": [
    "#making sure the merge worked\n",
    "merged_df.head()"
   ]
  },
  {
   "cell_type": "code",
   "execution_count": 44,
   "id": "bb2e1e82",
   "metadata": {},
   "outputs": [],
   "source": [
    "#renaming state_x\n",
    "merged_df.rename(columns={'State_x': 'State'}, inplace=True)"
   ]
  },
  {
   "cell_type": "code",
   "execution_count": 45,
   "id": "0be39c32",
   "metadata": {},
   "outputs": [
    {
     "data": {
      "text/html": [
       "<div>\n",
       "<style scoped>\n",
       "    .dataframe tbody tr th:only-of-type {\n",
       "        vertical-align: middle;\n",
       "    }\n",
       "\n",
       "    .dataframe tbody tr th {\n",
       "        vertical-align: top;\n",
       "    }\n",
       "\n",
       "    .dataframe thead th {\n",
       "        text-align: right;\n",
       "    }\n",
       "</style>\n",
       "<table border=\"1\" class=\"dataframe\">\n",
       "  <thead>\n",
       "    <tr style=\"text-align: right;\">\n",
       "      <th></th>\n",
       "      <th>State</th>\n",
       "      <th>Obesity Rate</th>\n",
       "      <th>state_abbr</th>\n",
       "      <th>brewery_count</th>\n",
       "    </tr>\n",
       "  </thead>\n",
       "  <tbody>\n",
       "    <tr>\n",
       "      <th>0</th>\n",
       "      <td>Texas</td>\n",
       "      <td>32.4</td>\n",
       "      <td>TX</td>\n",
       "      <td>293</td>\n",
       "    </tr>\n",
       "    <tr>\n",
       "      <th>1</th>\n",
       "      <td>California</td>\n",
       "      <td>24.2</td>\n",
       "      <td>CA</td>\n",
       "      <td>801</td>\n",
       "    </tr>\n",
       "    <tr>\n",
       "      <th>2</th>\n",
       "      <td>Kentucky</td>\n",
       "      <td>34.6</td>\n",
       "      <td>KY</td>\n",
       "      <td>55</td>\n",
       "    </tr>\n",
       "    <tr>\n",
       "      <th>3</th>\n",
       "      <td>Georgia</td>\n",
       "      <td>30.7</td>\n",
       "      <td>GA</td>\n",
       "      <td>81</td>\n",
       "    </tr>\n",
       "    <tr>\n",
       "      <th>4</th>\n",
       "      <td>Wisconsin</td>\n",
       "      <td>30.7</td>\n",
       "      <td>WI</td>\n",
       "      <td>206</td>\n",
       "    </tr>\n",
       "  </tbody>\n",
       "</table>\n",
       "</div>"
      ],
      "text/plain": [
       "        State  Obesity Rate state_abbr  brewery_count\n",
       "0       Texas          32.4         TX            293\n",
       "1  California          24.2         CA            801\n",
       "2    Kentucky          34.6         KY             55\n",
       "3     Georgia          30.7         GA             81\n",
       "4   Wisconsin          30.7         WI            206"
      ]
     },
     "execution_count": 45,
     "metadata": {},
     "output_type": "execute_result"
    }
   ],
   "source": [
    "#making sure the drop worked\n",
    "merged_df.head()"
   ]
  },
  {
   "cell_type": "code",
   "execution_count": 46,
   "id": "16712f44",
   "metadata": {},
   "outputs": [
    {
     "data": {
      "text/html": [
       "<div>\n",
       "<style scoped>\n",
       "    .dataframe tbody tr th:only-of-type {\n",
       "        vertical-align: middle;\n",
       "    }\n",
       "\n",
       "    .dataframe tbody tr th {\n",
       "        vertical-align: top;\n",
       "    }\n",
       "\n",
       "    .dataframe thead th {\n",
       "        text-align: right;\n",
       "    }\n",
       "</style>\n",
       "<table border=\"1\" class=\"dataframe\">\n",
       "  <thead>\n",
       "    <tr style=\"text-align: right;\">\n",
       "      <th></th>\n",
       "      <th>Obesity Rate</th>\n",
       "      <th>brewery_count</th>\n",
       "    </tr>\n",
       "  </thead>\n",
       "  <tbody>\n",
       "    <tr>\n",
       "      <th>Obesity Rate</th>\n",
       "      <td>1.000000</td>\n",
       "      <td>-0.334883</td>\n",
       "    </tr>\n",
       "    <tr>\n",
       "      <th>brewery_count</th>\n",
       "      <td>-0.334883</td>\n",
       "      <td>1.000000</td>\n",
       "    </tr>\n",
       "  </tbody>\n",
       "</table>\n",
       "</div>"
      ],
      "text/plain": [
       "               Obesity Rate  brewery_count\n",
       "Obesity Rate       1.000000      -0.334883\n",
       "brewery_count     -0.334883       1.000000"
      ]
     },
     "execution_count": 46,
     "metadata": {},
     "output_type": "execute_result"
    }
   ],
   "source": [
    "#looking to see if there is correlation\n",
    "merged_df[['Obesity Rate', 'brewery_count']].corr()"
   ]
  },
  {
   "cell_type": "code",
   "execution_count": 60,
   "id": "f574f7ca",
   "metadata": {},
   "outputs": [
    {
     "data": {
      "application/vnd.plotly.v1+json": {
       "config": {
        "plotlyServerURL": "https://plot.ly"
       },
       "data": [
        {
         "hovertemplate": "<b>%{hovertext}</b><br><br>Obesity Rate=%{x}<br>brewery_count=%{y}<extra></extra>",
         "hovertext": [
          "Texas",
          "California",
          "Kentucky",
          "Georgia",
          "Wisconsin",
          "Oregon",
          "Virginia",
          "Tennessee",
          "Louisiana",
          "New York",
          "Michigan",
          "Idaho",
          "Florida",
          "Alaska",
          "Montana",
          "Minnesota",
          "Nebraska",
          "Washington",
          "Ohio",
          "Illinois",
          "Missouri",
          "Iowa",
          "South Dakota",
          "Arkansas",
          "Mississippi",
          "Colorado",
          "North Carolina",
          "Utah",
          "Oklahoma",
          "Wyoming",
          "West Virginia",
          "Indiana",
          "Massachusetts",
          "Nevada",
          "Connecticut",
          "Rhode Island",
          "Alabama",
          "South Carolina",
          "Maine",
          "Hawaii",
          "Arizona",
          "New Mexico",
          "Maryland",
          "Delaware",
          "Pennsylvania",
          "Kansas",
          "Vermont",
          "New Jersey",
          "North Dakota",
          "New Hampshire"
         ],
         "legendgroup": "",
         "marker": {
          "color": "#636efa",
          "symbol": "circle"
         },
         "mode": "markers",
         "name": "",
         "orientation": "v",
         "showlegend": false,
         "type": "scatter",
         "x": [
          32.4,
          24.2,
          34.6,
          30.7,
          30.7,
          30.1,
          29.2,
          33.8,
          36.2,
          25,
          31.2,
          28.6,
          26.8,
          29.8,
          23.6,
          26.1,
          31.4,
          26.4,
          29.8,
          30.8,
          32.4,
          32.1,
          30.4,
          34.5,
          35.6,
          20.2,
          30.1,
          24.5,
          33.9,
          29,
          35.6,
          31.3,
          24.3,
          26.7,
          25.3,
          26,
          35.6,
          31.7,
          30,
          22.7,
          28.4,
          28.8,
          28.9,
          29.7,
          30,
          34.2,
          25.1,
          25.6,
          31,
          26.3
         ],
         "xaxis": "x",
         "y": [
          293,
          801,
          55,
          81,
          206,
          272,
          220,
          91,
          35,
          381,
          354,
          62,
          274,
          45,
          82,
          169,
          56,
          406,
          276,
          234,
          126,
          89,
          41,
          41,
          16,
          400,
          278,
          38,
          39,
          46,
          36,
          142,
          146,
          45,
          67,
          31,
          37,
          70,
          107,
          20,
          111,
          78,
          91,
          26,
          309,
          40,
          57,
          101,
          22,
          72
         ],
         "yaxis": "y"
        },
        {
         "hovertemplate": "<b>OLS trendline</b><br>brewery_count = -13.102 * Obesity Rate + 527.84<br>R<sup>2</sup>=0.112147<br><br>Obesity Rate=%{x}<br>brewery_count=%{y} <b>(trend)</b><extra></extra>",
         "legendgroup": "",
         "marker": {
          "color": "#636efa",
          "symbol": "circle"
         },
         "mode": "lines",
         "name": "",
         "showlegend": false,
         "type": "scatter",
         "x": [
          20.2,
          22.7,
          23.6,
          24.2,
          24.3,
          24.5,
          25,
          25.1,
          25.3,
          25.6,
          26,
          26.1,
          26.3,
          26.4,
          26.7,
          26.8,
          28.4,
          28.6,
          28.8,
          28.9,
          29,
          29.2,
          29.7,
          29.8,
          29.8,
          30,
          30,
          30.1,
          30.1,
          30.4,
          30.7,
          30.7,
          30.8,
          31,
          31.2,
          31.3,
          31.4,
          31.7,
          32.1,
          32.4,
          32.4,
          33.8,
          33.9,
          34.2,
          34.5,
          34.6,
          35.6,
          35.6,
          35.6,
          36.2
         ],
         "xaxis": "x",
         "y": [
          263.1791932940944,
          230.4241550071622,
          218.63234122386655,
          210.77113203500284,
          209.46093050352556,
          206.84052744057095,
          200.28951978318452,
          198.97931825170724,
          196.35891518875263,
          192.4283105943208,
          187.18750446841165,
          185.87730293693437,
          183.25689987397976,
          181.94669834250254,
          178.01609374807066,
          176.70589221659333,
          155.74266771295675,
          153.12226465000214,
          150.50186158704759,
          149.1916600555703,
          147.88145852409303,
          145.26105546113843,
          138.710047803752,
          137.39984627227471,
          137.39984627227471,
          134.7794432093201,
          134.7794432093201,
          133.46924167784283,
          133.46924167784283,
          129.538637083411,
          125.60803248897912,
          125.60803248897912,
          124.29783095750179,
          121.67742789454724,
          119.05702483159268,
          117.74682330011535,
          116.43662176863813,
          112.50601717420625,
          107.26521104829703,
          103.3346064538652,
          103.3346064538652,
          84.99178501318323,
          83.6815834817059,
          79.75097888727402,
          75.82037429284219,
          74.51017276136486,
          61.408157446591986,
          61.408157446591986,
          61.408157446591986,
          53.54694825772822
         ],
         "yaxis": "y"
        }
       ],
       "layout": {
        "legend": {
         "tracegroupgap": 0
        },
        "template": {
         "data": {
          "bar": [
           {
            "error_x": {
             "color": "#2a3f5f"
            },
            "error_y": {
             "color": "#2a3f5f"
            },
            "marker": {
             "line": {
              "color": "#E5ECF6",
              "width": 0.5
             },
             "pattern": {
              "fillmode": "overlay",
              "size": 10,
              "solidity": 0.2
             }
            },
            "type": "bar"
           }
          ],
          "barpolar": [
           {
            "marker": {
             "line": {
              "color": "#E5ECF6",
              "width": 0.5
             },
             "pattern": {
              "fillmode": "overlay",
              "size": 10,
              "solidity": 0.2
             }
            },
            "type": "barpolar"
           }
          ],
          "carpet": [
           {
            "aaxis": {
             "endlinecolor": "#2a3f5f",
             "gridcolor": "white",
             "linecolor": "white",
             "minorgridcolor": "white",
             "startlinecolor": "#2a3f5f"
            },
            "baxis": {
             "endlinecolor": "#2a3f5f",
             "gridcolor": "white",
             "linecolor": "white",
             "minorgridcolor": "white",
             "startlinecolor": "#2a3f5f"
            },
            "type": "carpet"
           }
          ],
          "choropleth": [
           {
            "colorbar": {
             "outlinewidth": 0,
             "ticks": ""
            },
            "type": "choropleth"
           }
          ],
          "contour": [
           {
            "colorbar": {
             "outlinewidth": 0,
             "ticks": ""
            },
            "colorscale": [
             [
              0,
              "#0d0887"
             ],
             [
              0.1111111111111111,
              "#46039f"
             ],
             [
              0.2222222222222222,
              "#7201a8"
             ],
             [
              0.3333333333333333,
              "#9c179e"
             ],
             [
              0.4444444444444444,
              "#bd3786"
             ],
             [
              0.5555555555555556,
              "#d8576b"
             ],
             [
              0.6666666666666666,
              "#ed7953"
             ],
             [
              0.7777777777777778,
              "#fb9f3a"
             ],
             [
              0.8888888888888888,
              "#fdca26"
             ],
             [
              1,
              "#f0f921"
             ]
            ],
            "type": "contour"
           }
          ],
          "contourcarpet": [
           {
            "colorbar": {
             "outlinewidth": 0,
             "ticks": ""
            },
            "type": "contourcarpet"
           }
          ],
          "heatmap": [
           {
            "colorbar": {
             "outlinewidth": 0,
             "ticks": ""
            },
            "colorscale": [
             [
              0,
              "#0d0887"
             ],
             [
              0.1111111111111111,
              "#46039f"
             ],
             [
              0.2222222222222222,
              "#7201a8"
             ],
             [
              0.3333333333333333,
              "#9c179e"
             ],
             [
              0.4444444444444444,
              "#bd3786"
             ],
             [
              0.5555555555555556,
              "#d8576b"
             ],
             [
              0.6666666666666666,
              "#ed7953"
             ],
             [
              0.7777777777777778,
              "#fb9f3a"
             ],
             [
              0.8888888888888888,
              "#fdca26"
             ],
             [
              1,
              "#f0f921"
             ]
            ],
            "type": "heatmap"
           }
          ],
          "heatmapgl": [
           {
            "colorbar": {
             "outlinewidth": 0,
             "ticks": ""
            },
            "colorscale": [
             [
              0,
              "#0d0887"
             ],
             [
              0.1111111111111111,
              "#46039f"
             ],
             [
              0.2222222222222222,
              "#7201a8"
             ],
             [
              0.3333333333333333,
              "#9c179e"
             ],
             [
              0.4444444444444444,
              "#bd3786"
             ],
             [
              0.5555555555555556,
              "#d8576b"
             ],
             [
              0.6666666666666666,
              "#ed7953"
             ],
             [
              0.7777777777777778,
              "#fb9f3a"
             ],
             [
              0.8888888888888888,
              "#fdca26"
             ],
             [
              1,
              "#f0f921"
             ]
            ],
            "type": "heatmapgl"
           }
          ],
          "histogram": [
           {
            "marker": {
             "pattern": {
              "fillmode": "overlay",
              "size": 10,
              "solidity": 0.2
             }
            },
            "type": "histogram"
           }
          ],
          "histogram2d": [
           {
            "colorbar": {
             "outlinewidth": 0,
             "ticks": ""
            },
            "colorscale": [
             [
              0,
              "#0d0887"
             ],
             [
              0.1111111111111111,
              "#46039f"
             ],
             [
              0.2222222222222222,
              "#7201a8"
             ],
             [
              0.3333333333333333,
              "#9c179e"
             ],
             [
              0.4444444444444444,
              "#bd3786"
             ],
             [
              0.5555555555555556,
              "#d8576b"
             ],
             [
              0.6666666666666666,
              "#ed7953"
             ],
             [
              0.7777777777777778,
              "#fb9f3a"
             ],
             [
              0.8888888888888888,
              "#fdca26"
             ],
             [
              1,
              "#f0f921"
             ]
            ],
            "type": "histogram2d"
           }
          ],
          "histogram2dcontour": [
           {
            "colorbar": {
             "outlinewidth": 0,
             "ticks": ""
            },
            "colorscale": [
             [
              0,
              "#0d0887"
             ],
             [
              0.1111111111111111,
              "#46039f"
             ],
             [
              0.2222222222222222,
              "#7201a8"
             ],
             [
              0.3333333333333333,
              "#9c179e"
             ],
             [
              0.4444444444444444,
              "#bd3786"
             ],
             [
              0.5555555555555556,
              "#d8576b"
             ],
             [
              0.6666666666666666,
              "#ed7953"
             ],
             [
              0.7777777777777778,
              "#fb9f3a"
             ],
             [
              0.8888888888888888,
              "#fdca26"
             ],
             [
              1,
              "#f0f921"
             ]
            ],
            "type": "histogram2dcontour"
           }
          ],
          "mesh3d": [
           {
            "colorbar": {
             "outlinewidth": 0,
             "ticks": ""
            },
            "type": "mesh3d"
           }
          ],
          "parcoords": [
           {
            "line": {
             "colorbar": {
              "outlinewidth": 0,
              "ticks": ""
             }
            },
            "type": "parcoords"
           }
          ],
          "pie": [
           {
            "automargin": true,
            "type": "pie"
           }
          ],
          "scatter": [
           {
            "fillpattern": {
             "fillmode": "overlay",
             "size": 10,
             "solidity": 0.2
            },
            "type": "scatter"
           }
          ],
          "scatter3d": [
           {
            "line": {
             "colorbar": {
              "outlinewidth": 0,
              "ticks": ""
             }
            },
            "marker": {
             "colorbar": {
              "outlinewidth": 0,
              "ticks": ""
             }
            },
            "type": "scatter3d"
           }
          ],
          "scattercarpet": [
           {
            "marker": {
             "colorbar": {
              "outlinewidth": 0,
              "ticks": ""
             }
            },
            "type": "scattercarpet"
           }
          ],
          "scattergeo": [
           {
            "marker": {
             "colorbar": {
              "outlinewidth": 0,
              "ticks": ""
             }
            },
            "type": "scattergeo"
           }
          ],
          "scattergl": [
           {
            "marker": {
             "colorbar": {
              "outlinewidth": 0,
              "ticks": ""
             }
            },
            "type": "scattergl"
           }
          ],
          "scattermapbox": [
           {
            "marker": {
             "colorbar": {
              "outlinewidth": 0,
              "ticks": ""
             }
            },
            "type": "scattermapbox"
           }
          ],
          "scatterpolar": [
           {
            "marker": {
             "colorbar": {
              "outlinewidth": 0,
              "ticks": ""
             }
            },
            "type": "scatterpolar"
           }
          ],
          "scatterpolargl": [
           {
            "marker": {
             "colorbar": {
              "outlinewidth": 0,
              "ticks": ""
             }
            },
            "type": "scatterpolargl"
           }
          ],
          "scatterternary": [
           {
            "marker": {
             "colorbar": {
              "outlinewidth": 0,
              "ticks": ""
             }
            },
            "type": "scatterternary"
           }
          ],
          "surface": [
           {
            "colorbar": {
             "outlinewidth": 0,
             "ticks": ""
            },
            "colorscale": [
             [
              0,
              "#0d0887"
             ],
             [
              0.1111111111111111,
              "#46039f"
             ],
             [
              0.2222222222222222,
              "#7201a8"
             ],
             [
              0.3333333333333333,
              "#9c179e"
             ],
             [
              0.4444444444444444,
              "#bd3786"
             ],
             [
              0.5555555555555556,
              "#d8576b"
             ],
             [
              0.6666666666666666,
              "#ed7953"
             ],
             [
              0.7777777777777778,
              "#fb9f3a"
             ],
             [
              0.8888888888888888,
              "#fdca26"
             ],
             [
              1,
              "#f0f921"
             ]
            ],
            "type": "surface"
           }
          ],
          "table": [
           {
            "cells": {
             "fill": {
              "color": "#EBF0F8"
             },
             "line": {
              "color": "white"
             }
            },
            "header": {
             "fill": {
              "color": "#C8D4E3"
             },
             "line": {
              "color": "white"
             }
            },
            "type": "table"
           }
          ]
         },
         "layout": {
          "annotationdefaults": {
           "arrowcolor": "#2a3f5f",
           "arrowhead": 0,
           "arrowwidth": 1
          },
          "autotypenumbers": "strict",
          "coloraxis": {
           "colorbar": {
            "outlinewidth": 0,
            "ticks": ""
           }
          },
          "colorscale": {
           "diverging": [
            [
             0,
             "#8e0152"
            ],
            [
             0.1,
             "#c51b7d"
            ],
            [
             0.2,
             "#de77ae"
            ],
            [
             0.3,
             "#f1b6da"
            ],
            [
             0.4,
             "#fde0ef"
            ],
            [
             0.5,
             "#f7f7f7"
            ],
            [
             0.6,
             "#e6f5d0"
            ],
            [
             0.7,
             "#b8e186"
            ],
            [
             0.8,
             "#7fbc41"
            ],
            [
             0.9,
             "#4d9221"
            ],
            [
             1,
             "#276419"
            ]
           ],
           "sequential": [
            [
             0,
             "#0d0887"
            ],
            [
             0.1111111111111111,
             "#46039f"
            ],
            [
             0.2222222222222222,
             "#7201a8"
            ],
            [
             0.3333333333333333,
             "#9c179e"
            ],
            [
             0.4444444444444444,
             "#bd3786"
            ],
            [
             0.5555555555555556,
             "#d8576b"
            ],
            [
             0.6666666666666666,
             "#ed7953"
            ],
            [
             0.7777777777777778,
             "#fb9f3a"
            ],
            [
             0.8888888888888888,
             "#fdca26"
            ],
            [
             1,
             "#f0f921"
            ]
           ],
           "sequentialminus": [
            [
             0,
             "#0d0887"
            ],
            [
             0.1111111111111111,
             "#46039f"
            ],
            [
             0.2222222222222222,
             "#7201a8"
            ],
            [
             0.3333333333333333,
             "#9c179e"
            ],
            [
             0.4444444444444444,
             "#bd3786"
            ],
            [
             0.5555555555555556,
             "#d8576b"
            ],
            [
             0.6666666666666666,
             "#ed7953"
            ],
            [
             0.7777777777777778,
             "#fb9f3a"
            ],
            [
             0.8888888888888888,
             "#fdca26"
            ],
            [
             1,
             "#f0f921"
            ]
           ]
          },
          "colorway": [
           "#636efa",
           "#EF553B",
           "#00cc96",
           "#ab63fa",
           "#FFA15A",
           "#19d3f3",
           "#FF6692",
           "#B6E880",
           "#FF97FF",
           "#FECB52"
          ],
          "font": {
           "color": "#2a3f5f"
          },
          "geo": {
           "bgcolor": "white",
           "lakecolor": "white",
           "landcolor": "#E5ECF6",
           "showlakes": true,
           "showland": true,
           "subunitcolor": "white"
          },
          "hoverlabel": {
           "align": "left"
          },
          "hovermode": "closest",
          "mapbox": {
           "style": "light"
          },
          "paper_bgcolor": "white",
          "plot_bgcolor": "#E5ECF6",
          "polar": {
           "angularaxis": {
            "gridcolor": "white",
            "linecolor": "white",
            "ticks": ""
           },
           "bgcolor": "#E5ECF6",
           "radialaxis": {
            "gridcolor": "white",
            "linecolor": "white",
            "ticks": ""
           }
          },
          "scene": {
           "xaxis": {
            "backgroundcolor": "#E5ECF6",
            "gridcolor": "white",
            "gridwidth": 2,
            "linecolor": "white",
            "showbackground": true,
            "ticks": "",
            "zerolinecolor": "white"
           },
           "yaxis": {
            "backgroundcolor": "#E5ECF6",
            "gridcolor": "white",
            "gridwidth": 2,
            "linecolor": "white",
            "showbackground": true,
            "ticks": "",
            "zerolinecolor": "white"
           },
           "zaxis": {
            "backgroundcolor": "#E5ECF6",
            "gridcolor": "white",
            "gridwidth": 2,
            "linecolor": "white",
            "showbackground": true,
            "ticks": "",
            "zerolinecolor": "white"
           }
          },
          "shapedefaults": {
           "line": {
            "color": "#2a3f5f"
           }
          },
          "ternary": {
           "aaxis": {
            "gridcolor": "white",
            "linecolor": "white",
            "ticks": ""
           },
           "baxis": {
            "gridcolor": "white",
            "linecolor": "white",
            "ticks": ""
           },
           "bgcolor": "#E5ECF6",
           "caxis": {
            "gridcolor": "white",
            "linecolor": "white",
            "ticks": ""
           }
          },
          "title": {
           "x": 0.05
          },
          "xaxis": {
           "automargin": true,
           "gridcolor": "white",
           "linecolor": "white",
           "ticks": "",
           "title": {
            "standoff": 15
           },
           "zerolinecolor": "white",
           "zerolinewidth": 2
          },
          "yaxis": {
           "automargin": true,
           "gridcolor": "white",
           "linecolor": "white",
           "ticks": "",
           "title": {
            "standoff": 15
           },
           "zerolinecolor": "white",
           "zerolinewidth": 2
          }
         }
        },
        "title": {
         "text": "Obesity Rate vs Brewery Count"
        },
        "xaxis": {
         "anchor": "y",
         "domain": [
          0,
          1
         ],
         "title": {
          "text": "Obesity Rate"
         }
        },
        "yaxis": {
         "anchor": "x",
         "domain": [
          0,
          1
         ],
         "title": {
          "text": "brewery_count"
         }
        }
       }
      },
      "text/html": [
       "<div>                            <div id=\"47538b60-7f31-4f84-b145-cf04f5aca8fd\" class=\"plotly-graph-div\" style=\"height:525px; width:100%;\"></div>            <script type=\"text/javascript\">                require([\"plotly\"], function(Plotly) {                    window.PLOTLYENV=window.PLOTLYENV || {};                                    if (document.getElementById(\"47538b60-7f31-4f84-b145-cf04f5aca8fd\")) {                    Plotly.newPlot(                        \"47538b60-7f31-4f84-b145-cf04f5aca8fd\",                        [{\"hovertemplate\":\"<b>%{hovertext}</b><br><br>Obesity Rate=%{x}<br>brewery_count=%{y}<extra></extra>\",\"hovertext\":[\"Texas\",\"California\",\"Kentucky\",\"Georgia\",\"Wisconsin\",\"Oregon\",\"Virginia\",\"Tennessee\",\"Louisiana\",\"New York\",\"Michigan\",\"Idaho\",\"Florida\",\"Alaska\",\"Montana\",\"Minnesota\",\"Nebraska\",\"Washington\",\"Ohio\",\"Illinois\",\"Missouri\",\"Iowa\",\"South Dakota\",\"Arkansas\",\"Mississippi\",\"Colorado\",\"North Carolina\",\"Utah\",\"Oklahoma\",\"Wyoming\",\"West Virginia\",\"Indiana\",\"Massachusetts\",\"Nevada\",\"Connecticut\",\"Rhode Island\",\"Alabama\",\"South Carolina\",\"Maine\",\"Hawaii\",\"Arizona\",\"New Mexico\",\"Maryland\",\"Delaware\",\"Pennsylvania\",\"Kansas\",\"Vermont\",\"New Jersey\",\"North Dakota\",\"New Hampshire\"],\"legendgroup\":\"\",\"marker\":{\"color\":\"#636efa\",\"symbol\":\"circle\"},\"mode\":\"markers\",\"name\":\"\",\"orientation\":\"v\",\"showlegend\":false,\"x\":[32.4,24.2,34.6,30.7,30.7,30.1,29.2,33.8,36.2,25.0,31.2,28.6,26.8,29.8,23.6,26.1,31.4,26.4,29.8,30.8,32.4,32.1,30.4,34.5,35.6,20.2,30.1,24.5,33.9,29.0,35.6,31.3,24.3,26.7,25.3,26.0,35.6,31.7,30.0,22.7,28.4,28.8,28.9,29.7,30.0,34.2,25.1,25.6,31.0,26.3],\"xaxis\":\"x\",\"y\":[293,801,55,81,206,272,220,91,35,381,354,62,274,45,82,169,56,406,276,234,126,89,41,41,16,400,278,38,39,46,36,142,146,45,67,31,37,70,107,20,111,78,91,26,309,40,57,101,22,72],\"yaxis\":\"y\",\"type\":\"scatter\"},{\"hovertemplate\":\"<b>OLS trendline</b><br>brewery_count = -13.102 * Obesity Rate + 527.84<br>R<sup>2</sup>=0.112147<br><br>Obesity Rate=%{x}<br>brewery_count=%{y} <b>(trend)</b><extra></extra>\",\"legendgroup\":\"\",\"marker\":{\"color\":\"#636efa\",\"symbol\":\"circle\"},\"mode\":\"lines\",\"name\":\"\",\"showlegend\":false,\"x\":[20.2,22.7,23.6,24.2,24.3,24.5,25.0,25.1,25.3,25.6,26.0,26.1,26.3,26.4,26.7,26.8,28.4,28.6,28.8,28.9,29.0,29.2,29.7,29.8,29.8,30.0,30.0,30.1,30.1,30.4,30.7,30.7,30.8,31.0,31.2,31.3,31.4,31.7,32.1,32.4,32.4,33.8,33.9,34.2,34.5,34.6,35.6,35.6,35.6,36.2],\"xaxis\":\"x\",\"y\":[263.1791932940944,230.4241550071622,218.63234122386655,210.77113203500284,209.46093050352556,206.84052744057095,200.28951978318452,198.97931825170724,196.35891518875263,192.4283105943208,187.18750446841165,185.87730293693437,183.25689987397976,181.94669834250254,178.01609374807066,176.70589221659333,155.74266771295675,153.12226465000214,150.50186158704759,149.1916600555703,147.88145852409303,145.26105546113843,138.710047803752,137.39984627227471,137.39984627227471,134.7794432093201,134.7794432093201,133.46924167784283,133.46924167784283,129.538637083411,125.60803248897912,125.60803248897912,124.29783095750179,121.67742789454724,119.05702483159268,117.74682330011535,116.43662176863813,112.50601717420625,107.26521104829703,103.3346064538652,103.3346064538652,84.99178501318323,83.6815834817059,79.75097888727402,75.82037429284219,74.51017276136486,61.408157446591986,61.408157446591986,61.408157446591986,53.54694825772822],\"yaxis\":\"y\",\"type\":\"scatter\"}],                        {\"template\":{\"data\":{\"histogram2dcontour\":[{\"type\":\"histogram2dcontour\",\"colorbar\":{\"outlinewidth\":0,\"ticks\":\"\"},\"colorscale\":[[0.0,\"#0d0887\"],[0.1111111111111111,\"#46039f\"],[0.2222222222222222,\"#7201a8\"],[0.3333333333333333,\"#9c179e\"],[0.4444444444444444,\"#bd3786\"],[0.5555555555555556,\"#d8576b\"],[0.6666666666666666,\"#ed7953\"],[0.7777777777777778,\"#fb9f3a\"],[0.8888888888888888,\"#fdca26\"],[1.0,\"#f0f921\"]]}],\"choropleth\":[{\"type\":\"choropleth\",\"colorbar\":{\"outlinewidth\":0,\"ticks\":\"\"}}],\"histogram2d\":[{\"type\":\"histogram2d\",\"colorbar\":{\"outlinewidth\":0,\"ticks\":\"\"},\"colorscale\":[[0.0,\"#0d0887\"],[0.1111111111111111,\"#46039f\"],[0.2222222222222222,\"#7201a8\"],[0.3333333333333333,\"#9c179e\"],[0.4444444444444444,\"#bd3786\"],[0.5555555555555556,\"#d8576b\"],[0.6666666666666666,\"#ed7953\"],[0.7777777777777778,\"#fb9f3a\"],[0.8888888888888888,\"#fdca26\"],[1.0,\"#f0f921\"]]}],\"heatmap\":[{\"type\":\"heatmap\",\"colorbar\":{\"outlinewidth\":0,\"ticks\":\"\"},\"colorscale\":[[0.0,\"#0d0887\"],[0.1111111111111111,\"#46039f\"],[0.2222222222222222,\"#7201a8\"],[0.3333333333333333,\"#9c179e\"],[0.4444444444444444,\"#bd3786\"],[0.5555555555555556,\"#d8576b\"],[0.6666666666666666,\"#ed7953\"],[0.7777777777777778,\"#fb9f3a\"],[0.8888888888888888,\"#fdca26\"],[1.0,\"#f0f921\"]]}],\"heatmapgl\":[{\"type\":\"heatmapgl\",\"colorbar\":{\"outlinewidth\":0,\"ticks\":\"\"},\"colorscale\":[[0.0,\"#0d0887\"],[0.1111111111111111,\"#46039f\"],[0.2222222222222222,\"#7201a8\"],[0.3333333333333333,\"#9c179e\"],[0.4444444444444444,\"#bd3786\"],[0.5555555555555556,\"#d8576b\"],[0.6666666666666666,\"#ed7953\"],[0.7777777777777778,\"#fb9f3a\"],[0.8888888888888888,\"#fdca26\"],[1.0,\"#f0f921\"]]}],\"contourcarpet\":[{\"type\":\"contourcarpet\",\"colorbar\":{\"outlinewidth\":0,\"ticks\":\"\"}}],\"contour\":[{\"type\":\"contour\",\"colorbar\":{\"outlinewidth\":0,\"ticks\":\"\"},\"colorscale\":[[0.0,\"#0d0887\"],[0.1111111111111111,\"#46039f\"],[0.2222222222222222,\"#7201a8\"],[0.3333333333333333,\"#9c179e\"],[0.4444444444444444,\"#bd3786\"],[0.5555555555555556,\"#d8576b\"],[0.6666666666666666,\"#ed7953\"],[0.7777777777777778,\"#fb9f3a\"],[0.8888888888888888,\"#fdca26\"],[1.0,\"#f0f921\"]]}],\"surface\":[{\"type\":\"surface\",\"colorbar\":{\"outlinewidth\":0,\"ticks\":\"\"},\"colorscale\":[[0.0,\"#0d0887\"],[0.1111111111111111,\"#46039f\"],[0.2222222222222222,\"#7201a8\"],[0.3333333333333333,\"#9c179e\"],[0.4444444444444444,\"#bd3786\"],[0.5555555555555556,\"#d8576b\"],[0.6666666666666666,\"#ed7953\"],[0.7777777777777778,\"#fb9f3a\"],[0.8888888888888888,\"#fdca26\"],[1.0,\"#f0f921\"]]}],\"mesh3d\":[{\"type\":\"mesh3d\",\"colorbar\":{\"outlinewidth\":0,\"ticks\":\"\"}}],\"scatter\":[{\"fillpattern\":{\"fillmode\":\"overlay\",\"size\":10,\"solidity\":0.2},\"type\":\"scatter\"}],\"parcoords\":[{\"type\":\"parcoords\",\"line\":{\"colorbar\":{\"outlinewidth\":0,\"ticks\":\"\"}}}],\"scatterpolargl\":[{\"type\":\"scatterpolargl\",\"marker\":{\"colorbar\":{\"outlinewidth\":0,\"ticks\":\"\"}}}],\"bar\":[{\"error_x\":{\"color\":\"#2a3f5f\"},\"error_y\":{\"color\":\"#2a3f5f\"},\"marker\":{\"line\":{\"color\":\"#E5ECF6\",\"width\":0.5},\"pattern\":{\"fillmode\":\"overlay\",\"size\":10,\"solidity\":0.2}},\"type\":\"bar\"}],\"scattergeo\":[{\"type\":\"scattergeo\",\"marker\":{\"colorbar\":{\"outlinewidth\":0,\"ticks\":\"\"}}}],\"scatterpolar\":[{\"type\":\"scatterpolar\",\"marker\":{\"colorbar\":{\"outlinewidth\":0,\"ticks\":\"\"}}}],\"histogram\":[{\"marker\":{\"pattern\":{\"fillmode\":\"overlay\",\"size\":10,\"solidity\":0.2}},\"type\":\"histogram\"}],\"scattergl\":[{\"type\":\"scattergl\",\"marker\":{\"colorbar\":{\"outlinewidth\":0,\"ticks\":\"\"}}}],\"scatter3d\":[{\"type\":\"scatter3d\",\"line\":{\"colorbar\":{\"outlinewidth\":0,\"ticks\":\"\"}},\"marker\":{\"colorbar\":{\"outlinewidth\":0,\"ticks\":\"\"}}}],\"scattermapbox\":[{\"type\":\"scattermapbox\",\"marker\":{\"colorbar\":{\"outlinewidth\":0,\"ticks\":\"\"}}}],\"scatterternary\":[{\"type\":\"scatterternary\",\"marker\":{\"colorbar\":{\"outlinewidth\":0,\"ticks\":\"\"}}}],\"scattercarpet\":[{\"type\":\"scattercarpet\",\"marker\":{\"colorbar\":{\"outlinewidth\":0,\"ticks\":\"\"}}}],\"carpet\":[{\"aaxis\":{\"endlinecolor\":\"#2a3f5f\",\"gridcolor\":\"white\",\"linecolor\":\"white\",\"minorgridcolor\":\"white\",\"startlinecolor\":\"#2a3f5f\"},\"baxis\":{\"endlinecolor\":\"#2a3f5f\",\"gridcolor\":\"white\",\"linecolor\":\"white\",\"minorgridcolor\":\"white\",\"startlinecolor\":\"#2a3f5f\"},\"type\":\"carpet\"}],\"table\":[{\"cells\":{\"fill\":{\"color\":\"#EBF0F8\"},\"line\":{\"color\":\"white\"}},\"header\":{\"fill\":{\"color\":\"#C8D4E3\"},\"line\":{\"color\":\"white\"}},\"type\":\"table\"}],\"barpolar\":[{\"marker\":{\"line\":{\"color\":\"#E5ECF6\",\"width\":0.5},\"pattern\":{\"fillmode\":\"overlay\",\"size\":10,\"solidity\":0.2}},\"type\":\"barpolar\"}],\"pie\":[{\"automargin\":true,\"type\":\"pie\"}]},\"layout\":{\"autotypenumbers\":\"strict\",\"colorway\":[\"#636efa\",\"#EF553B\",\"#00cc96\",\"#ab63fa\",\"#FFA15A\",\"#19d3f3\",\"#FF6692\",\"#B6E880\",\"#FF97FF\",\"#FECB52\"],\"font\":{\"color\":\"#2a3f5f\"},\"hovermode\":\"closest\",\"hoverlabel\":{\"align\":\"left\"},\"paper_bgcolor\":\"white\",\"plot_bgcolor\":\"#E5ECF6\",\"polar\":{\"bgcolor\":\"#E5ECF6\",\"angularaxis\":{\"gridcolor\":\"white\",\"linecolor\":\"white\",\"ticks\":\"\"},\"radialaxis\":{\"gridcolor\":\"white\",\"linecolor\":\"white\",\"ticks\":\"\"}},\"ternary\":{\"bgcolor\":\"#E5ECF6\",\"aaxis\":{\"gridcolor\":\"white\",\"linecolor\":\"white\",\"ticks\":\"\"},\"baxis\":{\"gridcolor\":\"white\",\"linecolor\":\"white\",\"ticks\":\"\"},\"caxis\":{\"gridcolor\":\"white\",\"linecolor\":\"white\",\"ticks\":\"\"}},\"coloraxis\":{\"colorbar\":{\"outlinewidth\":0,\"ticks\":\"\"}},\"colorscale\":{\"sequential\":[[0.0,\"#0d0887\"],[0.1111111111111111,\"#46039f\"],[0.2222222222222222,\"#7201a8\"],[0.3333333333333333,\"#9c179e\"],[0.4444444444444444,\"#bd3786\"],[0.5555555555555556,\"#d8576b\"],[0.6666666666666666,\"#ed7953\"],[0.7777777777777778,\"#fb9f3a\"],[0.8888888888888888,\"#fdca26\"],[1.0,\"#f0f921\"]],\"sequentialminus\":[[0.0,\"#0d0887\"],[0.1111111111111111,\"#46039f\"],[0.2222222222222222,\"#7201a8\"],[0.3333333333333333,\"#9c179e\"],[0.4444444444444444,\"#bd3786\"],[0.5555555555555556,\"#d8576b\"],[0.6666666666666666,\"#ed7953\"],[0.7777777777777778,\"#fb9f3a\"],[0.8888888888888888,\"#fdca26\"],[1.0,\"#f0f921\"]],\"diverging\":[[0,\"#8e0152\"],[0.1,\"#c51b7d\"],[0.2,\"#de77ae\"],[0.3,\"#f1b6da\"],[0.4,\"#fde0ef\"],[0.5,\"#f7f7f7\"],[0.6,\"#e6f5d0\"],[0.7,\"#b8e186\"],[0.8,\"#7fbc41\"],[0.9,\"#4d9221\"],[1,\"#276419\"]]},\"xaxis\":{\"gridcolor\":\"white\",\"linecolor\":\"white\",\"ticks\":\"\",\"title\":{\"standoff\":15},\"zerolinecolor\":\"white\",\"automargin\":true,\"zerolinewidth\":2},\"yaxis\":{\"gridcolor\":\"white\",\"linecolor\":\"white\",\"ticks\":\"\",\"title\":{\"standoff\":15},\"zerolinecolor\":\"white\",\"automargin\":true,\"zerolinewidth\":2},\"scene\":{\"xaxis\":{\"backgroundcolor\":\"#E5ECF6\",\"gridcolor\":\"white\",\"linecolor\":\"white\",\"showbackground\":true,\"ticks\":\"\",\"zerolinecolor\":\"white\",\"gridwidth\":2},\"yaxis\":{\"backgroundcolor\":\"#E5ECF6\",\"gridcolor\":\"white\",\"linecolor\":\"white\",\"showbackground\":true,\"ticks\":\"\",\"zerolinecolor\":\"white\",\"gridwidth\":2},\"zaxis\":{\"backgroundcolor\":\"#E5ECF6\",\"gridcolor\":\"white\",\"linecolor\":\"white\",\"showbackground\":true,\"ticks\":\"\",\"zerolinecolor\":\"white\",\"gridwidth\":2}},\"shapedefaults\":{\"line\":{\"color\":\"#2a3f5f\"}},\"annotationdefaults\":{\"arrowcolor\":\"#2a3f5f\",\"arrowhead\":0,\"arrowwidth\":1},\"geo\":{\"bgcolor\":\"white\",\"landcolor\":\"#E5ECF6\",\"subunitcolor\":\"white\",\"showland\":true,\"showlakes\":true,\"lakecolor\":\"white\"},\"title\":{\"x\":0.05},\"mapbox\":{\"style\":\"light\"}}},\"xaxis\":{\"anchor\":\"y\",\"domain\":[0.0,1.0],\"title\":{\"text\":\"Obesity Rate\"}},\"yaxis\":{\"anchor\":\"x\",\"domain\":[0.0,1.0],\"title\":{\"text\":\"brewery_count\"}},\"legend\":{\"tracegroupgap\":0},\"title\":{\"text\":\"Obesity Rate vs Brewery Count\"}},                        {\"responsive\": true}                    ).then(function(){\n",
       "                            \n",
       "var gd = document.getElementById('47538b60-7f31-4f84-b145-cf04f5aca8fd');\n",
       "var x = new MutationObserver(function (mutations, observer) {{\n",
       "        var display = window.getComputedStyle(gd).display;\n",
       "        if (!display || display === 'none') {{\n",
       "            console.log([gd, 'removed!']);\n",
       "            Plotly.purge(gd);\n",
       "            observer.disconnect();\n",
       "        }}\n",
       "}});\n",
       "\n",
       "// Listen for the removal of the full notebook cells\n",
       "var notebookContainer = gd.closest('#notebook-container');\n",
       "if (notebookContainer) {{\n",
       "    x.observe(notebookContainer, {childList: true});\n",
       "}}\n",
       "\n",
       "// Listen for the clearing of the current output cell\n",
       "var outputEl = gd.closest('.output');\n",
       "if (outputEl) {{\n",
       "    x.observe(outputEl, {childList: true});\n",
       "}}\n",
       "\n",
       "                        })                };                });            </script>        </div>"
      ]
     },
     "metadata": {},
     "output_type": "display_data"
    }
   ],
   "source": [
    "#plotly scatterplot with regression line\n",
    "fig = px.scatter(merged_df, \n",
    "                 x='Obesity Rate', \n",
    "                 y='brewery_count', \n",
    "                 hover_name='State',\n",
    "                 title='Obesity Rate vs Brewery Count',\n",
    "                 trendline='ols')\n",
    "\n",
    "fig.show()"
   ]
  },
  {
   "cell_type": "code",
   "execution_count": 54,
   "id": "12a8d108",
   "metadata": {},
   "outputs": [
    {
     "data": {
      "image/png": "[encoded data removed]",
      "text/plain": [
       "<Figure size 720x432 with 1 Axes>"
      ]
     },
     "metadata": {
      "needs_background": "light"
     },
     "output_type": "display_data"
    }
   ],
   "source": []
  },
  {
   "cell_type": "code",
   "execution_count": 59,
   "id": "ecdba94c",
   "metadata": {},
   "outputs": [
    {
     "data": {
      "application/vnd.plotly.v1+json": {
       "config": {
        "plotlyServerURL": "https://plot.ly"
       },
       "data": [
        {
         "hovertemplate": "<b>%{hovertext}</b><br><br>Obesity Rate=%{x}<br>brewery_count=%{y}<extra></extra>",
         "hovertext": [
          "Texas",
          "California",
          "Kentucky",
          "Georgia",
          "Wisconsin",
          "Oregon",
          "Virginia",
          "Tennessee",
          "Louisiana",
          "New York",
          "Michigan",
          "Idaho",
          "Florida",
          "Alaska",
          "Montana",
          "Minnesota",
          "Nebraska",
          "Washington",
          "Ohio",
          "Illinois",
          "Missouri",
          "Iowa",
          "South Dakota",
          "Arkansas",
          "Mississippi",
          "Colorado",
          "North Carolina",
          "Utah",
          "Oklahoma",
          "Wyoming",
          "West Virginia",
          "Indiana",
          "Massachusetts",
          "Nevada",
          "Connecticut",
          "Rhode Island",
          "Alabama",
          "South Carolina",
          "Maine",
          "Hawaii",
          "Arizona",
          "New Mexico",
          "Maryland",
          "Delaware",
          "Pennsylvania",
          "Kansas",
          "Vermont",
          "New Jersey",
          "North Dakota",
          "New Hampshire"
         ],
         "legendgroup": "",
         "marker": {
          "color": "#636efa",
          "symbol": "circle"
         },
         "mode": "markers",
         "name": "",
         "orientation": "v",
         "showlegend": false,
         "type": "scatter",
         "x": [
          32.4,
          24.2,
          34.6,
          30.7,
          30.7,
          30.1,
          29.2,
          33.8,
          36.2,
          25,
          31.2,
          28.6,
          26.8,
          29.8,
          23.6,
          26.1,
          31.4,
          26.4,
          29.8,
          30.8,
          32.4,
          32.1,
          30.4,
          34.5,
          35.6,
          20.2,
          30.1,
          24.5,
          33.9,
          29,
          35.6,
          31.3,
          24.3,
          26.7,
          25.3,
          26,
          35.6,
          31.7,
          30,
          22.7,
          28.4,
          28.8,
          28.9,
          29.7,
          30,
          34.2,
          25.1,
          25.6,
          31,
          26.3
         ],
         "xaxis": "x",
         "y": [
          293,
          801,
          55,
          81,
          206,
          272,
          220,
          91,
          35,
          381,
          354,
          62,
          274,
          45,
          82,
          169,
          56,
          406,
          276,
          234,
          126,
          89,
          41,
          41,
          16,
          400,
          278,
          38,
          39,
          46,
          36,
          142,
          146,
          45,
          67,
          31,
          37,
          70,
          107,
          20,
          111,
          78,
          91,
          26,
          309,
          40,
          57,
          101,
          22,
          72
         ],
         "yaxis": "y"
        },
        {
         "hovertemplate": "<b>OLS trendline</b><br>brewery_count = -13.102 * Obesity Rate + 527.84<br>R<sup>2</sup>=0.112147<br><br>Obesity Rate=%{x}<br>brewery_count=%{y} <b>(trend)</b><extra></extra>",
         "legendgroup": "",
         "marker": {
          "color": "#636efa",
          "symbol": "circle"
         },
         "mode": "lines",
         "name": "",
         "showlegend": false,
         "type": "scatter",
         "x": [
          20.2,
          22.7,
          23.6,
          24.2,
          24.3,
          24.5,
          25,
          25.1,
          25.3,
          25.6,
          26,
          26.1,
          26.3,
          26.4,
          26.7,
          26.8,
          28.4,
          28.6,
          28.8,
          28.9,
          29,
          29.2,
          29.7,
          29.8,
          29.8,
          30,
          30,
          30.1,
          30.1,
          30.4,
          30.7,
          30.7,
          30.8,
          31,
          31.2,
          31.3,
          31.4,
          31.7,
          32.1,
          32.4,
          32.4,
          33.8,
          33.9,
          34.2,
          34.5,
          34.6,
          35.6,
          35.6,
          35.6,
          36.2
         ],
         "xaxis": "x",
         "y": [
          263.1791932940944,
          230.4241550071622,
          218.63234122386655,
          210.77113203500284,
          209.46093050352556,
          206.84052744057095,
          200.28951978318452,
          198.97931825170724,
          196.35891518875263,
          192.4283105943208,
          187.18750446841165,
          185.87730293693437,
          183.25689987397976,
          181.94669834250254,
          178.01609374807066,
          176.70589221659333,
          155.74266771295675,
          153.12226465000214,
          150.50186158704759,
          149.1916600555703,
          147.88145852409303,
          145.26105546113843,
          138.710047803752,
          137.39984627227471,
          137.39984627227471,
          134.7794432093201,
          134.7794432093201,
          133.46924167784283,
          133.46924167784283,
          129.538637083411,
          125.60803248897912,
          125.60803248897912,
          124.29783095750179,
          121.67742789454724,
          119.05702483159268,
          117.74682330011535,
          116.43662176863813,
          112.50601717420625,
          107.26521104829703,
          103.3346064538652,
          103.3346064538652,
          84.99178501318323,
          83.6815834817059,
          79.75097888727402,
          75.82037429284219,
          74.51017276136486,
          61.408157446591986,
          61.408157446591986,
          61.408157446591986,
          53.54694825772822
         ],
         "yaxis": "y"
        }
       ],
       "layout": {
        "legend": {
         "tracegroupgap": 0
        },
        "template": {
         "data": {
          "bar": [
           {
            "error_x": {
             "color": "#2a3f5f"
            },
            "error_y": {
             "color": "#2a3f5f"
            },
            "marker": {
             "line": {
              "color": "#E5ECF6",
              "width": 0.5
             },
             "pattern": {
              "fillmode": "overlay",
              "size": 10,
              "solidity": 0.2
             }
            },
            "type": "bar"
           }
          ],
          "barpolar": [
           {
            "marker": {
             "line": {
              "color": "#E5ECF6",
              "width": 0.5
             },
             "pattern": {
              "fillmode": "overlay",
              "size": 10,
              "solidity": 0.2
             }
            },
            "type": "barpolar"
           }
          ],
          "carpet": [
           {
            "aaxis": {
             "endlinecolor": "#2a3f5f",
             "gridcolor": "white",
             "linecolor": "white",
             "minorgridcolor": "white",
             "startlinecolor": "#2a3f5f"
            },
            "baxis": {
             "endlinecolor": "#2a3f5f",
             "gridcolor": "white",
             "linecolor": "white",
             "minorgridcolor": "white",
             "startlinecolor": "#2a3f5f"
            },
            "type": "carpet"
           }
          ],
          "choropleth": [
           {
            "colorbar": {
             "outlinewidth": 0,
             "ticks": ""
            },
            "type": "choropleth"
           }
          ],
          "contour": [
           {
            "colorbar": {
             "outlinewidth": 0,
             "ticks": ""
            },
            "colorscale": [
             [
              0,
              "#0d0887"
             ],
             [
              0.1111111111111111,
              "#46039f"
             ],
             [
              0.2222222222222222,
              "#7201a8"
             ],
             [
              0.3333333333333333,
              "#9c179e"
             ],
             [
              0.4444444444444444,
              "#bd3786"
             ],
             [
              0.5555555555555556,
              "#d8576b"
             ],
             [
              0.6666666666666666,
              "#ed7953"
             ],
             [
              0.7777777777777778,
              "#fb9f3a"
             ],
             [
              0.8888888888888888,
              "#fdca26"
             ],
             [
              1,
              "#f0f921"
             ]
            ],
            "type": "contour"
           }
          ],
          "contourcarpet": [
           {
            "colorbar": {
             "outlinewidth": 0,
             "ticks": ""
            },
            "type": "contourcarpet"
           }
          ],
          "heatmap": [
           {
            "colorbar": {
             "outlinewidth": 0,
             "ticks": ""
            },
            "colorscale": [
             [
              0,
              "#0d0887"
             ],
             [
              0.1111111111111111,
              "#46039f"
             ],
             [
              0.2222222222222222,
              "#7201a8"
             ],
             [
              0.3333333333333333,
              "#9c179e"
             ],
             [
              0.4444444444444444,
              "#bd3786"
             ],
             [
              0.5555555555555556,
              "#d8576b"
             ],
             [
              0.6666666666666666,
              "#ed7953"
             ],
             [
              0.7777777777777778,
              "#fb9f3a"
             ],
             [
              0.8888888888888888,
              "#fdca26"
             ],
             [
              1,
              "#f0f921"
             ]
            ],
            "type": "heatmap"
           }
          ],
          "heatmapgl": [
           {
            "colorbar": {
             "outlinewidth": 0,
             "ticks": ""
            },
            "colorscale": [
             [
              0,
              "#0d0887"
             ],
             [
              0.1111111111111111,
              "#46039f"
             ],
             [
              0.2222222222222222,
              "#7201a8"
             ],
             [
              0.3333333333333333,
              "#9c179e"
             ],
             [
              0.4444444444444444,
              "#bd3786"
             ],
             [
              0.5555555555555556,
              "#d8576b"
             ],
             [
              0.6666666666666666,
              "#ed7953"
             ],
             [
              0.7777777777777778,
              "#fb9f3a"
             ],
             [
              0.8888888888888888,
              "#fdca26"
             ],
             [
              1,
              "#f0f921"
             ]
            ],
            "type": "heatmapgl"
           }
          ],
          "histogram": [
           {
            "marker": {
             "pattern": {
              "fillmode": "overlay",
              "size": 10,
              "solidity": 0.2
             }
            },
            "type": "histogram"
           }
          ],
          "histogram2d": [
           {
            "colorbar": {
             "outlinewidth": 0,
             "ticks": ""
            },
            "colorscale": [
             [
              0,
              "#0d0887"
             ],
             [
              0.1111111111111111,
              "#46039f"
             ],
             [
              0.2222222222222222,
              "#7201a8"
             ],
             [
              0.3333333333333333,
              "#9c179e"
             ],
             [
              0.4444444444444444,
              "#bd3786"
             ],
             [
              0.5555555555555556,
              "#d8576b"
             ],
             [
              0.6666666666666666,
              "#ed7953"
             ],
             [
              0.7777777777777778,
              "#fb9f3a"
             ],
             [
              0.8888888888888888,
              "#fdca26"
             ],
             [
              1,
              "#f0f921"
             ]
            ],
            "type": "histogram2d"
           }
          ],
          "histogram2dcontour": [
           {
            "colorbar": {
             "outlinewidth": 0,
             "ticks": ""
            },
            "colorscale": [
             [
              0,
              "#0d0887"
             ],
             [
              0.1111111111111111,
              "#46039f"
             ],
             [
              0.2222222222222222,
              "#7201a8"
             ],
             [
              0.3333333333333333,
              "#9c179e"
             ],
             [
              0.4444444444444444,
              "#bd3786"
             ],
             [
              0.5555555555555556,
              "#d8576b"
             ],
             [
              0.6666666666666666,
              "#ed7953"
             ],
             [
              0.7777777777777778,
              "#fb9f3a"
             ],
             [
              0.8888888888888888,
              "#fdca26"
             ],
             [
              1,
              "#f0f921"
             ]
            ],
            "type": "histogram2dcontour"
           }
          ],
          "mesh3d": [
           {
            "colorbar": {
             "outlinewidth": 0,
             "ticks": ""
            },
            "type": "mesh3d"
           }
          ],
          "parcoords": [
           {
            "line": {
             "colorbar": {
              "outlinewidth": 0,
              "ticks": ""
             }
            },
            "type": "parcoords"
           }
          ],
          "pie": [
           {
            "automargin": true,
            "type": "pie"
           }
          ],
          "scatter": [
           {
            "fillpattern": {
             "fillmode": "overlay",
             "size": 10,
             "solidity": 0.2
            },
            "type": "scatter"
           }
          ],
          "scatter3d": [
           {
            "line": {
             "colorbar": {
              "outlinewidth": 0,
              "ticks": ""
             }
            },
            "marker": {
             "colorbar": {
              "outlinewidth": 0,
              "ticks": ""
             }
            },
            "type": "scatter3d"
           }
          ],
          "scattercarpet": [
           {
            "marker": {
             "colorbar": {
              "outlinewidth": 0,
              "ticks": ""
             }
            },
            "type": "scattercarpet"
           }
          ],
          "scattergeo": [
           {
            "marker": {
             "colorbar": {
              "outlinewidth": 0,
              "ticks": ""
             }
            },
            "type": "scattergeo"
           }
          ],
          "scattergl": [
           {
            "marker": {
             "colorbar": {
              "outlinewidth": 0,
              "ticks": ""
             }
            },
            "type": "scattergl"
           }
          ],
          "scattermapbox": [
           {
            "marker": {
             "colorbar": {
              "outlinewidth": 0,
              "ticks": ""
             }
            },
            "type": "scattermapbox"
           }
          ],
          "scatterpolar": [
           {
            "marker": {
             "colorbar": {
              "outlinewidth": 0,
              "ticks": ""
             }
            },
            "type": "scatterpolar"
           }
          ],
          "scatterpolargl": [
           {
            "marker": {
             "colorbar": {
              "outlinewidth": 0,
              "ticks": ""
             }
            },
            "type": "scatterpolargl"
           }
          ],
          "scatterternary": [
           {
            "marker": {
             "colorbar": {
              "outlinewidth": 0,
              "ticks": ""
             }
            },
            "type": "scatterternary"
           }
          ],
          "surface": [
           {
            "colorbar": {
             "outlinewidth": 0,
             "ticks": ""
            },
            "colorscale": [
             [
              0,
              "#0d0887"
             ],
             [
              0.1111111111111111,
              "#46039f"
             ],
             [
              0.2222222222222222,
              "#7201a8"
             ],
             [
              0.3333333333333333,
              "#9c179e"
             ],
             [
              0.4444444444444444,
              "#bd3786"
             ],
             [
              0.5555555555555556,
              "#d8576b"
             ],
             [
              0.6666666666666666,
              "#ed7953"
             ],
             [
              0.7777777777777778,
              "#fb9f3a"
             ],
             [
              0.8888888888888888,
              "#fdca26"
             ],
             [
              1,
              "#f0f921"
             ]
            ],
            "type": "surface"
           }
          ],
          "table": [
           {
            "cells": {
             "fill": {
              "color": "#EBF0F8"
             },
             "line": {
              "color": "white"
             }
            },
            "header": {
             "fill": {
              "color": "#C8D4E3"
             },
             "line": {
              "color": "white"
             }
            },
            "type": "table"
           }
          ]
         },
         "layout": {
          "annotationdefaults": {
           "arrowcolor": "#2a3f5f",
           "arrowhead": 0,
           "arrowwidth": 1
          },
          "autotypenumbers": "strict",
          "coloraxis": {
           "colorbar": {
            "outlinewidth": 0,
            "ticks": ""
           }
          },
          "colorscale": {
           "diverging": [
            [
             0,
             "#8e0152"
            ],
            [
             0.1,
             "#c51b7d"
            ],
            [
             0.2,
             "#de77ae"
            ],
            [
             0.3,
             "#f1b6da"
            ],
            [
             0.4,
             "#fde0ef"
            ],
            [
             0.5,
             "#f7f7f7"
            ],
            [
             0.6,
             "#e6f5d0"
            ],
            [
             0.7,
             "#b8e186"
            ],
            [
             0.8,
             "#7fbc41"
            ],
            [
             0.9,
             "#4d9221"
            ],
            [
             1,
             "#276419"
            ]
           ],
           "sequential": [
            [
             0,
             "#0d0887"
            ],
            [
             0.1111111111111111,
             "#46039f"
            ],
            [
             0.2222222222222222,
             "#7201a8"
            ],
            [
             0.3333333333333333,
             "#9c179e"
            ],
            [
             0.4444444444444444,
             "#bd3786"
            ],
            [
             0.5555555555555556,
             "#d8576b"
            ],
            [
             0.6666666666666666,
             "#ed7953"
            ],
            [
             0.7777777777777778,
             "#fb9f3a"
            ],
            [
             0.8888888888888888,
             "#fdca26"
            ],
            [
             1,
             "#f0f921"
            ]
           ],
           "sequentialminus": [
            [
             0,
             "#0d0887"
            ],
            [
             0.1111111111111111,
             "#46039f"
            ],
            [
             0.2222222222222222,
             "#7201a8"
            ],
            [
             0.3333333333333333,
             "#9c179e"
            ],
            [
             0.4444444444444444,
             "#bd3786"
            ],
            [
             0.5555555555555556,
             "#d8576b"
            ],
            [
             0.6666666666666666,
             "#ed7953"
            ],
            [
             0.7777777777777778,
             "#fb9f3a"
            ],
            [
             0.8888888888888888,
             "#fdca26"
            ],
            [
             1,
             "#f0f921"
            ]
           ]
          },
          "colorway": [
           "#636efa",
           "#EF553B",
           "#00cc96",
           "#ab63fa",
           "#FFA15A",
           "#19d3f3",
           "#FF6692",
           "#B6E880",
           "#FF97FF",
           "#FECB52"
          ],
          "font": {
           "color": "#2a3f5f"
          },
          "geo": {
           "bgcolor": "white",
           "lakecolor": "white",
           "landcolor": "#E5ECF6",
           "showlakes": true,
           "showland": true,
           "subunitcolor": "white"
          },
          "hoverlabel": {
           "align": "left"
          },
          "hovermode": "closest",
          "mapbox": {
           "style": "light"
          },
          "paper_bgcolor": "white",
          "plot_bgcolor": "#E5ECF6",
          "polar": {
           "angularaxis": {
            "gridcolor": "white",
            "linecolor": "white",
            "ticks": ""
           },
           "bgcolor": "#E5ECF6",
           "radialaxis": {
            "gridcolor": "white",
            "linecolor": "white",
            "ticks": ""
           }
          },
          "scene": {
           "xaxis": {
            "backgroundcolor": "#E5ECF6",
            "gridcolor": "white",
            "gridwidth": 2,
            "linecolor": "white",
            "showbackground": true,
            "ticks": "",
            "zerolinecolor": "white"
           },
           "yaxis": {
            "backgroundcolor": "#E5ECF6",
            "gridcolor": "white",
            "gridwidth": 2,
            "linecolor": "white",
            "showbackground": true,
            "ticks": "",
            "zerolinecolor": "white"
           },
           "zaxis": {
            "backgroundcolor": "#E5ECF6",
            "gridcolor": "white",
            "gridwidth": 2,
            "linecolor": "white",
            "showbackground": true,
            "ticks": "",
            "zerolinecolor": "white"
           }
          },
          "shapedefaults": {
           "line": {
            "color": "#2a3f5f"
           }
          },
          "ternary": {
           "aaxis": {
            "gridcolor": "white",
            "linecolor": "white",
            "ticks": ""
           },
           "baxis": {
            "gridcolor": "white",
            "linecolor": "white",
            "ticks": ""
           },
           "bgcolor": "#E5ECF6",
           "caxis": {
            "gridcolor": "white",
            "linecolor": "white",
            "ticks": ""
           }
          },
          "title": {
           "x": 0.05
          },
          "xaxis": {
           "automargin": true,
           "gridcolor": "white",
           "linecolor": "white",
           "ticks": "",
           "title": {
            "standoff": 15
           },
           "zerolinecolor": "white",
           "zerolinewidth": 2
          },
          "yaxis": {
           "automargin": true,
           "gridcolor": "white",
           "linecolor": "white",
           "ticks": "",
           "title": {
            "standoff": 15
           },
           "zerolinecolor": "white",
           "zerolinewidth": 2
          }
         }
        },
        "title": {
         "text": "Obesity Rate vs Brewery Count"
        },
        "xaxis": {
         "anchor": "y",
         "domain": [
          0,
          1
         ],
         "title": {
          "text": "Obesity Rate"
         }
        },
        "yaxis": {
         "anchor": "x",
         "domain": [
          0,
          1
         ],
         "title": {
          "text": "brewery_count"
         }
        }
       }
      },
      "text/html": [
       "<div>                            <div id=\"94ca40dd-d7cf-4d12-8fba-751ba4402c28\" class=\"plotly-graph-div\" style=\"height:525px; width:100%;\"></div>            <script type=\"text/javascript\">                require([\"plotly\"], function(Plotly) {                    window.PLOTLYENV=window.PLOTLYENV || {};                                    if (document.getElementById(\"94ca40dd-d7cf-4d12-8fba-751ba4402c28\")) {                    Plotly.newPlot(                        \"94ca40dd-d7cf-4d12-8fba-751ba4402c28\",                        [{\"hovertemplate\":\"<b>%{hovertext}</b><br><br>Obesity Rate=%{x}<br>brewery_count=%{y}<extra></extra>\",\"hovertext\":[\"Texas\",\"California\",\"Kentucky\",\"Georgia\",\"Wisconsin\",\"Oregon\",\"Virginia\",\"Tennessee\",\"Louisiana\",\"New York\",\"Michigan\",\"Idaho\",\"Florida\",\"Alaska\",\"Montana\",\"Minnesota\",\"Nebraska\",\"Washington\",\"Ohio\",\"Illinois\",\"Missouri\",\"Iowa\",\"South Dakota\",\"Arkansas\",\"Mississippi\",\"Colorado\",\"North Carolina\",\"Utah\",\"Oklahoma\",\"Wyoming\",\"West Virginia\",\"Indiana\",\"Massachusetts\",\"Nevada\",\"Connecticut\",\"Rhode Island\",\"Alabama\",\"South Carolina\",\"Maine\",\"Hawaii\",\"Arizona\",\"New Mexico\",\"Maryland\",\"Delaware\",\"Pennsylvania\",\"Kansas\",\"Vermont\",\"New Jersey\",\"North Dakota\",\"New Hampshire\"],\"legendgroup\":\"\",\"marker\":{\"color\":\"#636efa\",\"symbol\":\"circle\"},\"mode\":\"markers\",\"name\":\"\",\"orientation\":\"v\",\"showlegend\":false,\"x\":[32.4,24.2,34.6,30.7,30.7,30.1,29.2,33.8,36.2,25.0,31.2,28.6,26.8,29.8,23.6,26.1,31.4,26.4,29.8,30.8,32.4,32.1,30.4,34.5,35.6,20.2,30.1,24.5,33.9,29.0,35.6,31.3,24.3,26.7,25.3,26.0,35.6,31.7,30.0,22.7,28.4,28.8,28.9,29.7,30.0,34.2,25.1,25.6,31.0,26.3],\"xaxis\":\"x\",\"y\":[293,801,55,81,206,272,220,91,35,381,354,62,274,45,82,169,56,406,276,234,126,89,41,41,16,400,278,38,39,46,36,142,146,45,67,31,37,70,107,20,111,78,91,26,309,40,57,101,22,72],\"yaxis\":\"y\",\"type\":\"scatter\"},{\"hovertemplate\":\"<b>OLS trendline</b><br>brewery_count = -13.102 * Obesity Rate + 527.84<br>R<sup>2</sup>=0.112147<br><br>Obesity Rate=%{x}<br>brewery_count=%{y} <b>(trend)</b><extra></extra>\",\"legendgroup\":\"\",\"marker\":{\"color\":\"#636efa\",\"symbol\":\"circle\"},\"mode\":\"lines\",\"name\":\"\",\"showlegend\":false,\"x\":[20.2,22.7,23.6,24.2,24.3,24.5,25.0,25.1,25.3,25.6,26.0,26.1,26.3,26.4,26.7,26.8,28.4,28.6,28.8,28.9,29.0,29.2,29.7,29.8,29.8,30.0,30.0,30.1,30.1,30.4,30.7,30.7,30.8,31.0,31.2,31.3,31.4,31.7,32.1,32.4,32.4,33.8,33.9,34.2,34.5,34.6,35.6,35.6,35.6,36.2],\"xaxis\":\"x\",\"y\":[263.1791932940944,230.4241550071622,218.63234122386655,210.77113203500284,209.46093050352556,206.84052744057095,200.28951978318452,198.97931825170724,196.35891518875263,192.4283105943208,187.18750446841165,185.87730293693437,183.25689987397976,181.94669834250254,178.01609374807066,176.70589221659333,155.74266771295675,153.12226465000214,150.50186158704759,149.1916600555703,147.88145852409303,145.26105546113843,138.710047803752,137.39984627227471,137.39984627227471,134.7794432093201,134.7794432093201,133.46924167784283,133.46924167784283,129.538637083411,125.60803248897912,125.60803248897912,124.29783095750179,121.67742789454724,119.05702483159268,117.74682330011535,116.43662176863813,112.50601717420625,107.26521104829703,103.3346064538652,103.3346064538652,84.99178501318323,83.6815834817059,79.75097888727402,75.82037429284219,74.51017276136486,61.408157446591986,61.408157446591986,61.408157446591986,53.54694825772822],\"yaxis\":\"y\",\"type\":\"scatter\"}],                        {\"template\":{\"data\":{\"histogram2dcontour\":[{\"type\":\"histogram2dcontour\",\"colorbar\":{\"outlinewidth\":0,\"ticks\":\"\"},\"colorscale\":[[0.0,\"#0d0887\"],[0.1111111111111111,\"#46039f\"],[0.2222222222222222,\"#7201a8\"],[0.3333333333333333,\"#9c179e\"],[0.4444444444444444,\"#bd3786\"],[0.5555555555555556,\"#d8576b\"],[0.6666666666666666,\"#ed7953\"],[0.7777777777777778,\"#fb9f3a\"],[0.8888888888888888,\"#fdca26\"],[1.0,\"#f0f921\"]]}],\"choropleth\":[{\"type\":\"choropleth\",\"colorbar\":{\"outlinewidth\":0,\"ticks\":\"\"}}],\"histogram2d\":[{\"type\":\"histogram2d\",\"colorbar\":{\"outlinewidth\":0,\"ticks\":\"\"},\"colorscale\":[[0.0,\"#0d0887\"],[0.1111111111111111,\"#46039f\"],[0.2222222222222222,\"#7201a8\"],[0.3333333333333333,\"#9c179e\"],[0.4444444444444444,\"#bd3786\"],[0.5555555555555556,\"#d8576b\"],[0.6666666666666666,\"#ed7953\"],[0.7777777777777778,\"#fb9f3a\"],[0.8888888888888888,\"#fdca26\"],[1.0,\"#f0f921\"]]}],\"heatmap\":[{\"type\":\"heatmap\",\"colorbar\":{\"outlinewidth\":0,\"ticks\":\"\"},\"colorscale\":[[0.0,\"#0d0887\"],[0.1111111111111111,\"#46039f\"],[0.2222222222222222,\"#7201a8\"],[0.3333333333333333,\"#9c179e\"],[0.4444444444444444,\"#bd3786\"],[0.5555555555555556,\"#d8576b\"],[0.6666666666666666,\"#ed7953\"],[0.7777777777777778,\"#fb9f3a\"],[0.8888888888888888,\"#fdca26\"],[1.0,\"#f0f921\"]]}],\"heatmapgl\":[{\"type\":\"heatmapgl\",\"colorbar\":{\"outlinewidth\":0,\"ticks\":\"\"},\"colorscale\":[[0.0,\"#0d0887\"],[0.1111111111111111,\"#46039f\"],[0.2222222222222222,\"#7201a8\"],[0.3333333333333333,\"#9c179e\"],[0.4444444444444444,\"#bd3786\"],[0.5555555555555556,\"#d8576b\"],[0.6666666666666666,\"#ed7953\"],[0.7777777777777778,\"#fb9f3a\"],[0.8888888888888888,\"#fdca26\"],[1.0,\"#f0f921\"]]}],\"contourcarpet\":[{\"type\":\"contourcarpet\",\"colorbar\":{\"outlinewidth\":0,\"ticks\":\"\"}}],\"contour\":[{\"type\":\"contour\",\"colorbar\":{\"outlinewidth\":0,\"ticks\":\"\"},\"colorscale\":[[0.0,\"#0d0887\"],[0.1111111111111111,\"#46039f\"],[0.2222222222222222,\"#7201a8\"],[0.3333333333333333,\"#9c179e\"],[0.4444444444444444,\"#bd3786\"],[0.5555555555555556,\"#d8576b\"],[0.6666666666666666,\"#ed7953\"],[0.7777777777777778,\"#fb9f3a\"],[0.8888888888888888,\"#fdca26\"],[1.0,\"#f0f921\"]]}],\"surface\":[{\"type\":\"surface\",\"colorbar\":{\"outlinewidth\":0,\"ticks\":\"\"},\"colorscale\":[[0.0,\"#0d0887\"],[0.1111111111111111,\"#46039f\"],[0.2222222222222222,\"#7201a8\"],[0.3333333333333333,\"#9c179e\"],[0.4444444444444444,\"#bd3786\"],[0.5555555555555556,\"#d8576b\"],[0.6666666666666666,\"#ed7953\"],[0.7777777777777778,\"#fb9f3a\"],[0.8888888888888888,\"#fdca26\"],[1.0,\"#f0f921\"]]}],\"mesh3d\":[{\"type\":\"mesh3d\",\"colorbar\":{\"outlinewidth\":0,\"ticks\":\"\"}}],\"scatter\":[{\"fillpattern\":{\"fillmode\":\"overlay\",\"size\":10,\"solidity\":0.2},\"type\":\"scatter\"}],\"parcoords\":[{\"type\":\"parcoords\",\"line\":{\"colorbar\":{\"outlinewidth\":0,\"ticks\":\"\"}}}],\"scatterpolargl\":[{\"type\":\"scatterpolargl\",\"marker\":{\"colorbar\":{\"outlinewidth\":0,\"ticks\":\"\"}}}],\"bar\":[{\"error_x\":{\"color\":\"#2a3f5f\"},\"error_y\":{\"color\":\"#2a3f5f\"},\"marker\":{\"line\":{\"color\":\"#E5ECF6\",\"width\":0.5},\"pattern\":{\"fillmode\":\"overlay\",\"size\":10,\"solidity\":0.2}},\"type\":\"bar\"}],\"scattergeo\":[{\"type\":\"scattergeo\",\"marker\":{\"colorbar\":{\"outlinewidth\":0,\"ticks\":\"\"}}}],\"scatterpolar\":[{\"type\":\"scatterpolar\",\"marker\":{\"colorbar\":{\"outlinewidth\":0,\"ticks\":\"\"}}}],\"histogram\":[{\"marker\":{\"pattern\":{\"fillmode\":\"overlay\",\"size\":10,\"solidity\":0.2}},\"type\":\"histogram\"}],\"scattergl\":[{\"type\":\"scattergl\",\"marker\":{\"colorbar\":{\"outlinewidth\":0,\"ticks\":\"\"}}}],\"scatter3d\":[{\"type\":\"scatter3d\",\"line\":{\"colorbar\":{\"outlinewidth\":0,\"ticks\":\"\"}},\"marker\":{\"colorbar\":{\"outlinewidth\":0,\"ticks\":\"\"}}}],\"scattermapbox\":[{\"type\":\"scattermapbox\",\"marker\":{\"colorbar\":{\"outlinewidth\":0,\"ticks\":\"\"}}}],\"scatterternary\":[{\"type\":\"scatterternary\",\"marker\":{\"colorbar\":{\"outlinewidth\":0,\"ticks\":\"\"}}}],\"scattercarpet\":[{\"type\":\"scattercarpet\",\"marker\":{\"colorbar\":{\"outlinewidth\":0,\"ticks\":\"\"}}}],\"carpet\":[{\"aaxis\":{\"endlinecolor\":\"#2a3f5f\",\"gridcolor\":\"white\",\"linecolor\":\"white\",\"minorgridcolor\":\"white\",\"startlinecolor\":\"#2a3f5f\"},\"baxis\":{\"endlinecolor\":\"#2a3f5f\",\"gridcolor\":\"white\",\"linecolor\":\"white\",\"minorgridcolor\":\"white\",\"startlinecolor\":\"#2a3f5f\"},\"type\":\"carpet\"}],\"table\":[{\"cells\":{\"fill\":{\"color\":\"#EBF0F8\"},\"line\":{\"color\":\"white\"}},\"header\":{\"fill\":{\"color\":\"#C8D4E3\"},\"line\":{\"color\":\"white\"}},\"type\":\"table\"}],\"barpolar\":[{\"marker\":{\"line\":{\"color\":\"#E5ECF6\",\"width\":0.5},\"pattern\":{\"fillmode\":\"overlay\",\"size\":10,\"solidity\":0.2}},\"type\":\"barpolar\"}],\"pie\":[{\"automargin\":true,\"type\":\"pie\"}]},\"layout\":{\"autotypenumbers\":\"strict\",\"colorway\":[\"#636efa\",\"#EF553B\",\"#00cc96\",\"#ab63fa\",\"#FFA15A\",\"#19d3f3\",\"#FF6692\",\"#B6E880\",\"#FF97FF\",\"#FECB52\"],\"font\":{\"color\":\"#2a3f5f\"},\"hovermode\":\"closest\",\"hoverlabel\":{\"align\":\"left\"},\"paper_bgcolor\":\"white\",\"plot_bgcolor\":\"#E5ECF6\",\"polar\":{\"bgcolor\":\"#E5ECF6\",\"angularaxis\":{\"gridcolor\":\"white\",\"linecolor\":\"white\",\"ticks\":\"\"},\"radialaxis\":{\"gridcolor\":\"white\",\"linecolor\":\"white\",\"ticks\":\"\"}},\"ternary\":{\"bgcolor\":\"#E5ECF6\",\"aaxis\":{\"gridcolor\":\"white\",\"linecolor\":\"white\",\"ticks\":\"\"},\"baxis\":{\"gridcolor\":\"white\",\"linecolor\":\"white\",\"ticks\":\"\"},\"caxis\":{\"gridcolor\":\"white\",\"linecolor\":\"white\",\"ticks\":\"\"}},\"coloraxis\":{\"colorbar\":{\"outlinewidth\":0,\"ticks\":\"\"}},\"colorscale\":{\"sequential\":[[0.0,\"#0d0887\"],[0.1111111111111111,\"#46039f\"],[0.2222222222222222,\"#7201a8\"],[0.3333333333333333,\"#9c179e\"],[0.4444444444444444,\"#bd3786\"],[0.5555555555555556,\"#d8576b\"],[0.6666666666666666,\"#ed7953\"],[0.7777777777777778,\"#fb9f3a\"],[0.8888888888888888,\"#fdca26\"],[1.0,\"#f0f921\"]],\"sequentialminus\":[[0.0,\"#0d0887\"],[0.1111111111111111,\"#46039f\"],[0.2222222222222222,\"#7201a8\"],[0.3333333333333333,\"#9c179e\"],[0.4444444444444444,\"#bd3786\"],[0.5555555555555556,\"#d8576b\"],[0.6666666666666666,\"#ed7953\"],[0.7777777777777778,\"#fb9f3a\"],[0.8888888888888888,\"#fdca26\"],[1.0,\"#f0f921\"]],\"diverging\":[[0,\"#8e0152\"],[0.1,\"#c51b7d\"],[0.2,\"#de77ae\"],[0.3,\"#f1b6da\"],[0.4,\"#fde0ef\"],[0.5,\"#f7f7f7\"],[0.6,\"#e6f5d0\"],[0.7,\"#b8e186\"],[0.8,\"#7fbc41\"],[0.9,\"#4d9221\"],[1,\"#276419\"]]},\"xaxis\":{\"gridcolor\":\"white\",\"linecolor\":\"white\",\"ticks\":\"\",\"title\":{\"standoff\":15},\"zerolinecolor\":\"white\",\"automargin\":true,\"zerolinewidth\":2},\"yaxis\":{\"gridcolor\":\"white\",\"linecolor\":\"white\",\"ticks\":\"\",\"title\":{\"standoff\":15},\"zerolinecolor\":\"white\",\"automargin\":true,\"zerolinewidth\":2},\"scene\":{\"xaxis\":{\"backgroundcolor\":\"#E5ECF6\",\"gridcolor\":\"white\",\"linecolor\":\"white\",\"showbackground\":true,\"ticks\":\"\",\"zerolinecolor\":\"white\",\"gridwidth\":2},\"yaxis\":{\"backgroundcolor\":\"#E5ECF6\",\"gridcolor\":\"white\",\"linecolor\":\"white\",\"showbackground\":true,\"ticks\":\"\",\"zerolinecolor\":\"white\",\"gridwidth\":2},\"zaxis\":{\"backgroundcolor\":\"#E5ECF6\",\"gridcolor\":\"white\",\"linecolor\":\"white\",\"showbackground\":true,\"ticks\":\"\",\"zerolinecolor\":\"white\",\"gridwidth\":2}},\"shapedefaults\":{\"line\":{\"color\":\"#2a3f5f\"}},\"annotationdefaults\":{\"arrowcolor\":\"#2a3f5f\",\"arrowhead\":0,\"arrowwidth\":1},\"geo\":{\"bgcolor\":\"white\",\"landcolor\":\"#E5ECF6\",\"subunitcolor\":\"white\",\"showland\":true,\"showlakes\":true,\"lakecolor\":\"white\"},\"title\":{\"x\":0.05},\"mapbox\":{\"style\":\"light\"}}},\"xaxis\":{\"anchor\":\"y\",\"domain\":[0.0,1.0],\"title\":{\"text\":\"Obesity Rate\"}},\"yaxis\":{\"anchor\":\"x\",\"domain\":[0.0,1.0],\"title\":{\"text\":\"brewery_count\"}},\"legend\":{\"tracegroupgap\":0},\"title\":{\"text\":\"Obesity Rate vs Brewery Count\"}},                        {\"responsive\": true}                    ).then(function(){\n",
       "                            \n",
       "var gd = document.getElementById('94ca40dd-d7cf-4d12-8fba-751ba4402c28');\n",
       "var x = new MutationObserver(function (mutations, observer) {{\n",
       "        var display = window.getComputedStyle(gd).display;\n",
       "        if (!display || display === 'none') {{\n",
       "            console.log([gd, 'removed!']);\n",
       "            Plotly.purge(gd);\n",
       "            observer.disconnect();\n",
       "        }}\n",
       "}});\n",
       "\n",
       "// Listen for the removal of the full notebook cells\n",
       "var notebookContainer = gd.closest('#notebook-container');\n",
       "if (notebookContainer) {{\n",
       "    x.observe(notebookContainer, {childList: true});\n",
       "}}\n",
       "\n",
       "// Listen for the clearing of the current output cell\n",
       "var outputEl = gd.closest('.output');\n",
       "if (outputEl) {{\n",
       "    x.observe(outputEl, {childList: true});\n",
       "}}\n",
       "\n",
       "                        })                };                });            </script>        </div>"
      ]
     },
     "metadata": {},
     "output_type": "display_data"
    }
   ],
   "source": []
  },
  {
   "cell_type": "code",
   "execution_count": null,
   "id": "70c2cc42",
   "metadata": {},
   "outputs": [],
   "source": []
  }
 ],
 "metadata": {
  "kernelspec": {
   "display_name": "Python 3 (ipykernel)",
   "language": "python",
   "name": "python3"
  },
  "language_info": {
   "codemirror_mode": {
    "name": "ipython",
    "version": 3
   },
   "file_extension": ".py",
   "mimetype": "text/x-python",
   "name": "python",
   "nbconvert_exporter": "python",
   "pygments_lexer": "ipython3",
   "version": "3.9.12"
  }
 },
 "nbformat": 4,
 "nbformat_minor": 5
}
